{
 "cells": [
  {
   "cell_type": "code",
   "execution_count": 24,
   "id": "c01a8f71",
   "metadata": {},
   "outputs": [],
   "source": [
    "import tweepy\n",
    "import json\n",
    "import requests\n",
    "from nltk.corpus import stopwords # stopword examples, 'its', 'on', 'the', etc <---- will be helpful later\n",
    "# most pythonistas will rename pandas as pd, numpy as np, and datetime as dt for short (you don't have to)\n",
    "import pandas as pd\n",
    "import numpy as np\n",
    "import datetime as dt"
   ]
  },
  {
   "cell_type": "code",
   "execution_count": 26,
   "id": "6da4e3ee",
   "metadata": {},
   "outputs": [
    {
     "ename": "IndentationError",
     "evalue": "unindent does not match any outer indentation level (<tokenize>, line 11)",
     "output_type": "error",
     "traceback": [
      "\u001b[1;36m  File \u001b[1;32m<tokenize>:11\u001b[1;36m\u001b[0m\n\u001b[1;33m    = json.load(keys)\u001b[0m\n\u001b[1;37m    ^\u001b[0m\n\u001b[1;31mIndentationError\u001b[0m\u001b[1;31m:\u001b[0m unindent does not match any outer indentation level\n"
     ]
    }
   ],
   "source": [
    "# open file with keys and set the path to your credentials JSON file\n",
    "# you'll need to replace my file with yours\n",
    "credentials =\"keys.json\"\n",
    "with open(credentials, \"r\") as keys:\n",
    "    # open file with keys and set the path to your credentials JSON file\n",
    "# you'll need to replace my file with yours\n",
    "credentials =\"keys.json\"\n",
    "with open(credentials, \"r\") as keys:\n",
    "    api_tokens = json.load(keys)\n",
    "\n",
    " = json.load(keys)\n",
    "\n"
   ]
  },
  {
   "cell_type": "code",
   "execution_count": 27,
   "id": "3cc224b1",
   "metadata": {},
   "outputs": [
    {
     "ename": "NameError",
     "evalue": "name 'api_tokens' is not defined",
     "output_type": "error",
     "traceback": [
      "\u001b[1;31m---------------------------------------------------------------------------\u001b[0m",
      "\u001b[1;31mNameError\u001b[0m                                 Traceback (most recent call last)",
      "Cell \u001b[1;32mIn[27], line 1\u001b[0m\n\u001b[1;32m----> 1\u001b[0m bearer_token \u001b[38;5;241m=\u001b[39m \u001b[43mapi_tokens\u001b[49m[\u001b[38;5;124m\"\u001b[39m\u001b[38;5;124mbearer_token\u001b[39m\u001b[38;5;124m\"\u001b[39m]\n",
      "\u001b[1;31mNameError\u001b[0m: name 'api_tokens' is not defined"
     ]
    }
   ],
   "source": [
    "bearer_token = api_tokens[\"bearer_token\"]"
   ]
  },
  {
   "cell_type": "code",
   "execution_count": 9,
   "id": "e04d1040",
   "metadata": {},
   "outputs": [
    {
     "ename": "NameError",
     "evalue": "name 'bearer_token' is not defined",
     "output_type": "error",
     "traceback": [
      "\u001b[1;31m---------------------------------------------------------------------------\u001b[0m",
      "\u001b[1;31mNameError\u001b[0m                                 Traceback (most recent call last)",
      "Cell \u001b[1;32mIn[9], line 2\u001b[0m\n\u001b[0;32m      1\u001b[0m \u001b[38;5;66;03m# we only want status info so we won't need the higher level access\u001b[39;00m\n\u001b[1;32m----> 2\u001b[0m client \u001b[38;5;241m=\u001b[39m tweepy\u001b[38;5;241m.\u001b[39mClient(bearer_token\u001b[38;5;241m=\u001b[39m\u001b[43mbearer_token\u001b[49m)\n",
      "\u001b[1;31mNameError\u001b[0m: name 'bearer_token' is not defined"
     ]
    }
   ],
   "source": [
    "# we only want status info so we won't need the higher level access\n",
    "client = tweepy.Client(bearer_token=bearer_token)"
   ]
  },
  {
   "cell_type": "code",
   "execution_count": null,
   "id": "143b5d4d",
   "metadata": {},
   "outputs": [],
   "source": [
    "tweets_rangers = client.search_recent_tweets(\n",
    "    query = \"Rangers -is:retweet\",  # searches for #WPP while ignoring retweets\n",
    "    max_results = 100\n",
    ")\n",
    "\n",
    "tweets_rangers.data\n"
   ]
  },
  {
   "cell_type": "code",
   "execution_count": null,
   "id": "cdbdd894",
   "metadata": {},
   "outputs": [],
   "source": [
    "ranger_tweets = []\n",
    "for tweet in tweets_rangers.data:\n",
    "    ranger_tweets.append(tweet.text)\n",
    "    \n",
    "ranger_tweets\n"
   ]
  },
  {
   "cell_type": "code",
   "execution_count": null,
   "id": "7263c024",
   "metadata": {},
   "outputs": [],
   "source": [
    "tweets_charles = client.search_recent_tweets(\n",
    "    query = \"King Charles -is:retweet\",  # searches for #WPP while ignoring retweets\n",
    "    max_results = 100\n",
    ")\n",
    "\n",
    "tweets_charles.data\n"
   ]
  },
  {
   "cell_type": "code",
   "execution_count": null,
   "id": "be6bd631",
   "metadata": {},
   "outputs": [],
   "source": [
    "charles_tweets = []\n",
    "for tweet in tweets_charles.data:\n",
    "    charles_tweets.append(tweet.text)\n",
    "    \n",
    "charles_tweets"
   ]
  },
  {
   "cell_type": "code",
   "execution_count": null,
   "id": "ee45057f",
   "metadata": {},
   "outputs": [],
   "source": [
    "import nltk\n",
    "from nltk.corpus import stopwords\n",
    "\n",
    "def get_features(text):\n",
    "    # create array of words\n",
    "    text = text.lower()\n",
    "    words = text.split()\n",
    "    s_words = stopwords.words('english')\n",
    "    keywords = dict([(w, True) for w in words if w not in s_words and not w.isdigit() and '/' not in w])\n",
    "    \n",
    "    return keywords\n",
    "\n",
    "get_features(charles_tweets[50])"
   ]
  },
  {
   "cell_type": "code",
   "execution_count": null,
   "id": "bb7a6c1e",
   "metadata": {},
   "outputs": [],
   "source": [
    "label_features = {'rangers': [], 'King Charles': []}\n",
    "\n",
    "for tweet in ranger_tweets:\n",
    "    features = get_features(tweet)\n",
    "    label_features['rangers'].append(features)\n"
   ]
  },
  {
   "cell_type": "code",
   "execution_count": null,
   "id": "89125859",
   "metadata": {},
   "outputs": [],
   "source": [
    "\n",
    "for tweet in charles_tweets:\n",
    "    features = get_features(tweet)\n",
    "    label_features['King Charles'].append(features)\n"
   ]
  }
 ],
 "metadata": {
  "kernelspec": {
   "display_name": "Python 3 (ipykernel)",
   "language": "python",
   "name": "python3"
  },
  "language_info": {
   "codemirror_mode": {
    "name": "ipython",
    "version": 3
   },
   "file_extension": ".py",
   "mimetype": "text/x-python",
   "name": "python",
   "nbconvert_exporter": "python",
   "pygments_lexer": "ipython3",
   "version": "3.11.0"
  }
 },
 "nbformat": 4,
 "nbformat_minor": 5
}
