{
 "cells": [
  {
   "cell_type": "code",
   "execution_count": 2,
   "id": "fd432943",
   "metadata": {},
   "outputs": [],
   "source": [
    "#Importing all Libraries needed\n",
    "import requests\n",
    "from nltk.corpus import stopwords # stopword examples, 'its', 'on', 'the', etc <---- will be helpful later\n",
    "\n",
    "import pandas as pd\n",
    "import numpy as np\n",
    "import datetime as dt\n",
    "import requests as req\n",
    "import codecs\n",
    "import sys\n"
   ]
  },
  {
   "cell_type": "code",
   "execution_count": 3,
   "id": "102e93be",
   "metadata": {},
   "outputs": [],
   "source": [
    "#From the https://opendata.cityofnewyork.us/ intrested in the New_York_City_Leading_Causes_of_Death dataset.\n",
    "#Using indexing with wireframes \n",
    "path = 'New_York_City_Leading_Causes_of_Death.csv'\n",
    "# read the csv file and convert to a pandas DataFrame, store the DataFrame in \n",
    "# variable NYC_Death\n",
    "NYC_Death = pd.read_csv(path)\n"
   ]
  },
  {
   "cell_type": "code",
   "execution_count": 4,
   "id": "e0df24fd",
   "metadata": {},
   "outputs": [
    {
     "data": {
      "text/plain": [
       "Index(['Year', 'Leading Cause', 'Sex', 'Race Ethnicity', 'Deaths',\n",
       "       'Death Rate', 'Age Adjusted Death Rate'],\n",
       "      dtype='object')"
      ]
     },
     "execution_count": 4,
     "metadata": {},
     "output_type": "execute_result"
    }
   ],
   "source": [
    "#getting names of all the columns\n",
    "NYC_Death.columns"
   ]
  },
  {
   "cell_type": "code",
   "execution_count": 5,
   "id": "06ad94c4",
   "metadata": {},
   "outputs": [
    {
     "data": {
      "text/html": [
       "<div>\n",
       "<style scoped>\n",
       "    .dataframe tbody tr th:only-of-type {\n",
       "        vertical-align: middle;\n",
       "    }\n",
       "\n",
       "    .dataframe tbody tr th {\n",
       "        vertical-align: top;\n",
       "    }\n",
       "\n",
       "    .dataframe thead th {\n",
       "        text-align: right;\n",
       "    }\n",
       "</style>\n",
       "<table border=\"1\" class=\"dataframe\">\n",
       "  <thead>\n",
       "    <tr style=\"text-align: right;\">\n",
       "      <th></th>\n",
       "      <th>Year</th>\n",
       "      <th>Leading Cause</th>\n",
       "      <th>Sex</th>\n",
       "      <th>Race Ethnicity</th>\n",
       "      <th>Deaths</th>\n",
       "      <th>Death Rate</th>\n",
       "      <th>Age Adjusted Death Rate</th>\n",
       "    </tr>\n",
       "  </thead>\n",
       "  <tbody>\n",
       "    <tr>\n",
       "      <th>0</th>\n",
       "      <td>2011</td>\n",
       "      <td>Chronic Lower Respiratory Diseases (J40-J47)</td>\n",
       "      <td>M</td>\n",
       "      <td>White Non-Hispanic</td>\n",
       "      <td>444</td>\n",
       "      <td>33.3</td>\n",
       "      <td>27.8</td>\n",
       "    </tr>\n",
       "    <tr>\n",
       "      <th>1</th>\n",
       "      <td>2008</td>\n",
       "      <td>Malignant Neoplasms (Cancer: C00-C97)</td>\n",
       "      <td>M</td>\n",
       "      <td>White Non-Hispanic</td>\n",
       "      <td>3361</td>\n",
       "      <td>250.4</td>\n",
       "      <td>214.3</td>\n",
       "    </tr>\n",
       "    <tr>\n",
       "      <th>2</th>\n",
       "      <td>2010</td>\n",
       "      <td>Chronic Liver Disease and Cirrhosis (K70, K73)</td>\n",
       "      <td>M</td>\n",
       "      <td>Hispanic</td>\n",
       "      <td>150</td>\n",
       "      <td>13.1</td>\n",
       "      <td>17.6</td>\n",
       "    </tr>\n",
       "    <tr>\n",
       "      <th>3</th>\n",
       "      <td>2014</td>\n",
       "      <td>Malignant Neoplasms (Cancer: C00-C97)</td>\n",
       "      <td>M</td>\n",
       "      <td>Hispanic</td>\n",
       "      <td>1146</td>\n",
       "      <td>96</td>\n",
       "      <td>143.5</td>\n",
       "    </tr>\n",
       "    <tr>\n",
       "      <th>4</th>\n",
       "      <td>2014</td>\n",
       "      <td>Certain Conditions originating in the Perinata...</td>\n",
       "      <td>M</td>\n",
       "      <td>Not Stated/Unknown</td>\n",
       "      <td>25</td>\n",
       "      <td>.</td>\n",
       "      <td>.</td>\n",
       "    </tr>\n",
       "    <tr>\n",
       "      <th>...</th>\n",
       "      <td>...</td>\n",
       "      <td>...</td>\n",
       "      <td>...</td>\n",
       "      <td>...</td>\n",
       "      <td>...</td>\n",
       "      <td>...</td>\n",
       "      <td>...</td>\n",
       "    </tr>\n",
       "    <tr>\n",
       "      <th>1089</th>\n",
       "      <td>2011</td>\n",
       "      <td>Mental and Behavioral Disorders due to Acciden...</td>\n",
       "      <td>M</td>\n",
       "      <td>Hispanic</td>\n",
       "      <td>145</td>\n",
       "      <td>12.6</td>\n",
       "      <td>13</td>\n",
       "    </tr>\n",
       "    <tr>\n",
       "      <th>1090</th>\n",
       "      <td>2013</td>\n",
       "      <td>Influenza (Flu) and Pneumonia (J09-J18)</td>\n",
       "      <td>M</td>\n",
       "      <td>Hispanic</td>\n",
       "      <td>233</td>\n",
       "      <td>19.7</td>\n",
       "      <td>33.1</td>\n",
       "    </tr>\n",
       "    <tr>\n",
       "      <th>1091</th>\n",
       "      <td>2007</td>\n",
       "      <td>Diabetes Mellitus (E10-E14)</td>\n",
       "      <td>F</td>\n",
       "      <td>White Non-Hispanic</td>\n",
       "      <td>231</td>\n",
       "      <td>16.1</td>\n",
       "      <td>9.8</td>\n",
       "    </tr>\n",
       "    <tr>\n",
       "      <th>1092</th>\n",
       "      <td>2010</td>\n",
       "      <td>Insitu or Benign / Uncertain Neoplasms (D00-D48)</td>\n",
       "      <td>F</td>\n",
       "      <td>Other Race/ Ethnicity</td>\n",
       "      <td>.</td>\n",
       "      <td>.</td>\n",
       "      <td>.</td>\n",
       "    </tr>\n",
       "    <tr>\n",
       "      <th>1093</th>\n",
       "      <td>2012</td>\n",
       "      <td>Diabetes Mellitus (E10-E14)</td>\n",
       "      <td>M</td>\n",
       "      <td>White Non-Hispanic</td>\n",
       "      <td>292</td>\n",
       "      <td>21.8</td>\n",
       "      <td>18.1</td>\n",
       "    </tr>\n",
       "  </tbody>\n",
       "</table>\n",
       "<p>1094 rows × 7 columns</p>\n",
       "</div>"
      ],
      "text/plain": [
       "      Year                                      Leading Cause Sex  \\\n",
       "0     2011       Chronic Lower Respiratory Diseases (J40-J47)   M   \n",
       "1     2008              Malignant Neoplasms (Cancer: C00-C97)   M   \n",
       "2     2010     Chronic Liver Disease and Cirrhosis (K70, K73)   M   \n",
       "3     2014              Malignant Neoplasms (Cancer: C00-C97)   M   \n",
       "4     2014  Certain Conditions originating in the Perinata...   M   \n",
       "...    ...                                                ...  ..   \n",
       "1089  2011  Mental and Behavioral Disorders due to Acciden...   M   \n",
       "1090  2013            Influenza (Flu) and Pneumonia (J09-J18)   M   \n",
       "1091  2007                        Diabetes Mellitus (E10-E14)   F   \n",
       "1092  2010   Insitu or Benign / Uncertain Neoplasms (D00-D48)   F   \n",
       "1093  2012                        Diabetes Mellitus (E10-E14)   M   \n",
       "\n",
       "             Race Ethnicity Deaths Death Rate Age Adjusted Death Rate  \n",
       "0        White Non-Hispanic    444       33.3                    27.8  \n",
       "1        White Non-Hispanic   3361      250.4                   214.3  \n",
       "2                  Hispanic    150       13.1                    17.6  \n",
       "3                  Hispanic   1146         96                   143.5  \n",
       "4        Not Stated/Unknown     25          .                       .  \n",
       "...                     ...    ...        ...                     ...  \n",
       "1089               Hispanic    145       12.6                      13  \n",
       "1090               Hispanic    233       19.7                    33.1  \n",
       "1091     White Non-Hispanic    231       16.1                     9.8  \n",
       "1092  Other Race/ Ethnicity      .          .                       .  \n",
       "1093     White Non-Hispanic    292       21.8                    18.1  \n",
       "\n",
       "[1094 rows x 7 columns]"
      ]
     },
     "execution_count": 5,
     "metadata": {},
     "output_type": "execute_result"
    }
   ],
   "source": [
    "#looking at the information in the dataset\n",
    "NYC_Death\n"
   ]
  },
  {
   "cell_type": "code",
   "execution_count": 6,
   "id": "452bc3e9",
   "metadata": {},
   "outputs": [
    {
     "name": "stdout",
     "output_type": "stream",
     "text": [
      "Number of Rows: 1094\n"
     ]
    }
   ],
   "source": [
    "print('Number of Rows: ' + str(len(NYC_Death)))"
   ]
  },
  {
   "cell_type": "code",
   "execution_count": 7,
   "id": "5cc892ee",
   "metadata": {},
   "outputs": [
    {
     "data": {
      "text/plain": [
       "Year                         8\n",
       "Leading Cause               26\n",
       "Sex                          2\n",
       "Race Ethnicity               6\n",
       "Deaths                     465\n",
       "Death Rate                 442\n",
       "Age Adjusted Death Rate    427\n",
       "dtype: int64"
      ]
     },
     "execution_count": 7,
     "metadata": {},
     "output_type": "execute_result"
    }
   ],
   "source": [
    "#Clean and tidy the database to make it fully operational\n",
    "NYC_Death.nunique()"
   ]
  },
  {
   "cell_type": "code",
   "execution_count": 8,
   "id": "f211fd7e",
   "metadata": {},
   "outputs": [
    {
     "data": {
      "text/plain": [
       "(1094, 7)"
      ]
     },
     "execution_count": 8,
     "metadata": {},
     "output_type": "execute_result"
    }
   ],
   "source": [
    "NYC_Death.shape"
   ]
  },
  {
   "cell_type": "code",
   "execution_count": 9,
   "id": "c6f73f70",
   "metadata": {},
   "outputs": [
    {
     "data": {
      "text/plain": [
       "Year                       0\n",
       "Leading Cause              0\n",
       "Sex                        0\n",
       "Race Ethnicity             0\n",
       "Deaths                     0\n",
       "Death Rate                 0\n",
       "Age Adjusted Death Rate    0\n",
       "dtype: int64"
      ]
     },
     "execution_count": 9,
     "metadata": {},
     "output_type": "execute_result"
    }
   ],
   "source": [
    "# getting missing values in data\n",
    "NYC_Death.isnull().sum()"
   ]
  },
  {
   "cell_type": "code",
   "execution_count": 10,
   "id": "be801a5e",
   "metadata": {},
   "outputs": [
    {
     "name": "stdout",
     "output_type": "stream",
     "text": [
      "<class 'pandas.core.frame.DataFrame'>\n",
      "RangeIndex: 1094 entries, 0 to 1093\n",
      "Data columns (total 7 columns):\n",
      " #   Column                   Non-Null Count  Dtype \n",
      "---  ------                   --------------  ----- \n",
      " 0   Year                     1094 non-null   int64 \n",
      " 1   Leading Cause            1094 non-null   object\n",
      " 2   Sex                      1094 non-null   object\n",
      " 3   Race Ethnicity           1094 non-null   object\n",
      " 4   Deaths                   1094 non-null   object\n",
      " 5   Death Rate               1094 non-null   object\n",
      " 6   Age Adjusted Death Rate  1094 non-null   object\n",
      "dtypes: int64(1), object(6)\n",
      "memory usage: 60.0+ KB\n"
     ]
    }
   ],
   "source": [
    "#getting the information on types of values thast can be used\n",
    "NYC_Death.info ()"
   ]
  },
  {
   "cell_type": "code",
   "execution_count": 11,
   "id": "dd531f9d",
   "metadata": {},
   "outputs": [
    {
     "data": {
      "text/plain": [
       "Diseases of Heart (I00-I09, I11, I13, I20-I51)                                                                                       96\n",
       "Malignant Neoplasms (Cancer: C00-C97)                                                                                                96\n",
       "Influenza (Flu) and Pneumonia (J09-J18)                                                                                              96\n",
       "All Other Causes                                                                                                                     96\n",
       "Diabetes Mellitus (E10-E14)                                                                                                          92\n",
       "Cerebrovascular Disease (Stroke: I60-I69)                                                                                            90\n",
       "Chronic Lower Respiratory Diseases (J40-J47)                                                                                         88\n",
       "Accidents Except Drug Posioning (V01-X39, X43, X45-X59, Y85-Y86)                                                                     80\n",
       "Essential Hypertension and Renal Diseases (I10, I12)                                                                                 75\n",
       "Human Immunodeficiency Virus Disease (HIV: B20-B24)                                                                                  43\n",
       "Mental and Behavioral Disorders due to Accidental Poisoning and Other Psychoactive Substance Use (F11-F16, F18-F19, X40-X42, X44)    39\n",
       "Intentional Self-Harm (Suicide: X60-X84, Y87.0)                                                                                      38\n",
       "Alzheimer's Disease (G30)                                                                                                            32\n",
       "Chronic Liver Disease and Cirrhosis (K70, K73)                                                                                       29\n",
       "Certain Conditions originating in the Perinatal Period (P00-P96)                                                                     26\n",
       "Assault (Homicide: Y87.1, X85-Y09)                                                                                                   20\n",
       "Nephritis, Nephrotic Syndrome and Nephrisis (N00-N07, N17-N19, N25-N27)                                                              17\n",
       "Septicemia (A40-A41)                                                                                                                 13\n",
       "Congenital Malformations, Deformations, and Chromosomal Abnormalities (Q00-Q99)                                                       8\n",
       "Viral Hepatitis (B15-B19)                                                                                                             5\n",
       "Insitu or Benign / Uncertain Neoplasms (D00-D48)                                                                                      5\n",
       "Aortic Aneurysm and Dissection (I71)                                                                                                  3\n",
       "Atherosclerosis (I70)                                                                                                                 3\n",
       "Mental and Behavioral Disorders due to Use of Alcohol (F10)                                                                           2\n",
       "Tuberculosis (A16-A19)                                                                                                                1\n",
       "Parkinson's Disease (G20)                                                                                                             1\n",
       "Name: Leading Cause, dtype: int64"
      ]
     },
     "execution_count": 11,
     "metadata": {},
     "output_type": "execute_result"
    }
   ],
   "source": [
    "#looking at the the leading cause of deaths in NYC\n",
    "NYC_Death[\"Leading Cause\"].value_counts()"
   ]
  },
  {
   "cell_type": "code",
   "execution_count": 12,
   "id": "d76d0d7c",
   "metadata": {},
   "outputs": [
    {
     "name": "stdout",
     "output_type": "stream",
     "text": [
      "Sex                           F    M   All\n",
      "Race Ethnicity                            \n",
      "Asian and Pacific Islander   88   89   177\n",
      "Black Non-Hispanic           89   89   178\n",
      "Hispanic                     89   88   177\n",
      "Not Stated/Unknown          106   94   200\n",
      "Other Race/ Ethnicity        94   92   186\n",
      "White Non-Hispanic           88   88   176\n",
      "All                         554  540  1094\n",
      "Leading_Cause: 69.44337194337194 %\n"
     ]
    }
   ],
   "source": [
    "#cross refrencing with Race Ethnicity & Sex\n",
    "Death = pd.crosstab(index=NYC_Death['Race Ethnicity'], columns=NYC_Death['Sex'],margins=True)\n",
    "print(Death)\n",
    "print(\"Leading_Cause:\",43166/62160*100,\"%\")"
   ]
  },
  {
   "cell_type": "code",
   "execution_count": 13,
   "id": "40e6bc1e",
   "metadata": {},
   "outputs": [],
   "source": [
    "\n",
    "def death_features(Age, Sex, Race):\n",
    "    \n",
    "    return {'Age':Age, 'Sex':Sex,'Person':Race}\n"
   ]
  },
  {
   "cell_type": "code",
   "execution_count": 24,
   "id": "d6831de2",
   "metadata": {},
   "outputs": [
    {
     "name": "stdout",
     "output_type": "stream",
     "text": [
      "      Year                                      Leading Cause Sex  \\\n",
      "1     2008              Malignant Neoplasms (Cancer: C00-C97)   M   \n",
      "2     2010     Chronic Liver Disease and Cirrhosis (K70, K73)   M   \n",
      "3     2014              Malignant Neoplasms (Cancer: C00-C97)   M   \n",
      "4     2014  Certain Conditions originating in the Perinata...   M   \n",
      "5     2014            Influenza (Flu) and Pneumonia (J09-J18)   F   \n",
      "...    ...                                                ...  ..   \n",
      "1089  2011  Mental and Behavioral Disorders due to Acciden...   M   \n",
      "1090  2013            Influenza (Flu) and Pneumonia (J09-J18)   M   \n",
      "1091  2007                        Diabetes Mellitus (E10-E14)   F   \n",
      "1092  2010   Insitu or Benign / Uncertain Neoplasms (D00-D48)   F   \n",
      "1093  2012                        Diabetes Mellitus (E10-E14)   M   \n",
      "\n",
      "                  Race Ethnicity Deaths Death Rate Age Adjusted Death Rate  \n",
      "1             White Non-Hispanic   3361      250.4                   214.3  \n",
      "2                       Hispanic    150       13.1                    17.6  \n",
      "3                       Hispanic   1146         96                   143.5  \n",
      "4             Not Stated/Unknown     25          .                       .  \n",
      "5     Asian and Pacific Islander     80       12.8                    14.1  \n",
      "...                          ...    ...        ...                     ...  \n",
      "1089                    Hispanic    145       12.6                      13  \n",
      "1090                    Hispanic    233       19.7                    33.1  \n",
      "1091          White Non-Hispanic    231       16.1                     9.8  \n",
      "1092       Other Race/ Ethnicity      .          .                       .  \n",
      "1093          White Non-Hispanic    292       21.8                    18.1  \n",
      "\n",
      "[1093 rows x 7 columns]\n"
     ]
    }
   ],
   "source": [
    " print (NYC_Death[1:])"
   ]
  },
  {
   "cell_type": "code",
   "execution_count": 25,
   "id": "a032cbf1",
   "metadata": {},
   "outputs": [
    {
     "data": {
      "text/plain": [
       "[]"
      ]
     },
     "execution_count": 25,
     "metadata": {},
     "output_type": "execute_result"
    }
   ],
   "source": [
    "featuresets = [(death_features(Leading_Cause), p_Sex) for Leading_Cause, p_Sex in zipped_feature_and_labels ]\n",
    "featuresets"
   ]
  },
  {
   "cell_type": "code",
   "execution_count": 26,
   "id": "020631a3",
   "metadata": {},
   "outputs": [],
   "source": [
    "zipped_feature_and_labels = zip(NYC_Death['Age Adjusted Death Rate'], NYC_Death.Sex, NYC_Death['Race Ethnicity'], NYC_Death['Leading Cause'])\n",
    "\n",
    "\n"
   ]
  },
  {
   "cell_type": "code",
   "execution_count": 22,
   "id": "e0337b26",
   "metadata": {},
   "outputs": [],
   "source": [
    "Cause_Death = [(death_features(x,y,z),t) for x,y,z,t in zipped_feature_and_labels]"
   ]
  },
  {
   "cell_type": "code",
   "execution_count": 23,
   "id": "9e193e61",
   "metadata": {},
   "outputs": [
    {
     "name": "stdout",
     "output_type": "stream",
     "text": [
      "[({'Age': '27.8', 'Sex': 'M', 'Person': 'White Non-Hispanic'}, 'Chronic Lower Respiratory Diseases (J40-J47)'), ({'Age': '214.3', 'Sex': 'M', 'Person': 'White Non-Hispanic'}, 'Malignant Neoplasms (Cancer: C00-C97)'), ({'Age': '17.6', 'Sex': 'M', 'Person': 'Hispanic'}, 'Chronic Liver Disease and Cirrhosis (K70, K73)'), ({'Age': '143.5', 'Sex': 'M', 'Person': 'Hispanic'}, 'Malignant Neoplasms (Cancer: C00-C97)'), ({'Age': '.', 'Sex': 'M', 'Person': 'Not Stated/Unknown'}, 'Certain Conditions originating in the Perinatal Period (P00-P96)'), ({'Age': '14.1', 'Sex': 'F', 'Person': 'Asian and Pacific Islander'}, 'Influenza (Flu) and Pneumonia (J09-J18)'), ({'Age': '6.9', 'Sex': 'F', 'Person': 'Asian and Pacific Islander'}, 'Accidents Except Drug Posioning (V01-X39, X43, X45-X59, Y85-Y86)'), ({'Age': '19.1', 'Sex': 'M', 'Person': 'Black Non-Hispanic'}, 'Accidents Except Drug Posioning (V01-X39, X43, X45-X59, Y85-Y86)'), ({'Age': '8.8', 'Sex': 'M', 'Person': 'White Non-Hispanic'}, 'Essential Hypertension and Renal Diseases (I10, I12)'), ({'Age': '15.7', 'Sex': 'M', 'Person': 'Hispanic'}, 'Chronic Liver Disease and Cirrhosis (K70, K73)'), ({'Age': '.', 'Sex': 'M', 'Person': 'Not Stated/Unknown'}, 'Chronic Lower Respiratory Diseases (J40-J47)'), ({'Age': '21.3', 'Sex': 'F', 'Person': 'Black Non-Hispanic'}, 'Cerebrovascular Disease (Stroke: I60-I69)'), ({'Age': '8.5', 'Sex': 'F', 'Person': 'Black Non-Hispanic'}, 'Human Immunodeficiency Virus Disease (HIV: B20-B24)'), ({'Age': '26.4', 'Sex': 'M', 'Person': 'Black Non-Hispanic'}, 'Chronic Lower Respiratory Diseases (J40-J47)'), ({'Age': '.', 'Sex': 'F', 'Person': 'Other Race/ Ethnicity'}, 'All Other Causes'), ({'Age': '.', 'Sex': 'M', 'Person': 'Other Race/ Ethnicity'}, 'All Other Causes'), ({'Age': '.', 'Sex': 'F', 'Person': 'Other Race/ Ethnicity'}, 'Cerebrovascular Disease (Stroke: I60-I69)'), ({'Age': '17.2', 'Sex': 'M', 'Person': 'Hispanic'}, 'Cerebrovascular Disease (Stroke: I60-I69)'), ({'Age': '.', 'Sex': 'M', 'Person': 'Other Race/ Ethnicity'}, 'Diseases of Heart (I00-I09, I11, I13, I20-I51)'), ({'Age': '8.7', 'Sex': 'M', 'Person': 'Hispanic'}, 'Human Immunodeficiency Virus Disease (HIV: B20-B24)'), ({'Age': '.', 'Sex': 'F', 'Person': 'Not Stated/Unknown'}, 'Influenza (Flu) and Pneumonia (J09-J18)'), ({'Age': '22', 'Sex': 'M', 'Person': 'Black Non-Hispanic'}, 'Essential Hypertension and Renal Diseases (I10, I12)'), ({'Age': '15.5', 'Sex': 'M', 'Person': 'White Non-Hispanic'}, 'Mental and Behavioral Disorders due to Accidental Poisoning and Other Psychoactive Substance Use (F11-F16, F18-F19, X40-X42, X44)'), ({'Age': '11.6', 'Sex': 'F', 'Person': 'Black Non-Hispanic'}, 'Human Immunodeficiency Virus Disease (HIV: B20-B24)'), ({'Age': '35.5', 'Sex': 'M', 'Person': 'Black Non-Hispanic'}, 'Assault (Homicide: Y87.1, X85-Y09)'), ({'Age': '19.6', 'Sex': 'F', 'Person': 'Black Non-Hispanic'}, 'Essential Hypertension and Renal Diseases (I10, I12)'), ({'Age': '.', 'Sex': 'M', 'Person': 'Other Race/ Ethnicity'}, 'Influenza (Flu) and Pneumonia (J09-J18)'), ({'Age': '.', 'Sex': 'M', 'Person': 'Other Race/ Ethnicity'}, 'Aortic Aneurysm and Dissection (I71)'), ({'Age': '31.5', 'Sex': 'M', 'Person': 'Hispanic'}, 'Influenza (Flu) and Pneumonia (J09-J18)'), ({'Age': '10.9', 'Sex': 'F', 'Person': 'Asian and Pacific Islander'}, 'Diabetes Mellitus (E10-E14)'), ({'Age': '7.3', 'Sex': 'F', 'Person': 'White Non-Hispanic'}, 'Accidents Except Drug Posioning (V01-X39, X43, X45-X59, Y85-Y86)'), ({'Age': '.', 'Sex': 'M', 'Person': 'Other Race/ Ethnicity'}, 'Septicemia (A40-A41)'), ({'Age': '.', 'Sex': 'F', 'Person': 'Not Stated/Unknown'}, 'Congenital Malformations, Deformations, and Chromosomal Abnormalities (Q00-Q99)'), ({'Age': '14.3', 'Sex': 'M', 'Person': 'Asian and Pacific Islander'}, 'Diabetes Mellitus (E10-E14)'), ({'Age': '169.1', 'Sex': 'F', 'Person': 'Black Non-Hispanic'}, 'Diseases of Heart (I00-I09, I11, I13, I20-I51)'), ({'Age': '73.8', 'Sex': 'F', 'Person': 'Asian and Pacific Islander'}, 'Malignant Neoplasms (Cancer: C00-C97)'), ({'Age': '.', 'Sex': 'F', 'Person': 'Not Stated/Unknown'}, 'Cerebrovascular Disease (Stroke: I60-I69)'), ({'Age': '.', 'Sex': 'F', 'Person': 'Not Stated/Unknown'}, 'Influenza (Flu) and Pneumonia (J09-J18)'), ({'Age': '12.9', 'Sex': 'M', 'Person': 'Hispanic'}, 'Mental and Behavioral Disorders due to Accidental Poisoning and Other Psychoactive Substance Use (F11-F16, F18-F19, X40-X42, X44)'), ({'Age': '23.6', 'Sex': 'F', 'Person': 'Black Non-Hispanic'}, 'Cerebrovascular Disease (Stroke: I60-I69)'), ({'Age': '131.8', 'Sex': 'F', 'Person': 'Hispanic'}, 'Diseases of Heart (I00-I09, I11, I13, I20-I51)'), ({'Age': '.', 'Sex': 'F', 'Person': 'Other Race/ Ethnicity'}, 'Certain Conditions originating in the Perinatal Period (P00-P96)'), ({'Age': '15.4', 'Sex': 'F', 'Person': 'White Non-Hispanic'}, 'Cerebrovascular Disease (Stroke: I60-I69)'), ({'Age': '31.5', 'Sex': 'M', 'Person': 'Black Non-Hispanic'}, 'Assault (Homicide: Y87.1, X85-Y09)'), ({'Age': '18.1', 'Sex': 'M', 'Person': 'Black Non-Hispanic'}, 'Accidents Except Drug Posioning (V01-X39, X43, X45-X59, Y85-Y86)'), ({'Age': '.', 'Sex': 'M', 'Person': 'Not Stated/Unknown'}, 'Viral Hepatitis (B15-B19)'), ({'Age': '.', 'Sex': 'M', 'Person': 'Other Race/ Ethnicity'}, 'Cerebrovascular Disease (Stroke: I60-I69)'), ({'Age': '6.3', 'Sex': 'F', 'Person': 'Black Non-Hispanic'}, 'Nephritis, Nephrotic Syndrome and Nephrisis (N00-N07, N17-N19, N25-N27)'), ({'Age': '7.7', 'Sex': 'F', 'Person': 'White Non-Hispanic'}, 'Essential Hypertension and Renal Diseases (I10, I12)'), ({'Age': '.', 'Sex': 'F', 'Person': 'Not Stated/Unknown'}, 'Diseases of Heart (I00-I09, I11, I13, I20-I51)'), ({'Age': '29.2', 'Sex': 'M', 'Person': 'Hispanic'}, 'Diabetes Mellitus (E10-E14)'), ({'Age': '.', 'Sex': 'M', 'Person': 'Not Stated/Unknown'}, 'Mental and Behavioral Disorders due to Accidental Poisoning and Other Psychoactive Substance Use (F11-F16, F18-F19, X40-X42, X44)'), ({'Age': '.', 'Sex': 'M', 'Person': 'Other Race/ Ethnicity'}, 'Certain Conditions originating in the Perinatal Period (P00-P96)'), ({'Age': '14.6', 'Sex': 'F', 'Person': 'Asian and Pacific Islander'}, 'Influenza (Flu) and Pneumonia (J09-J18)'), ({'Age': '.', 'Sex': 'F', 'Person': 'Other Race/ Ethnicity'}, 'Influenza (Flu) and Pneumonia (J09-J18)'), ({'Age': '.', 'Sex': 'F', 'Person': 'Not Stated/Unknown'}, 'Certain Conditions originating in the Perinatal Period (P00-P96)'), ({'Age': '.', 'Sex': 'F', 'Person': 'Not Stated/Unknown'}, 'Influenza (Flu) and Pneumonia (J09-J18)'), ({'Age': '.', 'Sex': 'F', 'Person': 'Not Stated/Unknown'}, 'All Other Causes'), ({'Age': '194.2', 'Sex': 'F', 'Person': 'Black Non-Hispanic'}, 'Diseases of Heart (I00-I09, I11, I13, I20-I51)'), ({'Age': '5.3', 'Sex': 'F', 'Person': 'Hispanic'}, 'Accidents Except Drug Posioning (V01-X39, X43, X45-X59, Y85-Y86)'), ({'Age': '.', 'Sex': 'M', 'Person': 'Not Stated/Unknown'}, 'Chronic Lower Respiratory Diseases (J40-J47)'), ({'Age': '.', 'Sex': 'F', 'Person': 'Not Stated/Unknown'}, 'Chronic Lower Respiratory Diseases (J40-J47)'), ({'Age': '16.8', 'Sex': 'F', 'Person': 'Hispanic'}, 'Chronic Lower Respiratory Diseases (J40-J47)'), ({'Age': '.', 'Sex': 'F', 'Person': 'Not Stated/Unknown'}, 'Septicemia (A40-A41)'), ({'Age': '216.6', 'Sex': 'M', 'Person': 'White Non-Hispanic'}, 'Malignant Neoplasms (Cancer: C00-C97)'), ({'Age': '22.8', 'Sex': 'F', 'Person': 'Hispanic'}, 'Influenza (Flu) and Pneumonia (J09-J18)'), ({'Age': '8.5', 'Sex': 'F', 'Person': 'White Non-Hispanic'}, 'Accidents Except Drug Posioning (V01-X39, X43, X45-X59, Y85-Y86)'), ({'Age': '44.2', 'Sex': 'M', 'Person': 'Black Non-Hispanic'}, 'Human Immunodeficiency Virus Disease (HIV: B20-B24)'), ({'Age': '6.1', 'Sex': 'F', 'Person': 'White Non-Hispanic'}, 'Mental and Behavioral Disorders due to Accidental Poisoning and Other Psychoactive Substance Use (F11-F16, F18-F19, X40-X42, X44)'), ({'Age': '.', 'Sex': 'F', 'Person': 'Other Race/ Ethnicity'}, 'Cerebrovascular Disease (Stroke: I60-I69)'), ({'Age': '17.8', 'Sex': 'F', 'Person': 'Asian and Pacific Islander'}, 'Influenza (Flu) and Pneumonia (J09-J18)'), ({'Age': '18.5', 'Sex': 'M', 'Person': 'Asian and Pacific Islander'}, 'Chronic Lower Respiratory Diseases (J40-J47)'), ({'Age': '10.7', 'Sex': 'F', 'Person': 'Asian and Pacific Islander'}, 'Diabetes Mellitus (E10-E14)'), ({'Age': '93.9', 'Sex': 'F', 'Person': 'White Non-Hispanic'}, 'All Other Causes'), ({'Age': '.', 'Sex': 'M', 'Person': 'Other Race/ Ethnicity'}, 'Accidents Except Drug Posioning (V01-X39, X43, X45-X59, Y85-Y86)'), ({'Age': '.', 'Sex': 'F', 'Person': 'Not Stated/Unknown'}, 'Accidents Except Drug Posioning (V01-X39, X43, X45-X59, Y85-Y86)'), ({'Age': '.', 'Sex': 'F', 'Person': 'Not Stated/Unknown'}, 'Diabetes Mellitus (E10-E14)'), ({'Age': '.', 'Sex': 'F', 'Person': 'Not Stated/Unknown'}, 'Human Immunodeficiency Virus Disease (HIV: B20-B24)'), ({'Age': '15.2', 'Sex': 'F', 'Person': 'White Non-Hispanic'}, 'Cerebrovascular Disease (Stroke: I60-I69)'), ({'Age': '11.4', 'Sex': 'F', 'Person': 'Asian and Pacific Islander'}, 'Diabetes Mellitus (E10-E14)'), ({'Age': '27.3', 'Sex': 'M', 'Person': 'Hispanic'}, 'Diabetes Mellitus (E10-E14)'), ({'Age': '.', 'Sex': 'F', 'Person': 'Other Race/ Ethnicity'}, 'Diabetes Mellitus (E10-E14)'), ({'Age': '.', 'Sex': 'F', 'Person': 'Not Stated/Unknown'}, 'Cerebrovascular Disease (Stroke: I60-I69)'), ({'Age': '.', 'Sex': 'M', 'Person': 'Other Race/ Ethnicity'}, 'Certain Conditions originating in the Perinatal Period (P00-P96)'), ({'Age': '23.2', 'Sex': 'M', 'Person': 'Black Non-Hispanic'}, 'Human Immunodeficiency Virus Disease (HIV: B20-B24)'), ({'Age': '145.7', 'Sex': 'M', 'Person': 'White Non-Hispanic'}, 'All Other Causes'), ({'Age': '.', 'Sex': 'F', 'Person': 'Not Stated/Unknown'}, 'Chronic Liver Disease and Cirrhosis (K70, K73)'), ({'Age': '8', 'Sex': 'F', 'Person': 'Asian and Pacific Islander'}, 'Chronic Lower Respiratory Diseases (J40-J47)'), ({'Age': '.', 'Sex': 'F', 'Person': 'Not Stated/Unknown'}, 'Tuberculosis (A16-A19)'), ({'Age': '.', 'Sex': 'F', 'Person': 'Not Stated/Unknown'}, 'Certain Conditions originating in the Perinatal Period (P00-P96)'), ({'Age': '21.4', 'Sex': 'F', 'Person': 'White Non-Hispanic'}, 'Chronic Lower Respiratory Diseases (J40-J47)'), ({'Age': '26.4', 'Sex': 'M', 'Person': 'Black Non-Hispanic'}, 'Cerebrovascular Disease (Stroke: I60-I69)'), ({'Age': '6.5', 'Sex': 'F', 'Person': 'Hispanic'}, 'Human Immunodeficiency Virus Disease (HIV: B20-B24)'), ({'Age': '148.4', 'Sex': 'F', 'Person': 'Black Non-Hispanic'}, 'Malignant Neoplasms (Cancer: C00-C97)'), ({'Age': '4.6', 'Sex': 'F', 'Person': 'Asian and Pacific Islander'}, 'Essential Hypertension and Renal Diseases (I10, I12)'), ({'Age': '21.7', 'Sex': 'F', 'Person': 'Black Non-Hispanic'}, 'Cerebrovascular Disease (Stroke: I60-I69)'), ({'Age': '330.2', 'Sex': 'M', 'Person': 'Black Non-Hispanic'}, 'Diseases of Heart (I00-I09, I11, I13, I20-I51)'), ({'Age': '.', 'Sex': 'M', 'Person': 'Not Stated/Unknown'}, 'Malignant Neoplasms (Cancer: C00-C97)'), ({'Age': '25.4', 'Sex': 'M', 'Person': 'Hispanic'}, 'Diabetes Mellitus (E10-E14)'), ({'Age': '.', 'Sex': 'F', 'Person': 'Not Stated/Unknown'}, 'Diseases of Heart (I00-I09, I11, I13, I20-I51)'), ({'Age': '.', 'Sex': 'F', 'Person': 'Not Stated/Unknown'}, 'Certain Conditions originating in the Perinatal Period (P00-P96)'), ({'Age': '.', 'Sex': 'F', 'Person': 'Not Stated/Unknown'}, 'Chronic Lower Respiratory Diseases (J40-J47)'), ({'Age': '5.5', 'Sex': 'F', 'Person': 'Hispanic'}, 'Septicemia (A40-A41)'), ({'Age': '6.3', 'Sex': 'F', 'Person': 'Asian and Pacific Islander'}, 'Essential Hypertension and Renal Diseases (I10, I12)'), ({'Age': '13.4', 'Sex': 'M', 'Person': 'White Non-Hispanic'}, 'Intentional Self-Harm (Suicide: X60-X84, Y87.0)'), ({'Age': '.', 'Sex': 'M', 'Person': 'Not Stated/Unknown'}, 'Diseases of Heart (I00-I09, I11, I13, I20-I51)'), ({'Age': '17.9', 'Sex': 'F', 'Person': 'Black Non-Hispanic'}, 'Human Immunodeficiency Virus Disease (HIV: B20-B24)'), ({'Age': '20.8', 'Sex': 'F', 'Person': 'Black Non-Hispanic'}, 'Chronic Lower Respiratory Diseases (J40-J47)'), ({'Age': '166.3', 'Sex': 'M', 'Person': 'Asian and Pacific Islander'}, 'Diseases of Heart (I00-I09, I11, I13, I20-I51)'), ({'Age': '19.6', 'Sex': 'F', 'Person': 'Hispanic'}, 'Influenza (Flu) and Pneumonia (J09-J18)'), ({'Age': '18.2', 'Sex': 'M', 'Person': 'White Non-Hispanic'}, 'Diabetes Mellitus (E10-E14)'), ({'Age': '38.9', 'Sex': 'M', 'Person': 'Hispanic'}, 'Influenza (Flu) and Pneumonia (J09-J18)'), ({'Age': '6.3', 'Sex': 'M', 'Person': 'Asian and Pacific Islander'}, 'Intentional Self-Harm (Suicide: X60-X84, Y87.0)'), ({'Age': '195.1', 'Sex': 'M', 'Person': 'White Non-Hispanic'}, 'Malignant Neoplasms (Cancer: C00-C97)'), ({'Age': '.', 'Sex': 'M', 'Person': 'Other Race/ Ethnicity'}, 'Cerebrovascular Disease (Stroke: I60-I69)'), ({'Age': '.', 'Sex': 'F', 'Person': 'Not Stated/Unknown'}, 'Aortic Aneurysm and Dissection (I71)'), ({'Age': '.', 'Sex': 'M', 'Person': 'Other Race/ Ethnicity'}, 'Diabetes Mellitus (E10-E14)'), ({'Age': '13.9', 'Sex': 'M', 'Person': 'Hispanic'}, 'Accidents Except Drug Posioning (V01-X39, X43, X45-X59, Y85-Y86)'), ({'Age': '.', 'Sex': 'F', 'Person': 'Other Race/ Ethnicity'}, 'Accidents Except Drug Posioning (V01-X39, X43, X45-X59, Y85-Y86)'), ({'Age': '.', 'Sex': 'F', 'Person': 'Other Race/ Ethnicity'}, 'Cerebrovascular Disease (Stroke: I60-I69)'), ({'Age': '23.9', 'Sex': 'M', 'Person': 'Hispanic'}, 'Chronic Lower Respiratory Diseases (J40-J47)'), ({'Age': '.', 'Sex': 'M', 'Person': 'Other Race/ Ethnicity'}, 'Diabetes Mellitus (E10-E14)'), ({'Age': '42.9', 'Sex': 'M', 'Person': 'Black Non-Hispanic'}, 'Diabetes Mellitus (E10-E14)'), ({'Age': '.', 'Sex': 'F', 'Person': 'Not Stated/Unknown'}, 'Human Immunodeficiency Virus Disease (HIV: B20-B24)'), ({'Age': '162.4', 'Sex': 'M', 'Person': 'Black Non-Hispanic'}, 'All Other Causes'), ({'Age': '11.3', 'Sex': 'F', 'Person': 'Asian and Pacific Islander'}, 'Diabetes Mellitus (E10-E14)'), ({'Age': '35.5', 'Sex': 'M', 'Person': 'Hispanic'}, 'Influenza (Flu) and Pneumonia (J09-J18)'), ({'Age': '10.5', 'Sex': 'M', 'Person': 'Asian and Pacific Islander'}, 'Essential Hypertension and Renal Diseases (I10, I12)'), ({'Age': '.', 'Sex': 'F', 'Person': 'Other Race/ Ethnicity'}, 'All Other Causes'), ({'Age': '5.4', 'Sex': 'F', 'Person': 'Asian and Pacific Islander'}, \"Alzheimer's Disease (G30)\"), ({'Age': '128.8', 'Sex': 'F', 'Person': 'Black Non-Hispanic'}, 'All Other Causes'), ({'Age': '10.8', 'Sex': 'M', 'Person': 'Asian and Pacific Islander'}, 'Essential Hypertension and Renal Diseases (I10, I12)'), ({'Age': '7.4', 'Sex': 'F', 'Person': 'Black Non-Hispanic'}, 'Nephritis, Nephrotic Syndrome and Nephrisis (N00-N07, N17-N19, N25-N27)'), ({'Age': '16.7', 'Sex': 'M', 'Person': 'Hispanic'}, 'Chronic Liver Disease and Cirrhosis (K70, K73)'), ({'Age': '172.2', 'Sex': 'M', 'Person': 'Hispanic'}, 'Malignant Neoplasms (Cancer: C00-C97)'), ({'Age': '.', 'Sex': 'M', 'Person': 'Not Stated/Unknown'}, 'All Other Causes'), ({'Age': '.', 'Sex': 'F', 'Person': 'Not Stated/Unknown'}, 'Certain Conditions originating in the Perinatal Period (P00-P96)'), ({'Age': '16', 'Sex': 'F', 'Person': 'Hispanic'}, 'Cerebrovascular Disease (Stroke: I60-I69)'), ({'Age': '161.7', 'Sex': 'F', 'Person': 'Black Non-Hispanic'}, 'Malignant Neoplasms (Cancer: C00-C97)'), ({'Age': '3.5', 'Sex': 'F', 'Person': 'White Non-Hispanic'}, 'Nephritis, Nephrotic Syndrome and Nephrisis (N00-N07, N17-N19, N25-N27)'), ({'Age': '124.5', 'Sex': 'M', 'Person': 'Asian and Pacific Islander'}, 'Malignant Neoplasms (Cancer: C00-C97)'), ({'Age': '33', 'Sex': 'M', 'Person': 'Black Non-Hispanic'}, 'Cerebrovascular Disease (Stroke: I60-I69)'), ({'Age': '.', 'Sex': 'F', 'Person': 'Not Stated/Unknown'}, 'Cerebrovascular Disease (Stroke: I60-I69)'), ({'Age': '.', 'Sex': 'M', 'Person': 'Not Stated/Unknown'}, 'Assault (Homicide: Y87.1, X85-Y09)'), ({'Age': '.', 'Sex': 'M', 'Person': 'Not Stated/Unknown'}, 'Mental and Behavioral Disorders due to Accidental Poisoning and Other Psychoactive Substance Use (F11-F16, F18-F19, X40-X42, X44)'), ({'Age': '.', 'Sex': 'M', 'Person': 'Not Stated/Unknown'}, 'All Other Causes'), ({'Age': '20.6', 'Sex': 'M', 'Person': 'Hispanic'}, 'Accidents Except Drug Posioning (V01-X39, X43, X45-X59, Y85-Y86)'), ({'Age': '.', 'Sex': 'F', 'Person': 'Not Stated/Unknown'}, 'Insitu or Benign / Uncertain Neoplasms (D00-D48)'), ({'Age': '5.1', 'Sex': 'F', 'Person': 'Hispanic'}, 'Accidents Except Drug Posioning (V01-X39, X43, X45-X59, Y85-Y86)'), ({'Age': '.', 'Sex': 'F', 'Person': 'Not Stated/Unknown'}, 'Chronic Lower Respiratory Diseases (J40-J47)'), ({'Age': '.', 'Sex': 'M', 'Person': 'Other Race/ Ethnicity'}, 'Cerebrovascular Disease (Stroke: I60-I69)'), ({'Age': '160.5', 'Sex': 'F', 'Person': 'White Non-Hispanic'}, 'Malignant Neoplasms (Cancer: C00-C97)'), ({'Age': '31.8', 'Sex': 'M', 'Person': 'Black Non-Hispanic'}, 'Influenza (Flu) and Pneumonia (J09-J18)'), ({'Age': '17.7', 'Sex': 'F', 'Person': 'Black Non-Hispanic'}, 'Chronic Lower Respiratory Diseases (J40-J47)'), ({'Age': '29.7', 'Sex': 'M', 'Person': 'White Non-Hispanic'}, 'Influenza (Flu) and Pneumonia (J09-J18)'), ({'Age': '.', 'Sex': 'F', 'Person': 'Other Race/ Ethnicity'}, 'Diabetes Mellitus (E10-E14)'), ({'Age': '39.3', 'Sex': 'M', 'Person': 'White Non-Hispanic'}, 'Influenza (Flu) and Pneumonia (J09-J18)'), ({'Age': '17.6', 'Sex': 'F', 'Person': 'Asian and Pacific Islander'}, 'Cerebrovascular Disease (Stroke: I60-I69)'), ({'Age': '.', 'Sex': 'M', 'Person': 'Not Stated/Unknown'}, 'Certain Conditions originating in the Perinatal Period (P00-P96)'), ({'Age': '.', 'Sex': 'F', 'Person': 'Not Stated/Unknown'}, 'Mental and Behavioral Disorders due to Accidental Poisoning and Other Psychoactive Substance Use (F11-F16, F18-F19, X40-X42, X44)'), ({'Age': '22.9', 'Sex': 'M', 'Person': 'Asian and Pacific Islander'}, 'Chronic Lower Respiratory Diseases (J40-J47)'), ({'Age': '.', 'Sex': 'F', 'Person': 'Not Stated/Unknown'}, 'Accidents Except Drug Posioning (V01-X39, X43, X45-X59, Y85-Y86)'), ({'Age': '.', 'Sex': 'M', 'Person': 'Not Stated/Unknown'}, 'Intentional Self-Harm (Suicide: X60-X84, Y87.0)'), ({'Age': '.', 'Sex': 'F', 'Person': 'Not Stated/Unknown'}, 'Certain Conditions originating in the Perinatal Period (P00-P96)'), ({'Age': '33.8', 'Sex': 'F', 'Person': 'Black Non-Hispanic'}, 'Diabetes Mellitus (E10-E14)'), ({'Age': '16.9', 'Sex': 'M', 'Person': 'Hispanic'}, 'Accidents Except Drug Posioning (V01-X39, X43, X45-X59, Y85-Y86)'), ({'Age': '116.9', 'Sex': 'M', 'Person': 'Asian and Pacific Islander'}, 'Diseases of Heart (I00-I09, I11, I13, I20-I51)'), ({'Age': '.', 'Sex': 'F', 'Person': 'Not Stated/Unknown'}, 'Malignant Neoplasms (Cancer: C00-C97)'), ({'Age': '.', 'Sex': 'M', 'Person': 'Not Stated/Unknown'}, 'Diseases of Heart (I00-I09, I11, I13, I20-I51)'), ({'Age': '.', 'Sex': 'F', 'Person': 'Other Race/ Ethnicity'}, 'Influenza (Flu) and Pneumonia (J09-J18)'), ({'Age': '21.5', 'Sex': 'M', 'Person': 'Black Non-Hispanic'}, 'Assault (Homicide: Y87.1, X85-Y09)'), ({'Age': '7.2', 'Sex': 'F', 'Person': 'White Non-Hispanic'}, \"Alzheimer's Disease (G30)\"), ({'Age': '21.6', 'Sex': 'F', 'Person': 'White Non-Hispanic'}, 'Chronic Lower Respiratory Diseases (J40-J47)'), ({'Age': '23.1', 'Sex': 'M', 'Person': 'Hispanic'}, 'Human Immunodeficiency Virus Disease (HIV: B20-B24)'), ({'Age': '130.9', 'Sex': 'M', 'Person': 'White Non-Hispanic'}, 'All Other Causes'), ({'Age': '18.9', 'Sex': 'M', 'Person': 'Hispanic'}, 'Accidents Except Drug Posioning (V01-X39, X43, X45-X59, Y85-Y86)'), ({'Age': '17.9', 'Sex': 'F', 'Person': 'Hispanic'}, 'Diabetes Mellitus (E10-E14)'), ({'Age': '.', 'Sex': 'F', 'Person': 'Not Stated/Unknown'}, 'Essential Hypertension and Renal Diseases (I10, I12)'), ({'Age': '24.1', 'Sex': 'F', 'Person': 'Black Non-Hispanic'}, 'Influenza (Flu) and Pneumonia (J09-J18)'), ({'Age': '139.5', 'Sex': 'M', 'Person': 'White Non-Hispanic'}, 'All Other Causes'), ({'Age': '151.1', 'Sex': 'M', 'Person': 'Hispanic'}, 'All Other Causes'), ({'Age': '226.2', 'Sex': 'F', 'Person': 'White Non-Hispanic'}, 'Diseases of Heart (I00-I09, I11, I13, I20-I51)'), ({'Age': '.', 'Sex': 'F', 'Person': 'Other Race/ Ethnicity'}, 'Accidents Except Drug Posioning (V01-X39, X43, X45-X59, Y85-Y86)'), ({'Age': '21.8', 'Sex': 'M', 'Person': 'White Non-Hispanic'}, 'Chronic Lower Respiratory Diseases (J40-J47)'), ({'Age': '.', 'Sex': 'F', 'Person': 'Other Race/ Ethnicity'}, 'All Other Causes'), ({'Age': '277', 'Sex': 'M', 'Person': 'White Non-Hispanic'}, 'Diseases of Heart (I00-I09, I11, I13, I20-I51)'), ({'Age': '.', 'Sex': 'F', 'Person': 'Not Stated/Unknown'}, 'Malignant Neoplasms (Cancer: C00-C97)'), ({'Age': '244.3', 'Sex': 'M', 'Person': 'White Non-Hispanic'}, 'Diseases of Heart (I00-I09, I11, I13, I20-I51)'), ({'Age': '117.4', 'Sex': 'F', 'Person': 'Black Non-Hispanic'}, 'All Other Causes'), ({'Age': '.', 'Sex': 'M', 'Person': 'Not Stated/Unknown'}, 'Certain Conditions originating in the Perinatal Period (P00-P96)'), ({'Age': '141.3', 'Sex': 'M', 'Person': 'White Non-Hispanic'}, 'All Other Causes'), ({'Age': '4.9', 'Sex': 'M', 'Person': 'Asian and Pacific Islander'}, 'Nephritis, Nephrotic Syndrome and Nephrisis (N00-N07, N17-N19, N25-N27)'), ({'Age': '.', 'Sex': 'M', 'Person': 'Other Race/ Ethnicity'}, 'Essential Hypertension and Renal Diseases (I10, I12)'), ({'Age': '.', 'Sex': 'M', 'Person': 'Not Stated/Unknown'}, 'Congenital Malformations, Deformations, and Chromosomal Abnormalities (Q00-Q99)'), ({'Age': '21.8', 'Sex': 'M', 'Person': 'White Non-Hispanic'}, 'Chronic Lower Respiratory Diseases (J40-J47)'), ({'Age': '23.2', 'Sex': 'M', 'Person': 'Hispanic'}, 'Diabetes Mellitus (E10-E14)'), ({'Age': '130', 'Sex': 'M', 'Person': 'Asian and Pacific Islander'}, 'Diseases of Heart (I00-I09, I11, I13, I20-I51)'), ({'Age': '.', 'Sex': 'F', 'Person': 'Other Race/ Ethnicity'}, 'Diabetes Mellitus (E10-E14)'), ({'Age': '.', 'Sex': 'M', 'Person': 'Other Race/ Ethnicity'}, 'Mental and Behavioral Disorders due to Accidental Poisoning and Other Psychoactive Substance Use (F11-F16, F18-F19, X40-X42, X44)'), ({'Age': '280.7', 'Sex': 'M', 'Person': 'Black Non-Hispanic'}, 'Diseases of Heart (I00-I09, I11, I13, I20-I51)'), ({'Age': '264.7', 'Sex': 'M', 'Person': 'Black Non-Hispanic'}, 'Diseases of Heart (I00-I09, I11, I13, I20-I51)'), ({'Age': '.', 'Sex': 'M', 'Person': 'Not Stated/Unknown'}, 'Diseases of Heart (I00-I09, I11, I13, I20-I51)'), ({'Age': '.', 'Sex': 'F', 'Person': 'Not Stated/Unknown'}, 'Influenza (Flu) and Pneumonia (J09-J18)'), ({'Age': '.', 'Sex': 'M', 'Person': 'Not Stated/Unknown'}, 'All Other Causes'), ({'Age': '20.9', 'Sex': 'M', 'Person': 'Black Non-Hispanic'}, 'Essential Hypertension and Renal Diseases (I10, I12)'), ({'Age': '8.1', 'Sex': 'F', 'Person': 'Black Non-Hispanic'}, 'Septicemia (A40-A41)'), ({'Age': '.', 'Sex': 'F', 'Person': 'Other Race/ Ethnicity'}, 'Insitu or Benign / Uncertain Neoplasms (D00-D48)'), ({'Age': '17.2', 'Sex': 'M', 'Person': 'White Non-Hispanic'}, 'Cerebrovascular Disease (Stroke: I60-I69)'), ({'Age': '22.2', 'Sex': 'F', 'Person': 'White Non-Hispanic'}, 'Influenza (Flu) and Pneumonia (J09-J18)'), ({'Age': '.', 'Sex': 'M', 'Person': 'Other Race/ Ethnicity'}, 'Mental and Behavioral Disorders due to Use of Alcohol (F10)'), ({'Age': '7.4', 'Sex': 'F', 'Person': 'White Non-Hispanic'}, 'Accidents Except Drug Posioning (V01-X39, X43, X45-X59, Y85-Y86)'), ({'Age': '9.5', 'Sex': 'F', 'Person': 'Hispanic'}, 'Human Immunodeficiency Virus Disease (HIV: B20-B24)'), ({'Age': '3.5', 'Sex': 'F', 'Person': 'White Non-Hispanic'}, \"Alzheimer's Disease (G30)\"), ({'Age': '12.8', 'Sex': 'M', 'Person': 'Hispanic'}, 'Chronic Liver Disease and Cirrhosis (K70, K73)'), ({'Age': '20.6', 'Sex': 'F', 'Person': 'Black Non-Hispanic'}, 'Influenza (Flu) and Pneumonia (J09-J18)'), ({'Age': '15.6', 'Sex': 'F', 'Person': 'White Non-Hispanic'}, 'Cerebrovascular Disease (Stroke: I60-I69)'), ({'Age': '36.7', 'Sex': 'M', 'Person': 'White Non-Hispanic'}, 'Influenza (Flu) and Pneumonia (J09-J18)'), ({'Age': '4.7', 'Sex': 'F', 'Person': 'Hispanic'}, 'Mental and Behavioral Disorders due to Accidental Poisoning and Other Psychoactive Substance Use (F11-F16, F18-F19, X40-X42, X44)'), ({'Age': '.', 'Sex': 'F', 'Person': 'Not Stated/Unknown'}, 'Human Immunodeficiency Virus Disease (HIV: B20-B24)'), ({'Age': '29.1', 'Sex': 'M', 'Person': 'Black Non-Hispanic'}, 'Chronic Lower Respiratory Diseases (J40-J47)'), ({'Age': '.', 'Sex': 'F', 'Person': 'Other Race/ Ethnicity'}, \"Alzheimer's Disease (G30)\"), ({'Age': '26.1', 'Sex': 'M', 'Person': 'Hispanic'}, 'Diabetes Mellitus (E10-E14)'), ({'Age': '15.4', 'Sex': 'F', 'Person': 'Asian and Pacific Islander'}, 'Cerebrovascular Disease (Stroke: I60-I69)'), ({'Age': '247.3', 'Sex': 'F', 'Person': 'Black Non-Hispanic'}, 'Diseases of Heart (I00-I09, I11, I13, I20-I51)'), ({'Age': '40.2', 'Sex': 'M', 'Person': 'Black Non-Hispanic'}, 'Diabetes Mellitus (E10-E14)'), ({'Age': '318.9', 'Sex': 'M', 'Person': 'Black Non-Hispanic'}, 'Diseases of Heart (I00-I09, I11, I13, I20-I51)'), ({'Age': '51.6', 'Sex': 'F', 'Person': 'Asian and Pacific Islander'}, 'All Other Causes'), ({'Age': '.', 'Sex': 'F', 'Person': 'Other Race/ Ethnicity'}, 'Congenital Malformations, Deformations, and Chromosomal Abnormalities (Q00-Q99)'), ({'Age': '.', 'Sex': 'F', 'Person': 'Other Race/ Ethnicity'}, 'Nephritis, Nephrotic Syndrome and Nephrisis (N00-N07, N17-N19, N25-N27)'), ({'Age': '145.9', 'Sex': 'M', 'Person': 'Asian and Pacific Islander'}, 'Malignant Neoplasms (Cancer: C00-C97)'), ({'Age': '7.2', 'Sex': 'F', 'Person': 'White Non-Hispanic'}, 'Essential Hypertension and Renal Diseases (I10, I12)'), ({'Age': '18.3', 'Sex': 'M', 'Person': 'Hispanic'}, 'Chronic Lower Respiratory Diseases (J40-J47)'), ({'Age': '.', 'Sex': 'F', 'Person': 'Other Race/ Ethnicity'}, 'Essential Hypertension and Renal Diseases (I10, I12)'), ({'Age': '.', 'Sex': 'M', 'Person': 'Other Race/ Ethnicity'}, 'Chronic Liver Disease and Cirrhosis (K70, K73)'), ({'Age': '21.5', 'Sex': 'F', 'Person': 'Hispanic'}, 'Influenza (Flu) and Pneumonia (J09-J18)'), ({'Age': '.', 'Sex': 'F', 'Person': 'Not Stated/Unknown'}, 'Cerebrovascular Disease (Stroke: I60-I69)'), ({'Age': '160.6', 'Sex': 'F', 'Person': 'White Non-Hispanic'}, 'Diseases of Heart (I00-I09, I11, I13, I20-I51)'), ({'Age': '.', 'Sex': 'F', 'Person': 'Not Stated/Unknown'}, 'Accidents Except Drug Posioning (V01-X39, X43, X45-X59, Y85-Y86)'), ({'Age': '89.8', 'Sex': 'M', 'Person': 'Asian and Pacific Islander'}, 'All Other Causes'), ({'Age': '.', 'Sex': 'F', 'Person': 'Not Stated/Unknown'}, 'Human Immunodeficiency Virus Disease (HIV: B20-B24)'), ({'Age': '.', 'Sex': 'F', 'Person': 'Other Race/ Ethnicity'}, 'Aortic Aneurysm and Dissection (I71)'), ({'Age': '20.9', 'Sex': 'M', 'Person': 'Asian and Pacific Islander'}, 'Influenza (Flu) and Pneumonia (J09-J18)'), ({'Age': '5.2', 'Sex': 'F', 'Person': 'Asian and Pacific Islander'}, 'Chronic Lower Respiratory Diseases (J40-J47)'), ({'Age': '.', 'Sex': 'M', 'Person': 'Other Race/ Ethnicity'}, 'All Other Causes'), ({'Age': '16.9', 'Sex': 'M', 'Person': 'Asian and Pacific Islander'}, 'Chronic Lower Respiratory Diseases (J40-J47)'), ({'Age': '.', 'Sex': 'F', 'Person': 'Other Race/ Ethnicity'}, 'Malignant Neoplasms (Cancer: C00-C97)'), ({'Age': '30.9', 'Sex': 'M', 'Person': 'Black Non-Hispanic'}, 'Chronic Lower Respiratory Diseases (J40-J47)'), ({'Age': '9.2', 'Sex': 'F', 'Person': 'Black Non-Hispanic'}, \"Alzheimer's Disease (G30)\"), ({'Age': '21', 'Sex': 'F', 'Person': 'White Non-Hispanic'}, 'Chronic Lower Respiratory Diseases (J40-J47)'), ({'Age': '220.4', 'Sex': 'M', 'Person': 'Black Non-Hispanic'}, 'Malignant Neoplasms (Cancer: C00-C97)'), ({'Age': '31', 'Sex': 'M', 'Person': 'Black Non-Hispanic'}, 'Cerebrovascular Disease (Stroke: I60-I69)'), ({'Age': '27.6', 'Sex': 'M', 'Person': 'Black Non-Hispanic'}, 'Assault (Homicide: Y87.1, X85-Y09)'), ({'Age': '.', 'Sex': 'M', 'Person': 'Other Race/ Ethnicity'}, 'Assault (Homicide: Y87.1, X85-Y09)'), ({'Age': '.', 'Sex': 'M', 'Person': 'Other Race/ Ethnicity'}, 'Cerebrovascular Disease (Stroke: I60-I69)'), ({'Age': '.', 'Sex': 'F', 'Person': 'Not Stated/Unknown'}, 'Diabetes Mellitus (E10-E14)'), ({'Age': '10.1', 'Sex': 'F', 'Person': 'Hispanic'}, 'Essential Hypertension and Renal Diseases (I10, I12)'), ({'Age': '.', 'Sex': 'F', 'Person': 'Other Race/ Ethnicity'}, 'Chronic Lower Respiratory Diseases (J40-J47)'), ({'Age': '15.9', 'Sex': 'F', 'Person': 'Black Non-Hispanic'}, 'Essential Hypertension and Renal Diseases (I10, I12)'), ({'Age': '17.7', 'Sex': 'M', 'Person': 'Black Non-Hispanic'}, 'Accidents Except Drug Posioning (V01-X39, X43, X45-X59, Y85-Y86)'), ({'Age': '.', 'Sex': 'F', 'Person': 'Other Race/ Ethnicity'}, 'Diseases of Heart (I00-I09, I11, I13, I20-I51)'), ({'Age': '.', 'Sex': 'F', 'Person': 'Other Race/ Ethnicity'}, 'Diabetes Mellitus (E10-E14)'), ({'Age': '50.3', 'Sex': 'F', 'Person': 'Asian and Pacific Islander'}, 'All Other Causes'), ({'Age': '.', 'Sex': 'M', 'Person': 'Not Stated/Unknown'}, 'Intentional Self-Harm (Suicide: X60-X84, Y87.0)'), ({'Age': '8.5', 'Sex': 'F', 'Person': 'Asian and Pacific Islander'}, 'Accidents Except Drug Posioning (V01-X39, X43, X45-X59, Y85-Y86)'), ({'Age': '130.9', 'Sex': 'M', 'Person': 'Asian and Pacific Islander'}, 'Malignant Neoplasms (Cancer: C00-C97)'), ({'Age': '13.1', 'Sex': 'M', 'Person': 'White Non-Hispanic'}, 'Intentional Self-Harm (Suicide: X60-X84, Y87.0)'), ({'Age': '14.1', 'Sex': 'M', 'Person': 'Hispanic'}, 'Chronic Liver Disease and Cirrhosis (K70, K73)'), ({'Age': '4.5', 'Sex': 'F', 'Person': 'Hispanic'}, 'Mental and Behavioral Disorders due to Accidental Poisoning and Other Psychoactive Substance Use (F11-F16, F18-F19, X40-X42, X44)'), ({'Age': '18.5', 'Sex': 'F', 'Person': 'Hispanic'}, 'Diabetes Mellitus (E10-E14)'), ({'Age': '.', 'Sex': 'M', 'Person': 'Other Race/ Ethnicity'}, 'Accidents Except Drug Posioning (V01-X39, X43, X45-X59, Y85-Y86)'), ({'Age': '5.1', 'Sex': 'F', 'Person': 'Asian and Pacific Islander'}, 'Essential Hypertension and Renal Diseases (I10, I12)'), ({'Age': '.', 'Sex': 'M', 'Person': 'Other Race/ Ethnicity'}, 'All Other Causes'), ({'Age': '33.3', 'Sex': 'M', 'Person': 'Black Non-Hispanic'}, 'Influenza (Flu) and Pneumonia (J09-J18)'), ({'Age': '2.9', 'Sex': 'F', 'Person': 'Asian and Pacific Islander'}, 'Septicemia (A40-A41)'), ({'Age': '56.1', 'Sex': 'M', 'Person': 'Asian and Pacific Islander'}, 'All Other Causes'), ({'Age': '.', 'Sex': 'M', 'Person': 'Other Race/ Ethnicity'}, 'Malignant Neoplasms (Cancer: C00-C97)'), ({'Age': '.', 'Sex': 'M', 'Person': 'Other Race/ Ethnicity'}, 'Cerebrovascular Disease (Stroke: I60-I69)'), ({'Age': '.', 'Sex': 'M', 'Person': 'Not Stated/Unknown'}, 'Cerebrovascular Disease (Stroke: I60-I69)'), ({'Age': '22.5', 'Sex': 'F', 'Person': 'Black Non-Hispanic'}, 'Influenza (Flu) and Pneumonia (J09-J18)'), ({'Age': '17.9', 'Sex': 'M', 'Person': 'Hispanic'}, 'Accidents Except Drug Posioning (V01-X39, X43, X45-X59, Y85-Y86)'), ({'Age': '.', 'Sex': 'M', 'Person': 'Not Stated/Unknown'}, 'Mental and Behavioral Disorders due to Accidental Poisoning and Other Psychoactive Substance Use (F11-F16, F18-F19, X40-X42, X44)'), ({'Age': '57.4', 'Sex': 'F', 'Person': 'Asian and Pacific Islander'}, 'All Other Causes'), ({'Age': '14.6', 'Sex': 'F', 'Person': 'Hispanic'}, 'Chronic Lower Respiratory Diseases (J40-J47)'), ({'Age': '19', 'Sex': 'M', 'Person': 'Hispanic'}, 'Accidents Except Drug Posioning (V01-X39, X43, X45-X59, Y85-Y86)'), ({'Age': '16', 'Sex': 'F', 'Person': 'Hispanic'}, 'Chronic Lower Respiratory Diseases (J40-J47)'), ({'Age': '145.5', 'Sex': 'F', 'Person': 'Black Non-Hispanic'}, 'Malignant Neoplasms (Cancer: C00-C97)'), ({'Age': '81.2', 'Sex': 'F', 'Person': 'Asian and Pacific Islander'}, 'Diseases of Heart (I00-I09, I11, I13, I20-I51)'), ({'Age': '.', 'Sex': 'M', 'Person': 'Not Stated/Unknown'}, 'Diabetes Mellitus (E10-E14)'), ({'Age': '18.8', 'Sex': 'M', 'Person': 'Hispanic'}, 'Chronic Liver Disease and Cirrhosis (K70, K73)'), ({'Age': '12.3', 'Sex': 'M', 'Person': 'Asian and Pacific Islander'}, 'Accidents Except Drug Posioning (V01-X39, X43, X45-X59, Y85-Y86)'), ({'Age': '22.2', 'Sex': 'F', 'Person': 'Hispanic'}, 'Diabetes Mellitus (E10-E14)'), ({'Age': '243.6', 'Sex': 'F', 'Person': 'Black Non-Hispanic'}, 'Diseases of Heart (I00-I09, I11, I13, I20-I51)'), ({'Age': '.', 'Sex': 'F', 'Person': 'Not Stated/Unknown'}, 'Essential Hypertension and Renal Diseases (I10, I12)'), ({'Age': '.', 'Sex': 'M', 'Person': 'Not Stated/Unknown'}, 'Chronic Lower Respiratory Diseases (J40-J47)'), ({'Age': '19.2', 'Sex': 'F', 'Person': 'Asian and Pacific Islander'}, 'Cerebrovascular Disease (Stroke: I60-I69)'), ({'Age': '.', 'Sex': 'F', 'Person': 'Other Race/ Ethnicity'}, 'Cerebrovascular Disease (Stroke: I60-I69)'), ({'Age': '16.4', 'Sex': 'M', 'Person': 'White Non-Hispanic'}, 'Accidents Except Drug Posioning (V01-X39, X43, X45-X59, Y85-Y86)'), ({'Age': '85.1', 'Sex': 'M', 'Person': 'Asian and Pacific Islander'}, 'All Other Causes'), ({'Age': '.', 'Sex': 'F', 'Person': 'Not Stated/Unknown'}, \"Parkinson's Disease (G20)\"), ({'Age': '.', 'Sex': 'M', 'Person': 'Not Stated/Unknown'}, 'Accidents Except Drug Posioning (V01-X39, X43, X45-X59, Y85-Y86)'), ({'Age': '.', 'Sex': 'M', 'Person': 'Not Stated/Unknown'}, 'Essential Hypertension and Renal Diseases (I10, I12)'), ({'Age': '.', 'Sex': 'M', 'Person': 'Other Race/ Ethnicity'}, 'Essential Hypertension and Renal Diseases (I10, I12)'), ({'Age': '18.7', 'Sex': 'M', 'Person': 'White Non-Hispanic'}, 'Mental and Behavioral Disorders due to Accidental Poisoning and Other Psychoactive Substance Use (F11-F16, F18-F19, X40-X42, X44)'), ({'Age': '.', 'Sex': 'F', 'Person': 'Other Race/ Ethnicity'}, 'Diabetes Mellitus (E10-E14)'), ({'Age': '25.3', 'Sex': 'F', 'Person': 'Black Non-Hispanic'}, 'Cerebrovascular Disease (Stroke: I60-I69)'), ({'Age': '22', 'Sex': 'M', 'Person': 'Asian and Pacific Islander'}, 'Chronic Lower Respiratory Diseases (J40-J47)'), ({'Age': '129.5', 'Sex': 'M', 'Person': 'Asian and Pacific Islander'}, 'Malignant Neoplasms (Cancer: C00-C97)'), ({'Age': '24.8', 'Sex': 'F', 'Person': 'White Non-Hispanic'}, 'Influenza (Flu) and Pneumonia (J09-J18)'), ({'Age': '.', 'Sex': 'F', 'Person': 'Other Race/ Ethnicity'}, 'Malignant Neoplasms (Cancer: C00-C97)'), ({'Age': '18.8', 'Sex': 'M', 'Person': 'Hispanic'}, 'Cerebrovascular Disease (Stroke: I60-I69)'), ({'Age': '.', 'Sex': 'F', 'Person': 'Other Race/ Ethnicity'}, 'Essential Hypertension and Renal Diseases (I10, I12)'), ({'Age': '.', 'Sex': 'M', 'Person': 'Not Stated/Unknown'}, 'Accidents Except Drug Posioning (V01-X39, X43, X45-X59, Y85-Y86)'), ({'Age': '.', 'Sex': 'M', 'Person': 'Not Stated/Unknown'}, 'Human Immunodeficiency Virus Disease (HIV: B20-B24)'), ({'Age': '6.3', 'Sex': 'F', 'Person': 'Asian and Pacific Islander'}, 'Accidents Except Drug Posioning (V01-X39, X43, X45-X59, Y85-Y86)'), ({'Age': '24.2', 'Sex': 'M', 'Person': 'White Non-Hispanic'}, 'Chronic Lower Respiratory Diseases (J40-J47)'), ({'Age': '21.4', 'Sex': 'F', 'Person': 'White Non-Hispanic'}, 'Chronic Lower Respiratory Diseases (J40-J47)'), ({'Age': '.', 'Sex': 'F', 'Person': 'Other Race/ Ethnicity'}, \"Alzheimer's Disease (G30)\"), ({'Age': '21.7', 'Sex': 'M', 'Person': 'Black Non-Hispanic'}, 'Human Immunodeficiency Virus Disease (HIV: B20-B24)'), ({'Age': '20.4', 'Sex': 'F', 'Person': 'White Non-Hispanic'}, 'Influenza (Flu) and Pneumonia (J09-J18)'), ({'Age': '14.9', 'Sex': 'F', 'Person': 'White Non-Hispanic'}, 'Cerebrovascular Disease (Stroke: I60-I69)'), ({'Age': '.', 'Sex': 'M', 'Person': 'Other Race/ Ethnicity'}, 'Certain Conditions originating in the Perinatal Period (P00-P96)'), ({'Age': '4.2', 'Sex': 'F', 'Person': 'Asian and Pacific Islander'}, 'Intentional Self-Harm (Suicide: X60-X84, Y87.0)'), ({'Age': '.', 'Sex': 'F', 'Person': 'Not Stated/Unknown'}, 'Influenza (Flu) and Pneumonia (J09-J18)'), ({'Age': '8', 'Sex': 'F', 'Person': 'Asian and Pacific Islander'}, 'Essential Hypertension and Renal Diseases (I10, I12)'), ({'Age': '.', 'Sex': 'F', 'Person': 'Not Stated/Unknown'}, 'Chronic Liver Disease and Cirrhosis (K70, K73)'), ({'Age': '21.3', 'Sex': 'M', 'Person': 'Black Non-Hispanic'}, 'Essential Hypertension and Renal Diseases (I10, I12)'), ({'Age': '25.4', 'Sex': 'F', 'Person': 'White Non-Hispanic'}, 'Influenza (Flu) and Pneumonia (J09-J18)'), ({'Age': '8', 'Sex': 'F', 'Person': 'Black Non-Hispanic'}, \"Alzheimer's Disease (G30)\"), ({'Age': '44.6', 'Sex': 'F', 'Person': 'Asian and Pacific Islander'}, 'All Other Causes'), ({'Age': '12.7', 'Sex': 'M', 'Person': 'White Non-Hispanic'}, 'Intentional Self-Harm (Suicide: X60-X84, Y87.0)'), ({'Age': '8.9', 'Sex': 'F', 'Person': 'Black Non-Hispanic'}, \"Alzheimer's Disease (G30)\"), ({'Age': '7.3', 'Sex': 'F', 'Person': 'Black Non-Hispanic'}, \"Alzheimer's Disease (G30)\"), ({'Age': '4', 'Sex': 'F', 'Person': 'Asian and Pacific Islander'}, 'Certain Conditions originating in the Perinatal Period (P00-P96)'), ({'Age': '150.2', 'Sex': 'F', 'Person': 'White Non-Hispanic'}, 'Malignant Neoplasms (Cancer: C00-C97)'), ({'Age': '.', 'Sex': 'M', 'Person': 'Not Stated/Unknown'}, 'Human Immunodeficiency Virus Disease (HIV: B20-B24)'), ({'Age': '5.7', 'Sex': 'F', 'Person': 'Hispanic'}, 'Human Immunodeficiency Virus Disease (HIV: B20-B24)'), ({'Age': '79.7', 'Sex': 'M', 'Person': 'Asian and Pacific Islander'}, 'All Other Causes'), ({'Age': '19.7', 'Sex': 'M', 'Person': 'Hispanic'}, 'Accidents Except Drug Posioning (V01-X39, X43, X45-X59, Y85-Y86)'), ({'Age': '37.6', 'Sex': 'M', 'Person': 'Black Non-Hispanic'}, 'Influenza (Flu) and Pneumonia (J09-J18)'), ({'Age': '16.9', 'Sex': 'F', 'Person': 'Asian and Pacific Islander'}, 'Influenza (Flu) and Pneumonia (J09-J18)'), ({'Age': '.', 'Sex': 'M', 'Person': 'Not Stated/Unknown'}, 'All Other Causes'), ({'Age': '17.8', 'Sex': 'M', 'Person': 'Asian and Pacific Islander'}, 'Chronic Lower Respiratory Diseases (J40-J47)'), ({'Age': '5.3', 'Sex': 'M', 'Person': 'Asian and Pacific Islander'}, 'Chronic Liver Disease and Cirrhosis (K70, K73)'), ({'Age': '.', 'Sex': 'M', 'Person': 'Other Race/ Ethnicity'}, 'All Other Causes'), ({'Age': '.', 'Sex': 'M', 'Person': 'Not Stated/Unknown'}, 'Diseases of Heart (I00-I09, I11, I13, I20-I51)'), ({'Age': '.', 'Sex': 'M', 'Person': 'Not Stated/Unknown'}, 'Influenza (Flu) and Pneumonia (J09-J18)'), ({'Age': '.', 'Sex': 'M', 'Person': 'Other Race/ Ethnicity'}, 'Accidents Except Drug Posioning (V01-X39, X43, X45-X59, Y85-Y86)'), ({'Age': '127', 'Sex': 'M', 'Person': 'Asian and Pacific Islander'}, 'Malignant Neoplasms (Cancer: C00-C97)'), ({'Age': '.', 'Sex': 'M', 'Person': 'Other Race/ Ethnicity'}, 'Chronic Liver Disease and Cirrhosis (K70, K73)'), ({'Age': '.', 'Sex': 'F', 'Person': 'Not Stated/Unknown'}, 'Influenza (Flu) and Pneumonia (J09-J18)'), ({'Age': '139.5', 'Sex': 'M', 'Person': 'Hispanic'}, 'All Other Causes'), ({'Age': '16.4', 'Sex': 'F', 'Person': 'Hispanic'}, 'Cerebrovascular Disease (Stroke: I60-I69)'), ({'Age': '59', 'Sex': 'F', 'Person': 'Asian and Pacific Islander'}, 'All Other Causes'), ({'Age': '167.7', 'Sex': 'F', 'Person': 'White Non-Hispanic'}, 'Diseases of Heart (I00-I09, I11, I13, I20-I51)'), ({'Age': '.', 'Sex': 'F', 'Person': 'Other Race/ Ethnicity'}, 'Diseases of Heart (I00-I09, I11, I13, I20-I51)'), ({'Age': '9.4', 'Sex': 'M', 'Person': 'White Non-Hispanic'}, 'Essential Hypertension and Renal Diseases (I10, I12)'), ({'Age': '19', 'Sex': 'M', 'Person': 'Black Non-Hispanic'}, 'Essential Hypertension and Renal Diseases (I10, I12)'), ({'Age': '.', 'Sex': 'M', 'Person': 'Not Stated/Unknown'}, 'All Other Causes'), ({'Age': '307.7', 'Sex': 'M', 'Person': 'Black Non-Hispanic'}, 'Diseases of Heart (I00-I09, I11, I13, I20-I51)'), ({'Age': '13.7', 'Sex': 'M', 'Person': 'Asian and Pacific Islander'}, 'Accidents Except Drug Posioning (V01-X39, X43, X45-X59, Y85-Y86)'), ({'Age': '5.1', 'Sex': 'F', 'Person': 'Asian and Pacific Islander'}, 'Accidents Except Drug Posioning (V01-X39, X43, X45-X59, Y85-Y86)'), ({'Age': '.', 'Sex': 'M', 'Person': 'Not Stated/Unknown'}, 'Chronic Lower Respiratory Diseases (J40-J47)'), ({'Age': '157.7', 'Sex': 'M', 'Person': 'Hispanic'}, 'Malignant Neoplasms (Cancer: C00-C97)'), ({'Age': '.', 'Sex': 'F', 'Person': 'Not Stated/Unknown'}, 'Congenital Malformations, Deformations, and Chromosomal Abnormalities (Q00-Q99)'), ({'Age': '.', 'Sex': 'M', 'Person': 'Not Stated/Unknown'}, 'Human Immunodeficiency Virus Disease (HIV: B20-B24)'), ({'Age': '179.8', 'Sex': 'F', 'Person': 'White Non-Hispanic'}, 'Diseases of Heart (I00-I09, I11, I13, I20-I51)'), ({'Age': '.', 'Sex': 'M', 'Person': 'Not Stated/Unknown'}, 'Mental and Behavioral Disorders due to Use of Alcohol (F10)'), ({'Age': '7.8', 'Sex': 'F', 'Person': 'Asian and Pacific Islander'}, 'Essential Hypertension and Renal Diseases (I10, I12)'), ({'Age': '.', 'Sex': 'F', 'Person': 'Not Stated/Unknown'}, 'Septicemia (A40-A41)'), ({'Age': '4.2', 'Sex': 'F', 'Person': 'White Non-Hispanic'}, 'Septicemia (A40-A41)'), ({'Age': '48.9', 'Sex': 'F', 'Person': 'Asian and Pacific Islander'}, 'All Other Causes'), ({'Age': '.', 'Sex': 'F', 'Person': 'Not Stated/Unknown'}, 'All Other Causes'), ({'Age': '34', 'Sex': 'M', 'Person': 'Black Non-Hispanic'}, 'Human Immunodeficiency Virus Disease (HIV: B20-B24)'), ({'Age': '.', 'Sex': 'F', 'Person': 'Other Race/ Ethnicity'}, 'Accidents Except Drug Posioning (V01-X39, X43, X45-X59, Y85-Y86)'), ({'Age': '16.2', 'Sex': 'M', 'Person': 'Hispanic'}, 'Human Immunodeficiency Virus Disease (HIV: B20-B24)'), ({'Age': '127.3', 'Sex': 'F', 'Person': 'Black Non-Hispanic'}, 'All Other Causes'), ({'Age': '.', 'Sex': 'F', 'Person': 'Other Race/ Ethnicity'}, 'Malignant Neoplasms (Cancer: C00-C97)'), ({'Age': '15.7', 'Sex': 'F', 'Person': 'Hispanic'}, 'Cerebrovascular Disease (Stroke: I60-I69)'), ({'Age': '23.6', 'Sex': 'F', 'Person': 'Black Non-Hispanic'}, 'Cerebrovascular Disease (Stroke: I60-I69)'), ({'Age': '38', 'Sex': 'M', 'Person': 'Black Non-Hispanic'}, 'Influenza (Flu) and Pneumonia (J09-J18)'), ({'Age': '20.2', 'Sex': 'F', 'Person': 'White Non-Hispanic'}, 'Influenza (Flu) and Pneumonia (J09-J18)'), ({'Age': '98.5', 'Sex': 'F', 'Person': 'Hispanic'}, 'Malignant Neoplasms (Cancer: C00-C97)'), ({'Age': '15.5', 'Sex': 'M', 'Person': 'Hispanic'}, 'Mental and Behavioral Disorders due to Accidental Poisoning and Other Psychoactive Substance Use (F11-F16, F18-F19, X40-X42, X44)'), ({'Age': '118.5', 'Sex': 'M', 'Person': 'Asian and Pacific Islander'}, 'Diseases of Heart (I00-I09, I11, I13, I20-I51)'), ({'Age': '.', 'Sex': 'F', 'Person': 'Not Stated/Unknown'}, 'All Other Causes'), ({'Age': '.', 'Sex': 'F', 'Person': 'Not Stated/Unknown'}, 'Certain Conditions originating in the Perinatal Period (P00-P96)'), ({'Age': '133.2', 'Sex': 'F', 'Person': 'Hispanic'}, 'Diseases of Heart (I00-I09, I11, I13, I20-I51)'), ({'Age': '20.6', 'Sex': 'F', 'Person': 'Asian and Pacific Islander'}, 'Cerebrovascular Disease (Stroke: I60-I69)'), ({'Age': '9.9', 'Sex': 'M', 'Person': 'Hispanic'}, 'Assault (Homicide: Y87.1, X85-Y09)'), ({'Age': '157.3', 'Sex': 'F', 'Person': 'White Non-Hispanic'}, 'Malignant Neoplasms (Cancer: C00-C97)'), ({'Age': '14.1', 'Sex': 'F', 'Person': 'White Non-Hispanic'}, 'Cerebrovascular Disease (Stroke: I60-I69)'), ({'Age': '.', 'Sex': 'M', 'Person': 'Other Race/ Ethnicity'}, \"Alzheimer's Disease (G30)\"), ({'Age': '.', 'Sex': 'M', 'Person': 'Other Race/ Ethnicity'}, 'Diseases of Heart (I00-I09, I11, I13, I20-I51)'), ({'Age': '79.6', 'Sex': 'F', 'Person': 'Asian and Pacific Islander'}, 'Malignant Neoplasms (Cancer: C00-C97)'), ({'Age': '163.5', 'Sex': 'M', 'Person': 'Hispanic'}, 'Malignant Neoplasms (Cancer: C00-C97)'), ({'Age': '6.4', 'Sex': 'F', 'Person': 'Asian and Pacific Islander'}, 'Accidents Except Drug Posioning (V01-X39, X43, X45-X59, Y85-Y86)'), ({'Age': '117.8', 'Sex': 'M', 'Person': 'Asian and Pacific Islander'}, 'Diseases of Heart (I00-I09, I11, I13, I20-I51)'), ({'Age': '.', 'Sex': 'F', 'Person': 'Other Race/ Ethnicity'}, 'Atherosclerosis (I70)'), ({'Age': '100.5', 'Sex': 'F', 'Person': 'Hispanic'}, 'Malignant Neoplasms (Cancer: C00-C97)'), ({'Age': '22.8', 'Sex': 'M', 'Person': 'Hispanic'}, 'Chronic Lower Respiratory Diseases (J40-J47)'), ({'Age': '.', 'Sex': 'F', 'Person': 'Not Stated/Unknown'}, 'Influenza (Flu) and Pneumonia (J09-J18)'), ({'Age': '7.9', 'Sex': 'F', 'Person': 'Asian and Pacific Islander'}, 'Chronic Lower Respiratory Diseases (J40-J47)'), ({'Age': '250.7', 'Sex': 'F', 'Person': 'White Non-Hispanic'}, 'Diseases of Heart (I00-I09, I11, I13, I20-I51)'), ({'Age': '15', 'Sex': 'F', 'Person': 'Hispanic'}, 'Chronic Lower Respiratory Diseases (J40-J47)'), ({'Age': '105.4', 'Sex': 'F', 'Person': 'White Non-Hispanic'}, 'All Other Causes'), ({'Age': '.', 'Sex': 'F', 'Person': 'Not Stated/Unknown'}, 'Accidents Except Drug Posioning (V01-X39, X43, X45-X59, Y85-Y86)'), ({'Age': '9.3', 'Sex': 'M', 'Person': 'White Non-Hispanic'}, 'Essential Hypertension and Renal Diseases (I10, I12)'), ({'Age': '13', 'Sex': 'M', 'Person': 'White Non-Hispanic'}, 'Intentional Self-Harm (Suicide: X60-X84, Y87.0)'), ({'Age': '.', 'Sex': 'M', 'Person': 'Not Stated/Unknown'}, 'Malignant Neoplasms (Cancer: C00-C97)'), ({'Age': '.', 'Sex': 'M', 'Person': 'Other Race/ Ethnicity'}, 'Assault (Homicide: Y87.1, X85-Y09)'), ({'Age': '.', 'Sex': 'F', 'Person': 'Not Stated/Unknown'}, 'Diabetes Mellitus (E10-E14)'), ({'Age': '.', 'Sex': 'M', 'Person': 'Not Stated/Unknown'}, 'Diabetes Mellitus (E10-E14)'), ({'Age': '.', 'Sex': 'F', 'Person': 'Not Stated/Unknown'}, 'Septicemia (A40-A41)'), ({'Age': '11.1', 'Sex': 'F', 'Person': 'White Non-Hispanic'}, 'Diabetes Mellitus (E10-E14)'), ({'Age': '41.4', 'Sex': 'M', 'Person': 'Black Non-Hispanic'}, 'Diabetes Mellitus (E10-E14)'), ({'Age': '159', 'Sex': 'F', 'Person': 'White Non-Hispanic'}, 'Malignant Neoplasms (Cancer: C00-C97)'), ({'Age': '.', 'Sex': 'M', 'Person': 'Not Stated/Unknown'}, 'Malignant Neoplasms (Cancer: C00-C97)'), ({'Age': '.', 'Sex': 'F', 'Person': 'Other Race/ Ethnicity'}, 'Malignant Neoplasms (Cancer: C00-C97)'), ({'Age': '.', 'Sex': 'M', 'Person': 'Other Race/ Ethnicity'}, 'Diseases of Heart (I00-I09, I11, I13, I20-I51)'), ({'Age': '.', 'Sex': 'M', 'Person': 'Other Race/ Ethnicity'}, 'Influenza (Flu) and Pneumonia (J09-J18)'), ({'Age': '16.6', 'Sex': 'M', 'Person': 'Hispanic'}, 'Mental and Behavioral Disorders due to Accidental Poisoning and Other Psychoactive Substance Use (F11-F16, F18-F19, X40-X42, X44)'), ({'Age': '.', 'Sex': 'M', 'Person': 'Not Stated/Unknown'}, 'Influenza (Flu) and Pneumonia (J09-J18)'), ({'Age': '116.1', 'Sex': 'F', 'Person': 'Black Non-Hispanic'}, 'All Other Causes'), ({'Age': '.', 'Sex': 'M', 'Person': 'Other Race/ Ethnicity'}, 'Diabetes Mellitus (E10-E14)'), ({'Age': '7.1', 'Sex': 'F', 'Person': 'Asian and Pacific Islander'}, 'Essential Hypertension and Renal Diseases (I10, I12)'), ({'Age': '.', 'Sex': 'M', 'Person': 'Other Race/ Ethnicity'}, 'Influenza (Flu) and Pneumonia (J09-J18)'), ({'Age': '.', 'Sex': 'M', 'Person': 'Other Race/ Ethnicity'}, 'Influenza (Flu) and Pneumonia (J09-J18)'), ({'Age': '83.8', 'Sex': 'F', 'Person': 'Asian and Pacific Islander'}, 'Malignant Neoplasms (Cancer: C00-C97)'), ({'Age': '6.6', 'Sex': 'F', 'Person': 'Asian and Pacific Islander'}, 'Chronic Lower Respiratory Diseases (J40-J47)'), ({'Age': '.', 'Sex': 'F', 'Person': 'Other Race/ Ethnicity'}, 'Assault (Homicide: Y87.1, X85-Y09)'), ({'Age': '252.4', 'Sex': 'M', 'Person': 'White Non-Hispanic'}, 'Diseases of Heart (I00-I09, I11, I13, I20-I51)'), ({'Age': '16.8', 'Sex': 'M', 'Person': 'Black Non-Hispanic'}, 'Accidents Except Drug Posioning (V01-X39, X43, X45-X59, Y85-Y86)'), ({'Age': '153.3', 'Sex': 'F', 'Person': 'White Non-Hispanic'}, 'Malignant Neoplasms (Cancer: C00-C97)'), ({'Age': '21.4', 'Sex': 'M', 'Person': 'Hispanic'}, 'Cerebrovascular Disease (Stroke: I60-I69)'), ({'Age': '.', 'Sex': 'F', 'Person': 'Not Stated/Unknown'}, 'Cerebrovascular Disease (Stroke: I60-I69)'), ({'Age': '6.4', 'Sex': 'F', 'Person': 'Black Non-Hispanic'}, 'Accidents Except Drug Posioning (V01-X39, X43, X45-X59, Y85-Y86)'), ({'Age': '5.4', 'Sex': 'F', 'Person': 'Hispanic'}, 'Accidents Except Drug Posioning (V01-X39, X43, X45-X59, Y85-Y86)'), ({'Age': '34.3', 'Sex': 'M', 'Person': 'White Non-Hispanic'}, 'Influenza (Flu) and Pneumonia (J09-J18)'), ({'Age': '6.8', 'Sex': 'F', 'Person': 'Black Non-Hispanic'}, \"Alzheimer's Disease (G30)\"), ({'Age': '.', 'Sex': 'M', 'Person': 'Other Race/ Ethnicity'}, 'Certain Conditions originating in the Perinatal Period (P00-P96)'), ({'Age': '.', 'Sex': 'F', 'Person': 'Other Race/ Ethnicity'}, 'All Other Causes'), ({'Age': '96', 'Sex': 'F', 'Person': 'Hispanic'}, 'All Other Causes'), ({'Age': '12.8', 'Sex': 'M', 'Person': 'Asian and Pacific Islander'}, 'Accidents Except Drug Posioning (V01-X39, X43, X45-X59, Y85-Y86)'), ({'Age': '14.5', 'Sex': 'M', 'Person': 'White Non-Hispanic'}, 'Mental and Behavioral Disorders due to Accidental Poisoning and Other Psychoactive Substance Use (F11-F16, F18-F19, X40-X42, X44)'), ({'Age': '7.4', 'Sex': 'F', 'Person': 'Black Non-Hispanic'}, 'Mental and Behavioral Disorders due to Accidental Poisoning and Other Psychoactive Substance Use (F11-F16, F18-F19, X40-X42, X44)'), ({'Age': '20.4', 'Sex': 'M', 'Person': 'Hispanic'}, 'Cerebrovascular Disease (Stroke: I60-I69)'), ({'Age': '.', 'Sex': 'F', 'Person': 'Not Stated/Unknown'}, 'Insitu or Benign / Uncertain Neoplasms (D00-D48)'), ({'Age': '227.9', 'Sex': 'M', 'Person': 'Hispanic'}, 'Diseases of Heart (I00-I09, I11, I13, I20-I51)'), ({'Age': '.', 'Sex': 'F', 'Person': 'Other Race/ Ethnicity'}, 'Accidents Except Drug Posioning (V01-X39, X43, X45-X59, Y85-Y86)'), ({'Age': '.', 'Sex': 'M', 'Person': 'Other Race/ Ethnicity'}, 'Malignant Neoplasms (Cancer: C00-C97)'), ({'Age': '228.8', 'Sex': 'M', 'Person': 'Black Non-Hispanic'}, 'Malignant Neoplasms (Cancer: C00-C97)'), ({'Age': '238.4', 'Sex': 'M', 'Person': 'Hispanic'}, 'Diseases of Heart (I00-I09, I11, I13, I20-I51)'), ({'Age': '.', 'Sex': 'F', 'Person': 'Not Stated/Unknown'}, 'Chronic Liver Disease and Cirrhosis (K70, K73)'), ({'Age': '27.7', 'Sex': 'M', 'Person': 'Black Non-Hispanic'}, 'Essential Hypertension and Renal Diseases (I10, I12)'), ({'Age': '.', 'Sex': 'F', 'Person': 'Other Race/ Ethnicity'}, 'Mental and Behavioral Disorders due to Accidental Poisoning and Other Psychoactive Substance Use (F11-F16, F18-F19, X40-X42, X44)'), ({'Age': '245.5', 'Sex': 'F', 'Person': 'White Non-Hispanic'}, 'Diseases of Heart (I00-I09, I11, I13, I20-I51)'), ({'Age': '14.4', 'Sex': 'F', 'Person': 'White Non-Hispanic'}, 'Cerebrovascular Disease (Stroke: I60-I69)'), ({'Age': '.', 'Sex': 'M', 'Person': 'Not Stated/Unknown'}, 'Human Immunodeficiency Virus Disease (HIV: B20-B24)'), ({'Age': '.', 'Sex': 'M', 'Person': 'Other Race/ Ethnicity'}, 'Intentional Self-Harm (Suicide: X60-X84, Y87.0)'), ({'Age': '143.3', 'Sex': 'M', 'Person': 'Hispanic'}, 'All Other Causes'), ({'Age': '.', 'Sex': 'F', 'Person': 'Not Stated/Unknown'}, 'Atherosclerosis (I70)'), ({'Age': '.', 'Sex': 'M', 'Person': 'Not Stated/Unknown'}, 'Intentional Self-Harm (Suicide: X60-X84, Y87.0)'), ({'Age': '.', 'Sex': 'M', 'Person': 'Other Race/ Ethnicity'}, 'Chronic Lower Respiratory Diseases (J40-J47)'), ({'Age': '.', 'Sex': 'M', 'Person': 'Other Race/ Ethnicity'}, 'Chronic Liver Disease and Cirrhosis (K70, K73)'), ({'Age': '.', 'Sex': 'M', 'Person': 'Other Race/ Ethnicity'}, 'All Other Causes'), ({'Age': '.', 'Sex': 'M', 'Person': 'Not Stated/Unknown'}, 'Influenza (Flu) and Pneumonia (J09-J18)'), ({'Age': '.', 'Sex': 'M', 'Person': 'Not Stated/Unknown'}, 'Malignant Neoplasms (Cancer: C00-C97)'), ({'Age': '3', 'Sex': 'M', 'Person': 'Asian and Pacific Islander'}, 'Congenital Malformations, Deformations, and Chromosomal Abnormalities (Q00-Q99)'), ({'Age': '14.8', 'Sex': 'F', 'Person': 'Hispanic'}, 'Chronic Lower Respiratory Diseases (J40-J47)'), ({'Age': '3.7', 'Sex': 'F', 'Person': 'Asian and Pacific Islander'}, 'Intentional Self-Harm (Suicide: X60-X84, Y87.0)'), ({'Age': '.', 'Sex': 'F', 'Person': 'Not Stated/Unknown'}, 'Chronic Lower Respiratory Diseases (J40-J47)'), ({'Age': '.', 'Sex': 'M', 'Person': 'Other Race/ Ethnicity'}, 'Diabetes Mellitus (E10-E14)'), ({'Age': '6.6', 'Sex': 'F', 'Person': 'Hispanic'}, 'Accidents Except Drug Posioning (V01-X39, X43, X45-X59, Y85-Y86)'), ({'Age': '24.9', 'Sex': 'M', 'Person': 'Hispanic'}, 'Diabetes Mellitus (E10-E14)'), ({'Age': '8.7', 'Sex': 'M', 'Person': 'Asian and Pacific Islander'}, 'Intentional Self-Harm (Suicide: X60-X84, Y87.0)'), ({'Age': '11.3', 'Sex': 'M', 'Person': 'Hispanic'}, 'Human Immunodeficiency Virus Disease (HIV: B20-B24)'), ({'Age': '18.7', 'Sex': 'F', 'Person': 'Black Non-Hispanic'}, 'Essential Hypertension and Renal Diseases (I10, I12)'), ({'Age': '148.5', 'Sex': 'M', 'Person': 'Hispanic'}, 'Malignant Neoplasms (Cancer: C00-C97)'), ({'Age': '19.3', 'Sex': 'M', 'Person': 'Asian and Pacific Islander'}, 'Cerebrovascular Disease (Stroke: I60-I69)'), ({'Age': '113.6', 'Sex': 'F', 'Person': 'Hispanic'}, 'Diseases of Heart (I00-I09, I11, I13, I20-I51)'), ({'Age': '59', 'Sex': 'F', 'Person': 'Asian and Pacific Islander'}, 'All Other Causes'), ({'Age': '.', 'Sex': 'F', 'Person': 'Other Race/ Ethnicity'}, 'Assault (Homicide: Y87.1, X85-Y09)'), ({'Age': '.', 'Sex': 'M', 'Person': 'Other Race/ Ethnicity'}, 'Human Immunodeficiency Virus Disease (HIV: B20-B24)'), ({'Age': '18.4', 'Sex': 'M', 'Person': 'White Non-Hispanic'}, 'Accidents Except Drug Posioning (V01-X39, X43, X45-X59, Y85-Y86)'), ({'Age': '151.8', 'Sex': 'F', 'Person': 'Black Non-Hispanic'}, 'Malignant Neoplasms (Cancer: C00-C97)'), ({'Age': '16.1', 'Sex': 'M', 'Person': 'Asian and Pacific Islander'}, 'Cerebrovascular Disease (Stroke: I60-I69)'), ({'Age': '.', 'Sex': 'F', 'Person': 'Other Race/ Ethnicity'}, 'Septicemia (A40-A41)'), ({'Age': '33.1', 'Sex': 'F', 'Person': 'Black Non-Hispanic'}, 'Diabetes Mellitus (E10-E14)'), ({'Age': '16.8', 'Sex': 'M', 'Person': 'Hispanic'}, 'Chronic Liver Disease and Cirrhosis (K70, K73)'), ({'Age': '.', 'Sex': 'F', 'Person': 'Other Race/ Ethnicity'}, 'Influenza (Flu) and Pneumonia (J09-J18)'), ({'Age': '215.3', 'Sex': 'M', 'Person': 'Black Non-Hispanic'}, 'Malignant Neoplasms (Cancer: C00-C97)'), ({'Age': '23.3', 'Sex': 'M', 'Person': 'Black Non-Hispanic'}, 'Cerebrovascular Disease (Stroke: I60-I69)'), ({'Age': '.', 'Sex': 'M', 'Person': 'Other Race/ Ethnicity'}, 'Assault (Homicide: Y87.1, X85-Y09)'), ({'Age': '32.7', 'Sex': 'M', 'Person': 'White Non-Hispanic'}, 'Influenza (Flu) and Pneumonia (J09-J18)'), ({'Age': '12.2', 'Sex': 'F', 'Person': 'Hispanic'}, \"Alzheimer's Disease (G30)\"), ({'Age': '16.8', 'Sex': 'M', 'Person': 'White Non-Hispanic'}, 'Cerebrovascular Disease (Stroke: I60-I69)'), ({'Age': '19.1', 'Sex': 'F', 'Person': 'White Non-Hispanic'}, 'Chronic Lower Respiratory Diseases (J40-J47)'), ({'Age': '163.3', 'Sex': 'F', 'Person': 'Black Non-Hispanic'}, 'Malignant Neoplasms (Cancer: C00-C97)'), ({'Age': '20.3', 'Sex': 'F', 'Person': 'Asian and Pacific Islander'}, 'Influenza (Flu) and Pneumonia (J09-J18)'), ({'Age': '.', 'Sex': 'F', 'Person': 'Other Race/ Ethnicity'}, 'All Other Causes'), ({'Age': '6.5', 'Sex': 'F', 'Person': 'White Non-Hispanic'}, \"Alzheimer's Disease (G30)\"), ({'Age': '.', 'Sex': 'F', 'Person': 'Not Stated/Unknown'}, 'Malignant Neoplasms (Cancer: C00-C97)'), ({'Age': '13.6', 'Sex': 'M', 'Person': 'Asian and Pacific Islander'}, 'Diabetes Mellitus (E10-E14)'), ({'Age': '7.6', 'Sex': 'M', 'Person': 'White Non-Hispanic'}, 'Essential Hypertension and Renal Diseases (I10, I12)'), ({'Age': '238.4', 'Sex': 'M', 'Person': 'White Non-Hispanic'}, 'Diseases of Heart (I00-I09, I11, I13, I20-I51)'), ({'Age': '12', 'Sex': 'M', 'Person': 'White Non-Hispanic'}, 'Intentional Self-Harm (Suicide: X60-X84, Y87.0)'), ({'Age': '17.6', 'Sex': 'M', 'Person': 'White Non-Hispanic'}, 'Mental and Behavioral Disorders due to Accidental Poisoning and Other Psychoactive Substance Use (F11-F16, F18-F19, X40-X42, X44)'), ({'Age': '14.2', 'Sex': 'M', 'Person': 'Asian and Pacific Islander'}, 'Diabetes Mellitus (E10-E14)'), ({'Age': '100.7', 'Sex': 'F', 'Person': 'Hispanic'}, 'Malignant Neoplasms (Cancer: C00-C97)'), ({'Age': '.', 'Sex': 'M', 'Person': 'Not Stated/Unknown'}, 'All Other Causes'), ({'Age': '7.5', 'Sex': 'F', 'Person': 'White Non-Hispanic'}, 'Essential Hypertension and Renal Diseases (I10, I12)'), ({'Age': '.', 'Sex': 'M', 'Person': 'Not Stated/Unknown'}, 'Certain Conditions originating in the Perinatal Period (P00-P96)'), ({'Age': '.', 'Sex': 'F', 'Person': 'Not Stated/Unknown'}, \"Alzheimer's Disease (G30)\"), ({'Age': '.', 'Sex': 'F', 'Person': 'Other Race/ Ethnicity'}, 'Diseases of Heart (I00-I09, I11, I13, I20-I51)'), ({'Age': '16.7', 'Sex': 'M', 'Person': 'Asian and Pacific Islander'}, 'Chronic Lower Respiratory Diseases (J40-J47)'), ({'Age': '14.8', 'Sex': 'M', 'Person': 'White Non-Hispanic'}, 'Mental and Behavioral Disorders due to Accidental Poisoning and Other Psychoactive Substance Use (F11-F16, F18-F19, X40-X42, X44)'), ({'Age': '129.5', 'Sex': 'F', 'Person': 'Black Non-Hispanic'}, 'All Other Causes'), ({'Age': '194.5', 'Sex': 'M', 'Person': 'White Non-Hispanic'}, 'Malignant Neoplasms (Cancer: C00-C97)'), ({'Age': '26.1', 'Sex': 'M', 'Person': 'Asian and Pacific Islander'}, 'Influenza (Flu) and Pneumonia (J09-J18)'), ({'Age': '160.7', 'Sex': 'F', 'Person': 'Hispanic'}, 'Diseases of Heart (I00-I09, I11, I13, I20-I51)'), ({'Age': '.', 'Sex': 'M', 'Person': 'Not Stated/Unknown'}, 'Mental and Behavioral Disorders due to Accidental Poisoning and Other Psychoactive Substance Use (F11-F16, F18-F19, X40-X42, X44)'), ({'Age': '7.6', 'Sex': 'F', 'Person': 'Black Non-Hispanic'}, 'Nephritis, Nephrotic Syndrome and Nephrisis (N00-N07, N17-N19, N25-N27)'), ({'Age': '.', 'Sex': 'F', 'Person': 'Other Race/ Ethnicity'}, 'Influenza (Flu) and Pneumonia (J09-J18)'), ({'Age': '.', 'Sex': 'M', 'Person': 'Other Race/ Ethnicity'}, 'Mental and Behavioral Disorders due to Accidental Poisoning and Other Psychoactive Substance Use (F11-F16, F18-F19, X40-X42, X44)'), ({'Age': '43.9', 'Sex': 'M', 'Person': 'Black Non-Hispanic'}, 'Diabetes Mellitus (E10-E14)'), ({'Age': '.', 'Sex': 'M', 'Person': 'Other Race/ Ethnicity'}, 'Intentional Self-Harm (Suicide: X60-X84, Y87.0)'), ({'Age': '.', 'Sex': 'F', 'Person': 'Not Stated/Unknown'}, 'Chronic Lower Respiratory Diseases (J40-J47)'), ({'Age': '.', 'Sex': 'F', 'Person': 'Other Race/ Ethnicity'}, 'Diseases of Heart (I00-I09, I11, I13, I20-I51)'), ({'Age': '8.7', 'Sex': 'M', 'Person': 'Asian and Pacific Islander'}, 'Essential Hypertension and Renal Diseases (I10, I12)'), ({'Age': '12.2', 'Sex': 'M', 'Person': 'Asian and Pacific Islander'}, 'Accidents Except Drug Posioning (V01-X39, X43, X45-X59, Y85-Y86)'), ({'Age': '105.1', 'Sex': 'F', 'Person': 'White Non-Hispanic'}, 'All Other Causes'), ({'Age': '.', 'Sex': 'F', 'Person': 'Other Race/ Ethnicity'}, 'Diseases of Heart (I00-I09, I11, I13, I20-I51)'), ({'Age': '.', 'Sex': 'M', 'Person': 'Other Race/ Ethnicity'}, 'Chronic Lower Respiratory Diseases (J40-J47)'), ({'Age': '94.8', 'Sex': 'F', 'Person': 'Hispanic'}, 'All Other Causes'), ({'Age': '.', 'Sex': 'F', 'Person': 'Not Stated/Unknown'}, 'Intentional Self-Harm (Suicide: X60-X84, Y87.0)'), ({'Age': '6.2', 'Sex': 'F', 'Person': 'Hispanic'}, \"Alzheimer's Disease (G30)\"), ({'Age': '12.4', 'Sex': 'F', 'Person': 'Black Non-Hispanic'}, 'Human Immunodeficiency Virus Disease (HIV: B20-B24)'), ({'Age': '79.9', 'Sex': 'F', 'Person': 'Asian and Pacific Islander'}, 'Malignant Neoplasms (Cancer: C00-C97)'), ({'Age': '9.3', 'Sex': 'M', 'Person': 'White Non-Hispanic'}, 'Essential Hypertension and Renal Diseases (I10, I12)'), ({'Age': '3.6', 'Sex': 'F', 'Person': 'Asian and Pacific Islander'}, \"Alzheimer's Disease (G30)\"), ({'Age': '6.7', 'Sex': 'F', 'Person': 'White Non-Hispanic'}, 'Essential Hypertension and Renal Diseases (I10, I12)'), ({'Age': '13', 'Sex': 'M', 'Person': 'Asian and Pacific Islander'}, 'Accidents Except Drug Posioning (V01-X39, X43, X45-X59, Y85-Y86)'), ({'Age': '30.9', 'Sex': 'M', 'Person': 'Hispanic'}, 'Influenza (Flu) and Pneumonia (J09-J18)'), ({'Age': '9.8', 'Sex': 'M', 'Person': 'Asian and Pacific Islander'}, 'Essential Hypertension and Renal Diseases (I10, I12)'), ({'Age': '23.1', 'Sex': 'F', 'Person': 'White Non-Hispanic'}, 'Influenza (Flu) and Pneumonia (J09-J18)'), ({'Age': '99.6', 'Sex': 'F', 'Person': 'Hispanic'}, 'Malignant Neoplasms (Cancer: C00-C97)'), ({'Age': '161', 'Sex': 'F', 'Person': 'White Non-Hispanic'}, 'Diseases of Heart (I00-I09, I11, I13, I20-I51)'), ({'Age': '3.9', 'Sex': 'F', 'Person': 'Asian and Pacific Islander'}, 'Intentional Self-Harm (Suicide: X60-X84, Y87.0)'), ({'Age': '25.5', 'Sex': 'F', 'Person': 'Hispanic'}, 'Influenza (Flu) and Pneumonia (J09-J18)'), ({'Age': '19.8', 'Sex': 'F', 'Person': 'Hispanic'}, 'Cerebrovascular Disease (Stroke: I60-I69)'), ({'Age': '.', 'Sex': 'M', 'Person': 'Other Race/ Ethnicity'}, 'Essential Hypertension and Renal Diseases (I10, I12)'), ({'Age': '25.8', 'Sex': 'M', 'Person': 'Black Non-Hispanic'}, 'Human Immunodeficiency Virus Disease (HIV: B20-B24)'), ({'Age': '119.9', 'Sex': 'M', 'Person': 'White Non-Hispanic'}, 'All Other Causes'), ({'Age': '18.9', 'Sex': 'F', 'Person': 'Black Non-Hispanic'}, 'Essential Hypertension and Renal Diseases (I10, I12)'), ({'Age': '.', 'Sex': 'M', 'Person': 'Other Race/ Ethnicity'}, 'Intentional Self-Harm (Suicide: X60-X84, Y87.0)'), ({'Age': '9.5', 'Sex': 'F', 'Person': 'Hispanic'}, 'Essential Hypertension and Renal Diseases (I10, I12)'), ({'Age': '18.1', 'Sex': 'M', 'Person': 'White Non-Hispanic'}, 'Diabetes Mellitus (E10-E14)'), ({'Age': '.', 'Sex': 'M', 'Person': 'Other Race/ Ethnicity'}, 'All Other Causes'), ({'Age': '.', 'Sex': 'M', 'Person': 'Other Race/ Ethnicity'}, 'Diabetes Mellitus (E10-E14)'), ({'Age': '.', 'Sex': 'M', 'Person': 'Other Race/ Ethnicity'}, 'Chronic Liver Disease and Cirrhosis (K70, K73)'), ({'Age': '24.1', 'Sex': 'F', 'Person': 'Hispanic'}, 'Diabetes Mellitus (E10-E14)'), ({'Age': '111.1', 'Sex': 'F', 'Person': 'White Non-Hispanic'}, 'All Other Causes'), ({'Age': '.', 'Sex': 'M', 'Person': 'Not Stated/Unknown'}, 'Human Immunodeficiency Virus Disease (HIV: B20-B24)'), ({'Age': '8.5', 'Sex': 'F', 'Person': 'Asian and Pacific Islander'}, 'Accidents Except Drug Posioning (V01-X39, X43, X45-X59, Y85-Y86)'), ({'Age': '.', 'Sex': 'M', 'Person': 'Other Race/ Ethnicity'}, 'Influenza (Flu) and Pneumonia (J09-J18)'), ({'Age': '12', 'Sex': 'M', 'Person': 'Asian and Pacific Islander'}, 'Accidents Except Drug Posioning (V01-X39, X43, X45-X59, Y85-Y86)'), ({'Age': '9.6', 'Sex': 'F', 'Person': 'Hispanic'}, 'Human Immunodeficiency Virus Disease (HIV: B20-B24)'), ({'Age': '117.3', 'Sex': 'F', 'Person': 'Black Non-Hispanic'}, 'All Other Causes'), ({'Age': '24', 'Sex': 'M', 'Person': 'White Non-Hispanic'}, 'Chronic Lower Respiratory Diseases (J40-J47)'), ({'Age': '.', 'Sex': 'F', 'Person': 'Not Stated/Unknown'}, 'All Other Causes'), ({'Age': '.', 'Sex': 'M', 'Person': 'Not Stated/Unknown'}, 'All Other Causes'), ({'Age': '31.1', 'Sex': 'M', 'Person': 'Black Non-Hispanic'}, 'Assault (Homicide: Y87.1, X85-Y09)'), ({'Age': '.', 'Sex': 'F', 'Person': 'Other Race/ Ethnicity'}, 'Chronic Liver Disease and Cirrhosis (K70, K73)'), ({'Age': '.', 'Sex': 'M', 'Person': 'Other Race/ Ethnicity'}, 'Diseases of Heart (I00-I09, I11, I13, I20-I51)'), ({'Age': '.', 'Sex': 'F', 'Person': 'Not Stated/Unknown'}, 'Malignant Neoplasms (Cancer: C00-C97)'), ({'Age': '213.7', 'Sex': 'M', 'Person': 'White Non-Hispanic'}, 'Malignant Neoplasms (Cancer: C00-C97)'), ({'Age': '17.6', 'Sex': 'M', 'Person': 'White Non-Hispanic'}, 'Cerebrovascular Disease (Stroke: I60-I69)'), ({'Age': '.', 'Sex': 'F', 'Person': 'Not Stated/Unknown'}, 'Essential Hypertension and Renal Diseases (I10, I12)'), ({'Age': '26.9', 'Sex': 'F', 'Person': 'Black Non-Hispanic'}, 'Influenza (Flu) and Pneumonia (J09-J18)'), ({'Age': '8', 'Sex': 'F', 'Person': 'Asian and Pacific Islander'}, 'Accidents Except Drug Posioning (V01-X39, X43, X45-X59, Y85-Y86)'), ({'Age': '260.2', 'Sex': 'M', 'Person': 'White Non-Hispanic'}, 'Diseases of Heart (I00-I09, I11, I13, I20-I51)'), ({'Age': '11.4', 'Sex': 'F', 'Person': 'Hispanic'}, 'Essential Hypertension and Renal Diseases (I10, I12)'), ({'Age': '.', 'Sex': 'M', 'Person': 'Not Stated/Unknown'}, 'Mental and Behavioral Disorders due to Accidental Poisoning and Other Psychoactive Substance Use (F11-F16, F18-F19, X40-X42, X44)'), ({'Age': '81.5', 'Sex': 'F', 'Person': 'White Non-Hispanic'}, 'All Other Causes'), ({'Age': '.', 'Sex': 'M', 'Person': 'Not Stated/Unknown'}, 'Mental and Behavioral Disorders due to Accidental Poisoning and Other Psychoactive Substance Use (F11-F16, F18-F19, X40-X42, X44)'), ({'Age': '88.4', 'Sex': 'F', 'Person': 'Asian and Pacific Islander'}, 'Malignant Neoplasms (Cancer: C00-C97)'), ({'Age': '.', 'Sex': 'M', 'Person': 'Not Stated/Unknown'}, 'Chronic Lower Respiratory Diseases (J40-J47)'), ({'Age': '.', 'Sex': 'F', 'Person': 'Other Race/ Ethnicity'}, 'Essential Hypertension and Renal Diseases (I10, I12)'), ({'Age': '.', 'Sex': 'M', 'Person': 'Not Stated/Unknown'}, 'Influenza (Flu) and Pneumonia (J09-J18)'), ({'Age': '.', 'Sex': 'F', 'Person': 'Other Race/ Ethnicity'}, 'Diseases of Heart (I00-I09, I11, I13, I20-I51)'), ({'Age': '14.8', 'Sex': 'M', 'Person': 'Asian and Pacific Islander'}, 'Accidents Except Drug Posioning (V01-X39, X43, X45-X59, Y85-Y86)'), ({'Age': '22.8', 'Sex': 'F', 'Person': 'Black Non-Hispanic'}, 'Influenza (Flu) and Pneumonia (J09-J18)'), ({'Age': '163.5', 'Sex': 'M', 'Person': 'Black Non-Hispanic'}, 'All Other Causes'), ({'Age': '11.3', 'Sex': 'F', 'Person': 'Asian and Pacific Islander'}, 'Diabetes Mellitus (E10-E14)'), ({'Age': '21.5', 'Sex': 'F', 'Person': 'Hispanic'}, 'Diabetes Mellitus (E10-E14)'), ({'Age': '3.1', 'Sex': 'M', 'Person': 'Asian and Pacific Islander'}, 'Chronic Liver Disease and Cirrhosis (K70, K73)'), ({'Age': '8.6', 'Sex': 'F', 'Person': 'White Non-Hispanic'}, \"Alzheimer's Disease (G30)\"), ({'Age': '108.7', 'Sex': 'F', 'Person': 'Asian and Pacific Islander'}, 'Diseases of Heart (I00-I09, I11, I13, I20-I51)'), ({'Age': '21.4', 'Sex': 'M', 'Person': 'White Non-Hispanic'}, 'Mental and Behavioral Disorders due to Accidental Poisoning and Other Psychoactive Substance Use (F11-F16, F18-F19, X40-X42, X44)'), ({'Age': '33.8', 'Sex': 'M', 'Person': 'Black Non-Hispanic'}, 'Assault (Homicide: Y87.1, X85-Y09)'), ({'Age': '33', 'Sex': 'F', 'Person': 'Black Non-Hispanic'}, 'Diabetes Mellitus (E10-E14)'), ({'Age': '17.5', 'Sex': 'M', 'Person': 'Asian and Pacific Islander'}, 'Cerebrovascular Disease (Stroke: I60-I69)'), ({'Age': '16.3', 'Sex': 'M', 'Person': 'White Non-Hispanic'}, 'Diabetes Mellitus (E10-E14)'), ({'Age': '.', 'Sex': 'F', 'Person': 'Not Stated/Unknown'}, 'Mental and Behavioral Disorders due to Accidental Poisoning and Other Psychoactive Substance Use (F11-F16, F18-F19, X40-X42, X44)'), ({'Age': '8.9', 'Sex': 'F', 'Person': 'Hispanic'}, 'Essential Hypertension and Renal Diseases (I10, I12)'), ({'Age': '14.4', 'Sex': 'F', 'Person': 'Asian and Pacific Islander'}, 'Cerebrovascular Disease (Stroke: I60-I69)'), ({'Age': '.', 'Sex': 'F', 'Person': 'Other Race/ Ethnicity'}, 'Essential Hypertension and Renal Diseases (I10, I12)'), ({'Age': '33.7', 'Sex': 'F', 'Person': 'Black Non-Hispanic'}, 'Diabetes Mellitus (E10-E14)'), ({'Age': '.', 'Sex': 'M', 'Person': 'Other Race/ Ethnicity'}, 'Malignant Neoplasms (Cancer: C00-C97)'), ({'Age': '14.8', 'Sex': 'M', 'Person': 'Black Non-Hispanic'}, 'Mental and Behavioral Disorders due to Accidental Poisoning and Other Psychoactive Substance Use (F11-F16, F18-F19, X40-X42, X44)'), ({'Age': '25', 'Sex': 'M', 'Person': 'Black Non-Hispanic'}, 'Cerebrovascular Disease (Stroke: I60-I69)'), ({'Age': '4.5', 'Sex': 'F', 'Person': 'Asian and Pacific Islander'}, 'Intentional Self-Harm (Suicide: X60-X84, Y87.0)'), ({'Age': '.', 'Sex': 'F', 'Person': 'Other Race/ Ethnicity'}, 'Congenital Malformations, Deformations, and Chromosomal Abnormalities (Q00-Q99)'), ({'Age': '15', 'Sex': 'M', 'Person': 'Hispanic'}, 'Chronic Liver Disease and Cirrhosis (K70, K73)'), ({'Age': '.', 'Sex': 'M', 'Person': 'Not Stated/Unknown'}, 'Assault (Homicide: Y87.1, X85-Y09)'), ({'Age': '.', 'Sex': 'M', 'Person': 'Other Race/ Ethnicity'}, 'Assault (Homicide: Y87.1, X85-Y09)'), ({'Age': '138.4', 'Sex': 'M', 'Person': 'Asian and Pacific Islander'}, 'Malignant Neoplasms (Cancer: C00-C97)'), ({'Age': '13.3', 'Sex': 'M', 'Person': 'Asian and Pacific Islander'}, 'Accidents Except Drug Posioning (V01-X39, X43, X45-X59, Y85-Y86)'), ({'Age': '28.1', 'Sex': 'M', 'Person': 'Black Non-Hispanic'}, 'Cerebrovascular Disease (Stroke: I60-I69)'), ({'Age': '94', 'Sex': 'F', 'Person': 'Hispanic'}, 'All Other Causes'), ({'Age': '.', 'Sex': 'M', 'Person': 'Not Stated/Unknown'}, 'Malignant Neoplasms (Cancer: C00-C97)'), ({'Age': '.', 'Sex': 'M', 'Person': 'Not Stated/Unknown'}, 'Influenza (Flu) and Pneumonia (J09-J18)'), ({'Age': '61.2', 'Sex': 'M', 'Person': 'Asian and Pacific Islander'}, 'All Other Causes'), ({'Age': '3.5', 'Sex': 'M', 'Person': 'Asian and Pacific Islander'}, 'Chronic Liver Disease and Cirrhosis (K70, K73)'), ({'Age': '21.7', 'Sex': 'M', 'Person': 'Black Non-Hispanic'}, 'Essential Hypertension and Renal Diseases (I10, I12)'), ({'Age': '186.7', 'Sex': 'F', 'Person': 'Black Non-Hispanic'}, 'Diseases of Heart (I00-I09, I11, I13, I20-I51)'), ({'Age': '.', 'Sex': 'M', 'Person': 'Other Race/ Ethnicity'}, 'Assault (Homicide: Y87.1, X85-Y09)'), ({'Age': '.', 'Sex': 'F', 'Person': 'Other Race/ Ethnicity'}, 'Intentional Self-Harm (Suicide: X60-X84, Y87.0)'), ({'Age': '158.8', 'Sex': 'M', 'Person': 'Asian and Pacific Islander'}, 'Diseases of Heart (I00-I09, I11, I13, I20-I51)'), ({'Age': '.', 'Sex': 'F', 'Person': 'Not Stated/Unknown'}, 'Essential Hypertension and Renal Diseases (I10, I12)'), ({'Age': '123.7', 'Sex': 'M', 'Person': 'Asian and Pacific Islander'}, 'Diseases of Heart (I00-I09, I11, I13, I20-I51)'), ({'Age': '15', 'Sex': 'F', 'Person': 'Black Non-Hispanic'}, 'Essential Hypertension and Renal Diseases (I10, I12)'), ({'Age': '126.4', 'Sex': 'F', 'Person': 'Black Non-Hispanic'}, 'All Other Causes'), ({'Age': '.', 'Sex': 'M', 'Person': 'Not Stated/Unknown'}, 'Influenza (Flu) and Pneumonia (J09-J18)'), ({'Age': '18.8', 'Sex': 'F', 'Person': 'Hispanic'}, 'Influenza (Flu) and Pneumonia (J09-J18)'), ({'Age': '94.6', 'Sex': 'F', 'Person': 'Hispanic'}, 'All Other Causes'), ({'Age': '90.2', 'Sex': 'F', 'Person': 'Hispanic'}, 'All Other Causes'), ({'Age': '20.7', 'Sex': 'F', 'Person': 'White Non-Hispanic'}, 'Chronic Lower Respiratory Diseases (J40-J47)'), ({'Age': '3.6', 'Sex': 'M', 'Person': 'Asian and Pacific Islander'}, 'Chronic Liver Disease and Cirrhosis (K70, K73)'), ({'Age': '.', 'Sex': 'M', 'Person': 'Not Stated/Unknown'}, 'Chronic Lower Respiratory Diseases (J40-J47)'), ({'Age': '97.4', 'Sex': 'F', 'Person': 'Hispanic'}, 'Malignant Neoplasms (Cancer: C00-C97)'), ({'Age': '6.9', 'Sex': 'F', 'Person': 'Black Non-Hispanic'}, 'Nephritis, Nephrotic Syndrome and Nephrisis (N00-N07, N17-N19, N25-N27)'), ({'Age': '19', 'Sex': 'M', 'Person': 'Black Non-Hispanic'}, 'Mental and Behavioral Disorders due to Accidental Poisoning and Other Psychoactive Substance Use (F11-F16, F18-F19, X40-X42, X44)'), ({'Age': '.', 'Sex': 'F', 'Person': 'Other Race/ Ethnicity'}, 'Certain Conditions originating in the Perinatal Period (P00-P96)'), ({'Age': '23.9', 'Sex': 'M', 'Person': 'Black Non-Hispanic'}, 'Cerebrovascular Disease (Stroke: I60-I69)'), ({'Age': '.', 'Sex': 'F', 'Person': 'Other Race/ Ethnicity'}, 'Diabetes Mellitus (E10-E14)'), ({'Age': '83.5', 'Sex': 'F', 'Person': 'Asian and Pacific Islander'}, 'Malignant Neoplasms (Cancer: C00-C97)'), ({'Age': '199.6', 'Sex': 'M', 'Person': 'Black Non-Hispanic'}, 'Malignant Neoplasms (Cancer: C00-C97)'), ({'Age': '.', 'Sex': 'F', 'Person': 'Other Race/ Ethnicity'}, 'Influenza (Flu) and Pneumonia (J09-J18)'), ({'Age': '16.4', 'Sex': 'M', 'Person': 'White Non-Hispanic'}, 'Diabetes Mellitus (E10-E14)'), ({'Age': '18.3', 'Sex': 'F', 'Person': 'Hispanic'}, 'Cerebrovascular Disease (Stroke: I60-I69)'), ({'Age': '34.3', 'Sex': 'F', 'Person': 'Black Non-Hispanic'}, 'Diabetes Mellitus (E10-E14)'), ({'Age': '23.6', 'Sex': 'F', 'Person': 'Black Non-Hispanic'}, 'Influenza (Flu) and Pneumonia (J09-J18)'), ({'Age': '.', 'Sex': 'M', 'Person': 'Other Race/ Ethnicity'}, 'Accidents Except Drug Posioning (V01-X39, X43, X45-X59, Y85-Y86)'), ({'Age': '115.2', 'Sex': 'F', 'Person': 'Asian and Pacific Islander'}, 'Diseases of Heart (I00-I09, I11, I13, I20-I51)'), ({'Age': '32.9', 'Sex': 'M', 'Person': 'White Non-Hispanic'}, 'Influenza (Flu) and Pneumonia (J09-J18)'), ({'Age': '16.9', 'Sex': 'F', 'Person': 'Black Non-Hispanic'}, 'Chronic Lower Respiratory Diseases (J40-J47)'), ({'Age': '.', 'Sex': 'M', 'Person': 'Not Stated/Unknown'}, 'Accidents Except Drug Posioning (V01-X39, X43, X45-X59, Y85-Y86)'), ({'Age': '6.7', 'Sex': 'M', 'Person': 'Asian and Pacific Islander'}, 'Intentional Self-Harm (Suicide: X60-X84, Y87.0)'), ({'Age': '.', 'Sex': 'F', 'Person': 'Not Stated/Unknown'}, \"Alzheimer's Disease (G30)\"), ({'Age': '31.8', 'Sex': 'M', 'Person': 'Black Non-Hispanic'}, 'Human Immunodeficiency Virus Disease (HIV: B20-B24)'), ({'Age': '183.9', 'Sex': 'F', 'Person': 'Black Non-Hispanic'}, 'Diseases of Heart (I00-I09, I11, I13, I20-I51)'), ({'Age': '22.1', 'Sex': 'F', 'Person': 'Black Non-Hispanic'}, 'Cerebrovascular Disease (Stroke: I60-I69)'), ({'Age': '156.3', 'Sex': 'F', 'Person': 'Black Non-Hispanic'}, 'Malignant Neoplasms (Cancer: C00-C97)'), ({'Age': '.', 'Sex': 'M', 'Person': 'Other Race/ Ethnicity'}, 'Human Immunodeficiency Virus Disease (HIV: B20-B24)'), ({'Age': '14.1', 'Sex': 'M', 'Person': 'Asian and Pacific Islander'}, 'Cerebrovascular Disease (Stroke: I60-I69)'), ({'Age': '.', 'Sex': 'M', 'Person': 'Not Stated/Unknown'}, 'Malignant Neoplasms (Cancer: C00-C97)'), ({'Age': '18.4', 'Sex': 'M', 'Person': 'White Non-Hispanic'}, 'Accidents Except Drug Posioning (V01-X39, X43, X45-X59, Y85-Y86)'), ({'Age': '8.2', 'Sex': 'F', 'Person': 'White Non-Hispanic'}, 'Accidents Except Drug Posioning (V01-X39, X43, X45-X59, Y85-Y86)'), ({'Age': '15.6', 'Sex': 'M', 'Person': 'White Non-Hispanic'}, 'Diabetes Mellitus (E10-E14)'), ({'Age': '30.2', 'Sex': 'M', 'Person': 'Asian and Pacific Islander'}, 'Influenza (Flu) and Pneumonia (J09-J18)'), ({'Age': '25', 'Sex': 'M', 'Person': 'Asian and Pacific Islander'}, 'Influenza (Flu) and Pneumonia (J09-J18)'), ({'Age': '9.3', 'Sex': 'F', 'Person': 'Asian and Pacific Islander'}, 'Essential Hypertension and Renal Diseases (I10, I12)'), ({'Age': '.', 'Sex': 'M', 'Person': 'Not Stated/Unknown'}, 'Cerebrovascular Disease (Stroke: I60-I69)'), ({'Age': '7.5', 'Sex': 'F', 'Person': 'Hispanic'}, \"Alzheimer's Disease (G30)\"), ({'Age': '19', 'Sex': 'F', 'Person': 'Hispanic'}, 'Cerebrovascular Disease (Stroke: I60-I69)'), ({'Age': '150.5', 'Sex': 'M', 'Person': 'Hispanic'}, 'All Other Causes'), ({'Age': '17.4', 'Sex': 'M', 'Person': 'Hispanic'}, 'Accidents Except Drug Posioning (V01-X39, X43, X45-X59, Y85-Y86)'), ({'Age': '.', 'Sex': 'F', 'Person': 'Other Race/ Ethnicity'}, 'Essential Hypertension and Renal Diseases (I10, I12)'), ({'Age': '6.7', 'Sex': 'F', 'Person': 'Asian and Pacific Islander'}, 'Chronic Lower Respiratory Diseases (J40-J47)'), ({'Age': '.', 'Sex': 'F', 'Person': 'Not Stated/Unknown'}, 'Malignant Neoplasms (Cancer: C00-C97)'), ({'Age': '32.5', 'Sex': 'F', 'Person': 'Black Non-Hispanic'}, 'Diabetes Mellitus (E10-E14)'), ({'Age': '159.1', 'Sex': 'F', 'Person': 'Black Non-Hispanic'}, 'Malignant Neoplasms (Cancer: C00-C97)'), ({'Age': '.', 'Sex': 'F', 'Person': 'Not Stated/Unknown'}, 'Diseases of Heart (I00-I09, I11, I13, I20-I51)'), ({'Age': '28.6', 'Sex': 'F', 'Person': 'Black Non-Hispanic'}, 'Influenza (Flu) and Pneumonia (J09-J18)'), ({'Age': '.', 'Sex': 'M', 'Person': 'Other Race/ Ethnicity'}, 'Diseases of Heart (I00-I09, I11, I13, I20-I51)'), ({'Age': '5.4', 'Sex': 'F', 'Person': 'Hispanic'}, 'Chronic Liver Disease and Cirrhosis (K70, K73)'), ({'Age': '.', 'Sex': 'M', 'Person': 'Other Race/ Ethnicity'}, 'Human Immunodeficiency Virus Disease (HIV: B20-B24)'), ({'Age': '.', 'Sex': 'M', 'Person': 'Other Race/ Ethnicity'}, 'Certain Conditions originating in the Perinatal Period (P00-P96)'), ({'Age': '183.3', 'Sex': 'M', 'Person': 'Hispanic'}, 'Diseases of Heart (I00-I09, I11, I13, I20-I51)'), ({'Age': '.', 'Sex': 'M', 'Person': 'Not Stated/Unknown'}, 'Intentional Self-Harm (Suicide: X60-X84, Y87.0)'), ({'Age': '22.3', 'Sex': 'F', 'Person': 'Hispanic'}, 'Influenza (Flu) and Pneumonia (J09-J18)'), ({'Age': '9.5', 'Sex': 'F', 'Person': 'Hispanic'}, 'Essential Hypertension and Renal Diseases (I10, I12)'), ({'Age': '81.8', 'Sex': 'F', 'Person': 'Asian and Pacific Islander'}, 'Diseases of Heart (I00-I09, I11, I13, I20-I51)'), ({'Age': '.', 'Sex': 'F', 'Person': 'Other Race/ Ethnicity'}, 'All Other Causes'), ({'Age': '40', 'Sex': 'M', 'Person': 'Black Non-Hispanic'}, 'Influenza (Flu) and Pneumonia (J09-J18)'), ({'Age': '.', 'Sex': 'F', 'Person': 'Other Race/ Ethnicity'}, 'Certain Conditions originating in the Perinatal Period (P00-P96)'), ({'Age': '268.3', 'Sex': 'M', 'Person': 'Black Non-Hispanic'}, 'Diseases of Heart (I00-I09, I11, I13, I20-I51)'), ({'Age': '15', 'Sex': 'M', 'Person': 'White Non-Hispanic'}, 'Diabetes Mellitus (E10-E14)'), ({'Age': '.', 'Sex': 'F', 'Person': 'Other Race/ Ethnicity'}, 'Essential Hypertension and Renal Diseases (I10, I12)'), ({'Age': '77.2', 'Sex': 'F', 'Person': 'White Non-Hispanic'}, 'All Other Causes'), ({'Age': '20', 'Sex': 'M', 'Person': 'Hispanic'}, 'Chronic Lower Respiratory Diseases (J40-J47)'), ({'Age': '.', 'Sex': 'M', 'Person': 'Not Stated/Unknown'}, 'Chronic Liver Disease and Cirrhosis (K70, K73)'), ({'Age': '3.1', 'Sex': 'F', 'Person': 'Asian and Pacific Islander'}, 'Intentional Self-Harm (Suicide: X60-X84, Y87.0)'), ({'Age': '26.8', 'Sex': 'M', 'Person': 'Asian and Pacific Islander'}, 'Influenza (Flu) and Pneumonia (J09-J18)'), ({'Age': '.', 'Sex': 'F', 'Person': 'Other Race/ Ethnicity'}, 'Atherosclerosis (I70)'), ({'Age': '15.4', 'Sex': 'M', 'Person': 'White Non-Hispanic'}, 'Cerebrovascular Disease (Stroke: I60-I69)'), ({'Age': '10.5', 'Sex': 'M', 'Person': 'White Non-Hispanic'}, 'Essential Hypertension and Renal Diseases (I10, I12)'), ({'Age': '22.1', 'Sex': 'F', 'Person': 'White Non-Hispanic'}, 'Influenza (Flu) and Pneumonia (J09-J18)'), ({'Age': '18', 'Sex': 'M', 'Person': 'Asian and Pacific Islander'}, 'Diabetes Mellitus (E10-E14)'), ({'Age': '28.7', 'Sex': 'M', 'Person': 'Asian and Pacific Islander'}, 'Influenza (Flu) and Pneumonia (J09-J18)'), ({'Age': '.', 'Sex': 'F', 'Person': 'Not Stated/Unknown'}, 'Chronic Lower Respiratory Diseases (J40-J47)'), ({'Age': '8.1', 'Sex': 'F', 'Person': 'Hispanic'}, 'Human Immunodeficiency Virus Disease (HIV: B20-B24)'), ({'Age': '.', 'Sex': 'F', 'Person': 'Other Race/ Ethnicity'}, 'Influenza (Flu) and Pneumonia (J09-J18)'), ({'Age': '143.8', 'Sex': 'F', 'Person': 'Hispanic'}, 'Diseases of Heart (I00-I09, I11, I13, I20-I51)'), ({'Age': '258.5', 'Sex': 'M', 'Person': 'Black Non-Hispanic'}, 'Diseases of Heart (I00-I09, I11, I13, I20-I51)'), ({'Age': '16.6', 'Sex': 'M', 'Person': 'Hispanic'}, 'Mental and Behavioral Disorders due to Accidental Poisoning and Other Psychoactive Substance Use (F11-F16, F18-F19, X40-X42, X44)'), ({'Age': '.', 'Sex': 'M', 'Person': 'Not Stated/Unknown'}, 'Essential Hypertension and Renal Diseases (I10, I12)'), ({'Age': '.', 'Sex': 'F', 'Person': 'Other Race/ Ethnicity'}, 'Accidents Except Drug Posioning (V01-X39, X43, X45-X59, Y85-Y86)'), ({'Age': '.', 'Sex': 'M', 'Person': 'Not Stated/Unknown'}, 'Chronic Liver Disease and Cirrhosis (K70, K73)'), ({'Age': '.', 'Sex': 'M', 'Person': 'Not Stated/Unknown'}, 'Essential Hypertension and Renal Diseases (I10, I12)'), ({'Age': '.', 'Sex': 'M', 'Person': 'Not Stated/Unknown'}, 'Chronic Lower Respiratory Diseases (J40-J47)'), ({'Age': '8.4', 'Sex': 'M', 'Person': 'Asian and Pacific Islander'}, 'Essential Hypertension and Renal Diseases (I10, I12)'), ({'Age': '.', 'Sex': 'F', 'Person': 'Not Stated/Unknown'}, 'Diseases of Heart (I00-I09, I11, I13, I20-I51)'), ({'Age': '23.2', 'Sex': 'F', 'Person': 'White Non-Hispanic'}, 'Influenza (Flu) and Pneumonia (J09-J18)'), ({'Age': '23.3', 'Sex': 'M', 'Person': 'White Non-Hispanic'}, 'Chronic Lower Respiratory Diseases (J40-J47)'), ({'Age': '8.7', 'Sex': 'M', 'Person': 'Asian and Pacific Islander'}, 'Intentional Self-Harm (Suicide: X60-X84, Y87.0)'), ({'Age': '22.7', 'Sex': 'M', 'Person': 'Black Non-Hispanic'}, 'Chronic Lower Respiratory Diseases (J40-J47)'), ({'Age': '350.7', 'Sex': 'M', 'Person': 'White Non-Hispanic'}, 'Diseases of Heart (I00-I09, I11, I13, I20-I51)'), ({'Age': '.', 'Sex': 'F', 'Person': 'Other Race/ Ethnicity'}, 'Intentional Self-Harm (Suicide: X60-X84, Y87.0)'), ({'Age': '78.6', 'Sex': 'F', 'Person': 'White Non-Hispanic'}, 'All Other Causes'), ({'Age': '.', 'Sex': 'F', 'Person': 'Other Race/ Ethnicity'}, 'Congenital Malformations, Deformations, and Chromosomal Abnormalities (Q00-Q99)'), ({'Age': '.', 'Sex': 'M', 'Person': 'Other Race/ Ethnicity'}, 'Intentional Self-Harm (Suicide: X60-X84, Y87.0)'), ({'Age': '19.8', 'Sex': 'M', 'Person': 'White Non-Hispanic'}, 'Accidents Except Drug Posioning (V01-X39, X43, X45-X59, Y85-Y86)'), ({'Age': '20.8', 'Sex': 'M', 'Person': 'Hispanic'}, 'Cerebrovascular Disease (Stroke: I60-I69)'), ({'Age': '6.7', 'Sex': 'F', 'Person': 'Black Non-Hispanic'}, 'Nephritis, Nephrotic Syndrome and Nephrisis (N00-N07, N17-N19, N25-N27)'), ({'Age': '3.3', 'Sex': 'F', 'Person': 'Asian and Pacific Islander'}, 'Nephritis, Nephrotic Syndrome and Nephrisis (N00-N07, N17-N19, N25-N27)'), ({'Age': '8.7', 'Sex': 'F', 'Person': 'Black Non-Hispanic'}, 'Human Immunodeficiency Virus Disease (HIV: B20-B24)'), ({'Age': '.', 'Sex': 'F', 'Person': 'Not Stated/Unknown'}, 'All Other Causes'), ({'Age': '8.3', 'Sex': 'M', 'Person': 'Asian and Pacific Islander'}, 'Essential Hypertension and Renal Diseases (I10, I12)'), ({'Age': '130.4', 'Sex': 'M', 'Person': 'Asian and Pacific Islander'}, 'Malignant Neoplasms (Cancer: C00-C97)'), ({'Age': '.', 'Sex': 'M', 'Person': 'Other Race/ Ethnicity'}, 'Chronic Liver Disease and Cirrhosis (K70, K73)'), ({'Age': '.', 'Sex': 'F', 'Person': 'Other Race/ Ethnicity'}, 'Diabetes Mellitus (E10-E14)'), ({'Age': '.', 'Sex': 'M', 'Person': 'Not Stated/Unknown'}, 'Mental and Behavioral Disorders due to Accidental Poisoning and Other Psychoactive Substance Use (F11-F16, F18-F19, X40-X42, X44)'), ({'Age': '75.3', 'Sex': 'F', 'Person': 'Hispanic'}, 'All Other Causes'), ({'Age': '89.7', 'Sex': 'F', 'Person': 'Asian and Pacific Islander'}, 'Diseases of Heart (I00-I09, I11, I13, I20-I51)'), ({'Age': '34.4', 'Sex': 'M', 'Person': 'Hispanic'}, 'Influenza (Flu) and Pneumonia (J09-J18)'), ({'Age': '17.1', 'Sex': 'F', 'Person': 'Black Non-Hispanic'}, 'Chronic Lower Respiratory Diseases (J40-J47)'), ({'Age': '.', 'Sex': 'F', 'Person': 'Not Stated/Unknown'}, 'Cerebrovascular Disease (Stroke: I60-I69)'), ({'Age': '16.1', 'Sex': 'M', 'Person': 'Asian and Pacific Islander'}, 'Chronic Lower Respiratory Diseases (J40-J47)'), ({'Age': '.', 'Sex': 'M', 'Person': 'Other Race/ Ethnicity'}, 'Accidents Except Drug Posioning (V01-X39, X43, X45-X59, Y85-Y86)'), ({'Age': '.', 'Sex': 'F', 'Person': 'Not Stated/Unknown'}, 'Diseases of Heart (I00-I09, I11, I13, I20-I51)'), ({'Age': '4.7', 'Sex': 'F', 'Person': 'White Non-Hispanic'}, 'Septicemia (A40-A41)'), ({'Age': '.', 'Sex': 'F', 'Person': 'Other Race/ Ethnicity'}, 'Diabetes Mellitus (E10-E14)'), ({'Age': '.', 'Sex': 'M', 'Person': 'Not Stated/Unknown'}, 'Diseases of Heart (I00-I09, I11, I13, I20-I51)'), ({'Age': '.', 'Sex': 'F', 'Person': 'Not Stated/Unknown'}, 'Essential Hypertension and Renal Diseases (I10, I12)'), ({'Age': '.', 'Sex': 'F', 'Person': 'Not Stated/Unknown'}, 'Nephritis, Nephrotic Syndrome and Nephrisis (N00-N07, N17-N19, N25-N27)'), ({'Age': '.', 'Sex': 'M', 'Person': 'Other Race/ Ethnicity'}, 'Diabetes Mellitus (E10-E14)'), ({'Age': '.', 'Sex': 'M', 'Person': 'Not Stated/Unknown'}, 'Influenza (Flu) and Pneumonia (J09-J18)'), ({'Age': '8.8', 'Sex': 'F', 'Person': 'Hispanic'}, 'Essential Hypertension and Renal Diseases (I10, I12)'), ({'Age': '340.2', 'Sex': 'M', 'Person': 'Black Non-Hispanic'}, 'Diseases of Heart (I00-I09, I11, I13, I20-I51)'), ({'Age': '38.1', 'Sex': 'M', 'Person': 'Black Non-Hispanic'}, 'Diabetes Mellitus (E10-E14)'), ({'Age': '.', 'Sex': 'M', 'Person': 'Not Stated/Unknown'}, 'Certain Conditions originating in the Perinatal Period (P00-P96)'), ({'Age': '21.1', 'Sex': 'M', 'Person': 'Hispanic'}, 'Cerebrovascular Disease (Stroke: I60-I69)'), ({'Age': '20', 'Sex': 'M', 'Person': 'Hispanic'}, 'Human Immunodeficiency Virus Disease (HIV: B20-B24)'), ({'Age': '.', 'Sex': 'M', 'Person': 'Other Race/ Ethnicity'}, 'Diabetes Mellitus (E10-E14)'), ({'Age': '.', 'Sex': 'F', 'Person': 'Other Race/ Ethnicity'}, 'Chronic Lower Respiratory Diseases (J40-J47)'), ({'Age': '14.1', 'Sex': 'F', 'Person': 'Asian and Pacific Islander'}, 'Cerebrovascular Disease (Stroke: I60-I69)'), ({'Age': '.', 'Sex': 'F', 'Person': 'Other Race/ Ethnicity'}, 'Diseases of Heart (I00-I09, I11, I13, I20-I51)'), ({'Age': '.', 'Sex': 'M', 'Person': 'Not Stated/Unknown'}, 'Diabetes Mellitus (E10-E14)'), ({'Age': '5.9', 'Sex': 'F', 'Person': 'White Non-Hispanic'}, 'Essential Hypertension and Renal Diseases (I10, I12)'), ({'Age': '13.6', 'Sex': 'M', 'Person': 'White Non-Hispanic'}, 'Intentional Self-Harm (Suicide: X60-X84, Y87.0)'), ({'Age': '33.9', 'Sex': 'M', 'Person': 'Black Non-Hispanic'}, 'Influenza (Flu) and Pneumonia (J09-J18)'), ({'Age': '.', 'Sex': 'F', 'Person': 'Not Stated/Unknown'}, 'Certain Conditions originating in the Perinatal Period (P00-P96)'), ({'Age': '27.3', 'Sex': 'M', 'Person': 'Black Non-Hispanic'}, 'Chronic Lower Respiratory Diseases (J40-J47)'), ({'Age': '.', 'Sex': 'M', 'Person': 'Not Stated/Unknown'}, 'Diabetes Mellitus (E10-E14)'), ({'Age': '38.5', 'Sex': 'M', 'Person': 'Black Non-Hispanic'}, 'Human Immunodeficiency Virus Disease (HIV: B20-B24)'), ({'Age': '14.8', 'Sex': 'F', 'Person': 'Black Non-Hispanic'}, 'Chronic Lower Respiratory Diseases (J40-J47)'), ({'Age': '7.2', 'Sex': 'F', 'Person': 'White Non-Hispanic'}, \"Alzheimer's Disease (G30)\"), ({'Age': '7.4', 'Sex': 'F', 'Person': 'Asian and Pacific Islander'}, 'Chronic Lower Respiratory Diseases (J40-J47)'), ({'Age': '180.8', 'Sex': 'M', 'Person': 'Hispanic'}, 'Diseases of Heart (I00-I09, I11, I13, I20-I51)'), ({'Age': '167.7', 'Sex': 'M', 'Person': 'Black Non-Hispanic'}, 'All Other Causes'), ({'Age': '86.1', 'Sex': 'F', 'Person': 'Asian and Pacific Islander'}, 'Diseases of Heart (I00-I09, I11, I13, I20-I51)'), ({'Age': '25.4', 'Sex': 'M', 'Person': 'Black Non-Hispanic'}, 'Chronic Lower Respiratory Diseases (J40-J47)'), ({'Age': '115.9', 'Sex': 'M', 'Person': 'White Non-Hispanic'}, 'All Other Causes'), ({'Age': '.', 'Sex': 'F', 'Person': 'Not Stated/Unknown'}, 'Diseases of Heart (I00-I09, I11, I13, I20-I51)'), ({'Age': '16.4', 'Sex': 'F', 'Person': 'Black Non-Hispanic'}, 'Chronic Lower Respiratory Diseases (J40-J47)'), ({'Age': '5', 'Sex': 'F', 'Person': 'White Non-Hispanic'}, 'Septicemia (A40-A41)'), ({'Age': '20.9', 'Sex': 'M', 'Person': 'Black Non-Hispanic'}, 'Essential Hypertension and Renal Diseases (I10, I12)'), ({'Age': '205.6', 'Sex': 'M', 'Person': 'White Non-Hispanic'}, 'Malignant Neoplasms (Cancer: C00-C97)'), ({'Age': '.', 'Sex': 'F', 'Person': 'Other Race/ Ethnicity'}, 'Mental and Behavioral Disorders due to Accidental Poisoning and Other Psychoactive Substance Use (F11-F16, F18-F19, X40-X42, X44)'), ({'Age': '166.2', 'Sex': 'M', 'Person': 'Black Non-Hispanic'}, 'All Other Causes'), ({'Age': '123.5', 'Sex': 'M', 'Person': 'Asian and Pacific Islander'}, 'Malignant Neoplasms (Cancer: C00-C97)'), ({'Age': '.', 'Sex': 'M', 'Person': 'Not Stated/Unknown'}, 'Malignant Neoplasms (Cancer: C00-C97)'), ({'Age': '212.8', 'Sex': 'M', 'Person': 'Black Non-Hispanic'}, 'Malignant Neoplasms (Cancer: C00-C97)'), ({'Age': '.', 'Sex': 'F', 'Person': 'Other Race/ Ethnicity'}, 'Malignant Neoplasms (Cancer: C00-C97)'), ({'Age': '13.3', 'Sex': 'M', 'Person': 'Asian and Pacific Islander'}, 'Diabetes Mellitus (E10-E14)'), ({'Age': '.', 'Sex': 'F', 'Person': 'Other Race/ Ethnicity'}, 'Chronic Lower Respiratory Diseases (J40-J47)'), ({'Age': '.', 'Sex': 'F', 'Person': 'Other Race/ Ethnicity'}, 'Accidents Except Drug Posioning (V01-X39, X43, X45-X59, Y85-Y86)'), ({'Age': '90.4', 'Sex': 'M', 'Person': 'Asian and Pacific Islander'}, 'All Other Causes'), ({'Age': '10.2', 'Sex': 'F', 'Person': 'Asian and Pacific Islander'}, 'Essential Hypertension and Renal Diseases (I10, I12)'), ({'Age': '7.7', 'Sex': 'M', 'Person': 'Asian and Pacific Islander'}, 'Intentional Self-Harm (Suicide: X60-X84, Y87.0)'), ({'Age': '17.1', 'Sex': 'F', 'Person': 'Black Non-Hispanic'}, 'Essential Hypertension and Renal Diseases (I10, I12)'), ({'Age': '107.2', 'Sex': 'F', 'Person': 'Hispanic'}, 'Malignant Neoplasms (Cancer: C00-C97)'), ({'Age': '.', 'Sex': 'F', 'Person': 'Other Race/ Ethnicity'}, 'Malignant Neoplasms (Cancer: C00-C97)'), ({'Age': '20.6', 'Sex': 'M', 'Person': 'Black Non-Hispanic'}, 'Accidents Except Drug Posioning (V01-X39, X43, X45-X59, Y85-Y86)'), ({'Age': '4.6', 'Sex': 'F', 'Person': 'Hispanic'}, 'Chronic Liver Disease and Cirrhosis (K70, K73)'), ({'Age': '5.8', 'Sex': 'M', 'Person': 'Asian and Pacific Islander'}, 'Nephritis, Nephrotic Syndrome and Nephrisis (N00-N07, N17-N19, N25-N27)'), ({'Age': '18.2', 'Sex': 'M', 'Person': 'White Non-Hispanic'}, 'Cerebrovascular Disease (Stroke: I60-I69)'), ({'Age': '151', 'Sex': 'M', 'Person': 'Hispanic'}, 'Malignant Neoplasms (Cancer: C00-C97)'), ({'Age': '.', 'Sex': 'F', 'Person': 'Not Stated/Unknown'}, 'Viral Hepatitis (B15-B19)'), ({'Age': '5.9', 'Sex': 'F', 'Person': 'White Non-Hispanic'}, 'Essential Hypertension and Renal Diseases (I10, I12)'), ({'Age': '.', 'Sex': 'F', 'Person': 'Not Stated/Unknown'}, \"Alzheimer's Disease (G30)\"), ({'Age': '65', 'Sex': 'F', 'Person': 'Asian and Pacific Islander'}, 'All Other Causes'), ({'Age': '23.1', 'Sex': 'F', 'Person': 'Hispanic'}, 'Influenza (Flu) and Pneumonia (J09-J18)'), ({'Age': '.', 'Sex': 'M', 'Person': 'Other Race/ Ethnicity'}, 'Nephritis, Nephrotic Syndrome and Nephrisis (N00-N07, N17-N19, N25-N27)'), ({'Age': '151.1', 'Sex': 'F', 'Person': 'Black Non-Hispanic'}, 'Malignant Neoplasms (Cancer: C00-C97)'), ({'Age': '9.4', 'Sex': 'F', 'Person': 'White Non-Hispanic'}, 'Accidents Except Drug Posioning (V01-X39, X43, X45-X59, Y85-Y86)'), ({'Age': '4.7', 'Sex': 'F', 'Person': 'Asian and Pacific Islander'}, \"Alzheimer's Disease (G30)\"), ({'Age': '8.3', 'Sex': 'F', 'Person': 'Asian and Pacific Islander'}, 'Diabetes Mellitus (E10-E14)'), ({'Age': '.', 'Sex': 'F', 'Person': 'Not Stated/Unknown'}, 'Diabetes Mellitus (E10-E14)'), ({'Age': '175', 'Sex': 'M', 'Person': 'Black Non-Hispanic'}, 'All Other Causes'), ({'Age': '99.9', 'Sex': 'F', 'Person': 'Hispanic'}, 'Malignant Neoplasms (Cancer: C00-C97)'), ({'Age': '181.7', 'Sex': 'M', 'Person': 'Black Non-Hispanic'}, 'All Other Causes'), ({'Age': '4.3', 'Sex': 'F', 'Person': 'Asian and Pacific Islander'}, 'Nephritis, Nephrotic Syndrome and Nephrisis (N00-N07, N17-N19, N25-N27)'), ({'Age': '18.5', 'Sex': 'F', 'Person': 'Hispanic'}, 'Influenza (Flu) and Pneumonia (J09-J18)'), ({'Age': '.', 'Sex': 'F', 'Person': 'Not Stated/Unknown'}, 'Assault (Homicide: Y87.1, X85-Y09)'), ({'Age': '177.8', 'Sex': 'M', 'Person': 'Black Non-Hispanic'}, 'All Other Causes'), ({'Age': '.', 'Sex': 'F', 'Person': 'Not Stated/Unknown'}, 'All Other Causes'), ({'Age': '22.8', 'Sex': 'M', 'Person': 'Black Non-Hispanic'}, 'Cerebrovascular Disease (Stroke: I60-I69)'), ({'Age': '15.1', 'Sex': 'M', 'Person': 'Asian and Pacific Islander'}, 'Chronic Lower Respiratory Diseases (J40-J47)'), ({'Age': '19.6', 'Sex': 'F', 'Person': 'Hispanic'}, 'Diabetes Mellitus (E10-E14)'), ({'Age': '.', 'Sex': 'M', 'Person': 'Other Race/ Ethnicity'}, 'Chronic Lower Respiratory Diseases (J40-J47)'), ({'Age': '21.1', 'Sex': 'M', 'Person': 'Asian and Pacific Islander'}, 'Diabetes Mellitus (E10-E14)'), ({'Age': '37.4', 'Sex': 'M', 'Person': 'Black Non-Hispanic'}, 'Influenza (Flu) and Pneumonia (J09-J18)'), ({'Age': '10.4', 'Sex': 'F', 'Person': 'White Non-Hispanic'}, 'Diabetes Mellitus (E10-E14)'), ({'Age': '163', 'Sex': 'F', 'Person': 'White Non-Hispanic'}, 'Malignant Neoplasms (Cancer: C00-C97)'), ({'Age': '.', 'Sex': 'M', 'Person': 'Other Race/ Ethnicity'}, 'All Other Causes'), ({'Age': '22.2', 'Sex': 'F', 'Person': 'Black Non-Hispanic'}, 'Cerebrovascular Disease (Stroke: I60-I69)'), ({'Age': '220.9', 'Sex': 'F', 'Person': 'Black Non-Hispanic'}, 'Diseases of Heart (I00-I09, I11, I13, I20-I51)'), ({'Age': '19.1', 'Sex': 'F', 'Person': 'Asian and Pacific Islander'}, 'Influenza (Flu) and Pneumonia (J09-J18)'), ({'Age': '.', 'Sex': 'M', 'Person': 'Other Race/ Ethnicity'}, 'Diabetes Mellitus (E10-E14)'), ({'Age': '27.6', 'Sex': 'M', 'Person': 'Hispanic'}, 'Diabetes Mellitus (E10-E14)'), ({'Age': '9.5', 'Sex': 'F', 'Person': 'White Non-Hispanic'}, 'Diabetes Mellitus (E10-E14)'), ({'Age': '.', 'Sex': 'M', 'Person': 'Not Stated/Unknown'}, 'Chronic Lower Respiratory Diseases (J40-J47)'), ({'Age': '98.8', 'Sex': 'F', 'Person': 'Hispanic'}, 'All Other Causes'), ({'Age': '228', 'Sex': 'M', 'Person': 'Hispanic'}, 'Diseases of Heart (I00-I09, I11, I13, I20-I51)'), ({'Age': '9.1', 'Sex': 'M', 'Person': 'White Non-Hispanic'}, 'Essential Hypertension and Renal Diseases (I10, I12)'), ({'Age': '.', 'Sex': 'M', 'Person': 'Not Stated/Unknown'}, 'Diseases of Heart (I00-I09, I11, I13, I20-I51)'), ({'Age': '18.8', 'Sex': 'M', 'Person': 'White Non-Hispanic'}, 'Accidents Except Drug Posioning (V01-X39, X43, X45-X59, Y85-Y86)'), ({'Age': '.', 'Sex': 'M', 'Person': 'Not Stated/Unknown'}, 'Septicemia (A40-A41)'), ({'Age': '.', 'Sex': 'F', 'Person': 'Not Stated/Unknown'}, \"Alzheimer's Disease (G30)\"), ({'Age': '7.1', 'Sex': 'F', 'Person': 'Hispanic'}, 'Accidents Except Drug Posioning (V01-X39, X43, X45-X59, Y85-Y86)'), ({'Age': '150', 'Sex': 'M', 'Person': 'Hispanic'}, 'All Other Causes'), ({'Age': '.', 'Sex': 'M', 'Person': 'Other Race/ Ethnicity'}, 'Accidents Except Drug Posioning (V01-X39, X43, X45-X59, Y85-Y86)'), ({'Age': '.', 'Sex': 'M', 'Person': 'Not Stated/Unknown'}, 'Diseases of Heart (I00-I09, I11, I13, I20-I51)'), ({'Age': '12.8', 'Sex': 'F', 'Person': 'Hispanic'}, 'Chronic Lower Respiratory Diseases (J40-J47)'), ({'Age': '.', 'Sex': 'F', 'Person': 'Other Race/ Ethnicity'}, 'Cerebrovascular Disease (Stroke: I60-I69)'), ({'Age': '17.4', 'Sex': 'F', 'Person': 'Black Non-Hispanic'}, 'Essential Hypertension and Renal Diseases (I10, I12)'), ({'Age': '146.4', 'Sex': 'M', 'Person': 'Hispanic'}, 'All Other Causes'), ({'Age': '.', 'Sex': 'M', 'Person': 'Not Stated/Unknown'}, 'Assault (Homicide: Y87.1, X85-Y09)'), ({'Age': '164.3', 'Sex': 'F', 'Person': 'Hispanic'}, 'Diseases of Heart (I00-I09, I11, I13, I20-I51)'), ({'Age': '19.3', 'Sex': 'M', 'Person': 'Hispanic'}, 'Chronic Lower Respiratory Diseases (J40-J47)'), ({'Age': '31.3', 'Sex': 'M', 'Person': 'Hispanic'}, 'Diabetes Mellitus (E10-E14)'), ({'Age': '104.7', 'Sex': 'F', 'Person': 'Hispanic'}, 'Malignant Neoplasms (Cancer: C00-C97)'), ({'Age': '30', 'Sex': 'M', 'Person': 'Black Non-Hispanic'}, 'Assault (Homicide: Y87.1, X85-Y09)'), ({'Age': '22.6', 'Sex': 'M', 'Person': 'Black Non-Hispanic'}, 'Chronic Lower Respiratory Diseases (J40-J47)'), ({'Age': '157.8', 'Sex': 'M', 'Person': 'Asian and Pacific Islander'}, 'Diseases of Heart (I00-I09, I11, I13, I20-I51)'), ({'Age': '.', 'Sex': 'F', 'Person': 'Not Stated/Unknown'}, 'Essential Hypertension and Renal Diseases (I10, I12)'), ({'Age': '20.6', 'Sex': 'M', 'Person': 'Black Non-Hispanic'}, 'Assault (Homicide: Y87.1, X85-Y09)'), ({'Age': '12.3', 'Sex': 'M', 'Person': 'White Non-Hispanic'}, 'Intentional Self-Harm (Suicide: X60-X84, Y87.0)'), ({'Age': '6.2', 'Sex': 'F', 'Person': 'Hispanic'}, 'Chronic Liver Disease and Cirrhosis (K70, K73)'), ({'Age': '16.2', 'Sex': 'M', 'Person': 'Asian and Pacific Islander'}, 'Cerebrovascular Disease (Stroke: I60-I69)'), ({'Age': '21', 'Sex': 'F', 'Person': 'White Non-Hispanic'}, 'Chronic Lower Respiratory Diseases (J40-J47)'), ({'Age': '4.2', 'Sex': 'M', 'Person': 'Asian and Pacific Islander'}, 'Certain Conditions originating in the Perinatal Period (P00-P96)'), ({'Age': '5.4', 'Sex': 'M', 'Person': 'Asian and Pacific Islander'}, 'Chronic Liver Disease and Cirrhosis (K70, K73)'), ({'Age': '17.9', 'Sex': 'M', 'Person': 'Hispanic'}, 'Mental and Behavioral Disorders due to Accidental Poisoning and Other Psychoactive Substance Use (F11-F16, F18-F19, X40-X42, X44)'), ({'Age': '41.1', 'Sex': 'M', 'Person': 'Black Non-Hispanic'}, 'Diabetes Mellitus (E10-E14)'), ({'Age': '4.3', 'Sex': 'F', 'Person': 'White Non-Hispanic'}, 'Septicemia (A40-A41)'), ({'Age': '.', 'Sex': 'M', 'Person': 'Other Race/ Ethnicity'}, 'Chronic Lower Respiratory Diseases (J40-J47)'), ({'Age': '.', 'Sex': 'M', 'Person': 'Not Stated/Unknown'}, 'Viral Hepatitis (B15-B19)'), ({'Age': '.', 'Sex': 'F', 'Person': 'Not Stated/Unknown'}, 'Chronic Lower Respiratory Diseases (J40-J47)'), ({'Age': '3.2', 'Sex': 'F', 'Person': 'Asian and Pacific Islander'}, 'Nephritis, Nephrotic Syndrome and Nephrisis (N00-N07, N17-N19, N25-N27)'), ({'Age': '.', 'Sex': 'M', 'Person': 'Not Stated/Unknown'}, 'Certain Conditions originating in the Perinatal Period (P00-P96)'), ({'Age': '.', 'Sex': 'M', 'Person': 'Not Stated/Unknown'}, 'Influenza (Flu) and Pneumonia (J09-J18)'), ({'Age': '.', 'Sex': 'M', 'Person': 'Not Stated/Unknown'}, 'Viral Hepatitis (B15-B19)'), ({'Age': '.', 'Sex': 'M', 'Person': 'Other Race/ Ethnicity'}, 'All Other Causes'), ({'Age': '.', 'Sex': 'F', 'Person': 'Other Race/ Ethnicity'}, 'Intentional Self-Harm (Suicide: X60-X84, Y87.0)'), ({'Age': '21.7', 'Sex': 'M', 'Person': 'White Non-Hispanic'}, 'Chronic Lower Respiratory Diseases (J40-J47)'), ({'Age': '.', 'Sex': 'F', 'Person': 'Other Race/ Ethnicity'}, 'Certain Conditions originating in the Perinatal Period (P00-P96)'), ({'Age': '.', 'Sex': 'F', 'Person': 'Not Stated/Unknown'}, 'All Other Causes'), ({'Age': '.', 'Sex': 'F', 'Person': 'Not Stated/Unknown'}, 'Diseases of Heart (I00-I09, I11, I13, I20-I51)'), ({'Age': '.', 'Sex': 'F', 'Person': 'Not Stated/Unknown'}, 'Certain Conditions originating in the Perinatal Period (P00-P96)'), ({'Age': '5.1', 'Sex': 'F', 'Person': 'White Non-Hispanic'}, 'Mental and Behavioral Disorders due to Accidental Poisoning and Other Psychoactive Substance Use (F11-F16, F18-F19, X40-X42, X44)'), ({'Age': '161.1', 'Sex': 'F', 'Person': 'White Non-Hispanic'}, 'Malignant Neoplasms (Cancer: C00-C97)'), ({'Age': '86.1', 'Sex': 'F', 'Person': 'Asian and Pacific Islander'}, 'Malignant Neoplasms (Cancer: C00-C97)'), ({'Age': '15.8', 'Sex': 'F', 'Person': 'Asian and Pacific Islander'}, 'Influenza (Flu) and Pneumonia (J09-J18)'), ({'Age': '117.7', 'Sex': 'F', 'Person': 'Asian and Pacific Islander'}, 'Diseases of Heart (I00-I09, I11, I13, I20-I51)'), ({'Age': '175.7', 'Sex': 'M', 'Person': 'Black Non-Hispanic'}, 'All Other Causes'), ({'Age': '.', 'Sex': 'M', 'Person': 'Not Stated/Unknown'}, 'Malignant Neoplasms (Cancer: C00-C97)'), ({'Age': '31.7', 'Sex': 'M', 'Person': 'Asian and Pacific Islander'}, 'Influenza (Flu) and Pneumonia (J09-J18)'), ({'Age': '7.1', 'Sex': 'F', 'Person': 'Black Non-Hispanic'}, 'Nephritis, Nephrotic Syndrome and Nephrisis (N00-N07, N17-N19, N25-N27)'), ({'Age': '7.9', 'Sex': 'F', 'Person': 'Asian and Pacific Islander'}, 'Chronic Lower Respiratory Diseases (J40-J47)'), ({'Age': '.', 'Sex': 'M', 'Person': 'Other Race/ Ethnicity'}, 'Diseases of Heart (I00-I09, I11, I13, I20-I51)'), ({'Age': '10.3', 'Sex': 'F', 'Person': 'White Non-Hispanic'}, 'Diabetes Mellitus (E10-E14)'), ({'Age': '20', 'Sex': 'M', 'Person': 'Hispanic'}, 'Cerebrovascular Disease (Stroke: I60-I69)'), ({'Age': '16.3', 'Sex': 'M', 'Person': 'Hispanic'}, 'Mental and Behavioral Disorders due to Accidental Poisoning and Other Psychoactive Substance Use (F11-F16, F18-F19, X40-X42, X44)'), ({'Age': '19.2', 'Sex': 'M', 'Person': 'Hispanic'}, 'Chronic Lower Respiratory Diseases (J40-J47)'), ({'Age': '.', 'Sex': 'F', 'Person': 'Other Race/ Ethnicity'}, 'Malignant Neoplasms (Cancer: C00-C97)'), ({'Age': '206.1', 'Sex': 'M', 'Person': 'White Non-Hispanic'}, 'Malignant Neoplasms (Cancer: C00-C97)'), ({'Age': '.', 'Sex': 'F', 'Person': 'Not Stated/Unknown'}, 'All Other Causes'), ({'Age': '12.7', 'Sex': 'F', 'Person': 'Asian and Pacific Islander'}, 'Diabetes Mellitus (E10-E14)'), ({'Age': '182.5', 'Sex': 'M', 'Person': 'Hispanic'}, 'Diseases of Heart (I00-I09, I11, I13, I20-I51)'), ({'Age': '.', 'Sex': 'F', 'Person': 'Other Race/ Ethnicity'}, 'Diseases of Heart (I00-I09, I11, I13, I20-I51)'), ({'Age': '170.5', 'Sex': 'M', 'Person': 'Hispanic'}, 'Diseases of Heart (I00-I09, I11, I13, I20-I51)'), ({'Age': '19.5', 'Sex': 'M', 'Person': 'White Non-Hispanic'}, 'Mental and Behavioral Disorders due to Accidental Poisoning and Other Psychoactive Substance Use (F11-F16, F18-F19, X40-X42, X44)'), ({'Age': '4.1', 'Sex': 'M', 'Person': 'Asian and Pacific Islander'}, 'Chronic Liver Disease and Cirrhosis (K70, K73)'), ({'Age': '.', 'Sex': 'F', 'Person': 'Not Stated/Unknown'}, 'Malignant Neoplasms (Cancer: C00-C97)'), ({'Age': '.', 'Sex': 'M', 'Person': 'Not Stated/Unknown'}, 'Diabetes Mellitus (E10-E14)'), ({'Age': '.', 'Sex': 'F', 'Person': 'Not Stated/Unknown'}, 'Influenza (Flu) and Pneumonia (J09-J18)'), ({'Age': '.', 'Sex': 'F', 'Person': 'Not Stated/Unknown'}, 'Mental and Behavioral Disorders due to Accidental Poisoning and Other Psychoactive Substance Use (F11-F16, F18-F19, X40-X42, X44)'), ({'Age': '18.6', 'Sex': 'M', 'Person': 'Black Non-Hispanic'}, 'Accidents Except Drug Posioning (V01-X39, X43, X45-X59, Y85-Y86)'), ({'Age': '215.5', 'Sex': 'M', 'Person': 'Hispanic'}, 'Diseases of Heart (I00-I09, I11, I13, I20-I51)'), ({'Age': '.', 'Sex': 'F', 'Person': 'Not Stated/Unknown'}, 'Insitu or Benign / Uncertain Neoplasms (D00-D48)'), ({'Age': '7.5', 'Sex': 'F', 'Person': 'White Non-Hispanic'}, \"Alzheimer's Disease (G30)\"), ({'Age': '6.3', 'Sex': 'F', 'Person': 'Asian and Pacific Islander'}, 'Chronic Lower Respiratory Diseases (J40-J47)'), ({'Age': '17.3', 'Sex': 'F', 'Person': 'Hispanic'}, 'Cerebrovascular Disease (Stroke: I60-I69)'), ({'Age': '17.3', 'Sex': 'M', 'Person': 'White Non-Hispanic'}, 'Mental and Behavioral Disorders due to Accidental Poisoning and Other Psychoactive Substance Use (F11-F16, F18-F19, X40-X42, X44)'), ({'Age': '.', 'Sex': 'M', 'Person': 'Other Race/ Ethnicity'}, 'Influenza (Flu) and Pneumonia (J09-J18)'), ({'Age': '.', 'Sex': 'F', 'Person': 'Not Stated/Unknown'}, 'Diseases of Heart (I00-I09, I11, I13, I20-I51)'), ({'Age': '15.5', 'Sex': 'M', 'Person': 'Asian and Pacific Islander'}, 'Diabetes Mellitus (E10-E14)'), ({'Age': '10.3', 'Sex': 'M', 'Person': 'White Non-Hispanic'}, 'Essential Hypertension and Renal Diseases (I10, I12)'), ({'Age': '.', 'Sex': 'F', 'Person': 'Not Stated/Unknown'}, 'Malignant Neoplasms (Cancer: C00-C97)'), ({'Age': '.', 'Sex': 'F', 'Person': 'Not Stated/Unknown'}, 'Chronic Lower Respiratory Diseases (J40-J47)'), ({'Age': '.', 'Sex': 'F', 'Person': 'Other Race/ Ethnicity'}, 'Nephritis, Nephrotic Syndrome and Nephrisis (N00-N07, N17-N19, N25-N27)'), ({'Age': '106.7', 'Sex': 'F', 'Person': 'Hispanic'}, 'Diseases of Heart (I00-I09, I11, I13, I20-I51)'), ({'Age': '14.2', 'Sex': 'M', 'Person': 'White Non-Hispanic'}, 'Cerebrovascular Disease (Stroke: I60-I69)'), ({'Age': '5.1', 'Sex': 'F', 'Person': 'White Non-Hispanic'}, \"Alzheimer's Disease (G30)\"), ({'Age': '21.4', 'Sex': 'F', 'Person': 'Black Non-Hispanic'}, 'Cerebrovascular Disease (Stroke: I60-I69)'), ({'Age': '7.8', 'Sex': 'F', 'Person': 'White Non-Hispanic'}, 'Essential Hypertension and Renal Diseases (I10, I12)'), ({'Age': '.', 'Sex': 'M', 'Person': 'Other Race/ Ethnicity'}, 'Influenza (Flu) and Pneumonia (J09-J18)'), ({'Age': '8.5', 'Sex': 'F', 'Person': 'Asian and Pacific Islander'}, 'Diabetes Mellitus (E10-E14)'), ({'Age': '18.1', 'Sex': 'M', 'Person': 'White Non-Hispanic'}, 'Accidents Except Drug Posioning (V01-X39, X43, X45-X59, Y85-Y86)'), ({'Age': '15.1', 'Sex': 'M', 'Person': 'White Non-Hispanic'}, 'Cerebrovascular Disease (Stroke: I60-I69)'), ({'Age': '14.9', 'Sex': 'M', 'Person': 'Asian and Pacific Islander'}, 'Diabetes Mellitus (E10-E14)'), ({'Age': '8.1', 'Sex': 'F', 'Person': 'White Non-Hispanic'}, 'Accidents Except Drug Posioning (V01-X39, X43, X45-X59, Y85-Y86)'), ({'Age': '20', 'Sex': 'F', 'Person': 'Black Non-Hispanic'}, 'Human Immunodeficiency Virus Disease (HIV: B20-B24)'), ({'Age': '.', 'Sex': 'M', 'Person': 'Other Race/ Ethnicity'}, 'Intentional Self-Harm (Suicide: X60-X84, Y87.0)'), ({'Age': '22.6', 'Sex': 'F', 'Person': 'Hispanic'}, 'Diabetes Mellitus (E10-E14)'), ({'Age': '19.6', 'Sex': 'F', 'Person': 'White Non-Hispanic'}, 'Chronic Lower Respiratory Diseases (J40-J47)'), ({'Age': '7.4', 'Sex': 'F', 'Person': 'Black Non-Hispanic'}, \"Alzheimer's Disease (G30)\"), ({'Age': '15.1', 'Sex': 'F', 'Person': 'Asian and Pacific Islander'}, 'Influenza (Flu) and Pneumonia (J09-J18)'), ({'Age': '.', 'Sex': 'F', 'Person': 'Not Stated/Unknown'}, 'Malignant Neoplasms (Cancer: C00-C97)'), ({'Age': '.', 'Sex': 'M', 'Person': 'Not Stated/Unknown'}, 'Human Immunodeficiency Virus Disease (HIV: B20-B24)'), ({'Age': '.', 'Sex': 'F', 'Person': 'Other Race/ Ethnicity'}, 'All Other Causes'), ({'Age': '9.4', 'Sex': 'M', 'Person': 'Asian and Pacific Islander'}, 'Intentional Self-Harm (Suicide: X60-X84, Y87.0)'), ({'Age': '.', 'Sex': 'M', 'Person': 'Other Race/ Ethnicity'}, 'Malignant Neoplasms (Cancer: C00-C97)'), ({'Age': '2.9', 'Sex': 'F', 'Person': 'Asian and Pacific Islander'}, 'Intentional Self-Harm (Suicide: X60-X84, Y87.0)'), ({'Age': '6.3', 'Sex': 'F', 'Person': 'Black Non-Hispanic'}, 'Nephritis, Nephrotic Syndrome and Nephrisis (N00-N07, N17-N19, N25-N27)'), ({'Age': '42.2', 'Sex': 'M', 'Person': 'Black Non-Hispanic'}, 'Diabetes Mellitus (E10-E14)'), ({'Age': '.', 'Sex': 'M', 'Person': 'Not Stated/Unknown'}, 'Intentional Self-Harm (Suicide: X60-X84, Y87.0)'), ({'Age': '.', 'Sex': 'M', 'Person': 'Other Race/ Ethnicity'}, 'Accidents Except Drug Posioning (V01-X39, X43, X45-X59, Y85-Y86)'), ({'Age': '224.1', 'Sex': 'M', 'Person': 'Black Non-Hispanic'}, 'Malignant Neoplasms (Cancer: C00-C97)'), ({'Age': '.', 'Sex': 'M', 'Person': 'Other Race/ Ethnicity'}, 'Cerebrovascular Disease (Stroke: I60-I69)'), ({'Age': '.', 'Sex': 'M', 'Person': 'Other Race/ Ethnicity'}, 'Diseases of Heart (I00-I09, I11, I13, I20-I51)'), ({'Age': '187.3', 'Sex': 'F', 'Person': 'Black Non-Hispanic'}, 'Diseases of Heart (I00-I09, I11, I13, I20-I51)'), ({'Age': '85.6', 'Sex': 'F', 'Person': 'Hispanic'}, 'All Other Causes'), ({'Age': '.', 'Sex': 'M', 'Person': 'Not Stated/Unknown'}, 'Certain Conditions originating in the Perinatal Period (P00-P96)'), ({'Age': '37.6', 'Sex': 'M', 'Person': 'White Non-Hispanic'}, 'Influenza (Flu) and Pneumonia (J09-J18)'), ({'Age': '.', 'Sex': 'M', 'Person': 'Other Race/ Ethnicity'}, 'Diseases of Heart (I00-I09, I11, I13, I20-I51)'), ({'Age': '20.7', 'Sex': 'F', 'Person': 'Asian and Pacific Islander'}, 'Cerebrovascular Disease (Stroke: I60-I69)'), ({'Age': '7.2', 'Sex': 'M', 'Person': 'Asian and Pacific Islander'}, 'Intentional Self-Harm (Suicide: X60-X84, Y87.0)'), ({'Age': '18.5', 'Sex': 'M', 'Person': 'Asian and Pacific Islander'}, 'Cerebrovascular Disease (Stroke: I60-I69)'), ({'Age': '41.8', 'Sex': 'M', 'Person': 'Black Non-Hispanic'}, 'Human Immunodeficiency Virus Disease (HIV: B20-B24)'), ({'Age': '143.3', 'Sex': 'M', 'Person': 'White Non-Hispanic'}, 'All Other Causes'), ({'Age': '.', 'Sex': 'M', 'Person': 'Other Race/ Ethnicity'}, 'Malignant Neoplasms (Cancer: C00-C97)'), ({'Age': '4.9', 'Sex': 'F', 'Person': 'Hispanic'}, 'Mental and Behavioral Disorders due to Accidental Poisoning and Other Psychoactive Substance Use (F11-F16, F18-F19, X40-X42, X44)'), ({'Age': '.', 'Sex': 'F', 'Person': 'Not Stated/Unknown'}, 'Cerebrovascular Disease (Stroke: I60-I69)'), ({'Age': '21.4', 'Sex': 'F', 'Person': 'Black Non-Hispanic'}, 'Essential Hypertension and Renal Diseases (I10, I12)'), ({'Age': '.', 'Sex': 'M', 'Person': 'Not Stated/Unknown'}, 'Cerebrovascular Disease (Stroke: I60-I69)'), ({'Age': '18.7', 'Sex': 'M', 'Person': 'White Non-Hispanic'}, 'Accidents Except Drug Posioning (V01-X39, X43, X45-X59, Y85-Y86)'), ({'Age': '.', 'Sex': 'F', 'Person': 'Other Race/ Ethnicity'}, 'Intentional Self-Harm (Suicide: X60-X84, Y87.0)'), ({'Age': '.', 'Sex': 'F', 'Person': 'Other Race/ Ethnicity'}, 'Chronic Lower Respiratory Diseases (J40-J47)'), ({'Age': '.', 'Sex': 'M', 'Person': 'Other Race/ Ethnicity'}, 'Malignant Neoplasms (Cancer: C00-C97)'), ({'Age': '36.7', 'Sex': 'M', 'Person': 'Hispanic'}, 'Influenza (Flu) and Pneumonia (J09-J18)'), ({'Age': '.', 'Sex': 'F', 'Person': 'Other Race/ Ethnicity'}, 'Malignant Neoplasms (Cancer: C00-C97)'), ({'Age': '31.6', 'Sex': 'F', 'Person': 'Black Non-Hispanic'}, 'Diabetes Mellitus (E10-E14)'), ({'Age': '11.1', 'Sex': 'F', 'Person': 'White Non-Hispanic'}, 'Diabetes Mellitus (E10-E14)'), ({'Age': '224.4', 'Sex': 'M', 'Person': 'Black Non-Hispanic'}, 'Malignant Neoplasms (Cancer: C00-C97)'), ({'Age': '15.5', 'Sex': 'M', 'Person': 'Asian and Pacific Islander'}, 'Cerebrovascular Disease (Stroke: I60-I69)'), ({'Age': '18.4', 'Sex': 'M', 'Person': 'Hispanic'}, 'Human Immunodeficiency Virus Disease (HIV: B20-B24)'), ({'Age': '.', 'Sex': 'F', 'Person': 'Other Race/ Ethnicity'}, \"Alzheimer's Disease (G30)\"), ({'Age': '9.1', 'Sex': 'F', 'Person': 'Hispanic'}, \"Alzheimer's Disease (G30)\"), ({'Age': '12.5', 'Sex': 'F', 'Person': 'Hispanic'}, \"Alzheimer's Disease (G30)\"), ({'Age': '200.7', 'Sex': 'M', 'Person': 'White Non-Hispanic'}, 'Malignant Neoplasms (Cancer: C00-C97)'), ({'Age': '110.7', 'Sex': 'F', 'Person': 'White Non-Hispanic'}, 'All Other Causes'), ({'Age': '11', 'Sex': 'F', 'Person': 'Hispanic'}, \"Alzheimer's Disease (G30)\"), ({'Age': '.', 'Sex': 'M', 'Person': 'Other Race/ Ethnicity'}, 'Influenza (Flu) and Pneumonia (J09-J18)'), ({'Age': '5.2', 'Sex': 'F', 'Person': 'Hispanic'}, 'Accidents Except Drug Posioning (V01-X39, X43, X45-X59, Y85-Y86)'), ({'Age': '10.1', 'Sex': 'M', 'Person': 'Hispanic'}, 'Human Immunodeficiency Virus Disease (HIV: B20-B24)'), ({'Age': '167.4', 'Sex': 'F', 'Person': 'White Non-Hispanic'}, 'Malignant Neoplasms (Cancer: C00-C97)'), ({'Age': '.', 'Sex': 'F', 'Person': 'Other Race/ Ethnicity'}, 'Cerebrovascular Disease (Stroke: I60-I69)'), ({'Age': '81.1', 'Sex': 'F', 'Person': 'Asian and Pacific Islander'}, 'Diseases of Heart (I00-I09, I11, I13, I20-I51)'), ({'Age': '.', 'Sex': 'F', 'Person': 'Other Race/ Ethnicity'}, 'All Other Causes'), ({'Age': '25.7', 'Sex': 'M', 'Person': 'Asian and Pacific Islander'}, 'Influenza (Flu) and Pneumonia (J09-J18)'), ({'Age': '.', 'Sex': 'F', 'Person': 'Not Stated/Unknown'}, 'Diabetes Mellitus (E10-E14)'), ({'Age': '.', 'Sex': 'F', 'Person': 'Other Race/ Ethnicity'}, 'Cerebrovascular Disease (Stroke: I60-I69)'), ({'Age': '.', 'Sex': 'F', 'Person': 'Other Race/ Ethnicity'}, 'Chronic Lower Respiratory Diseases (J40-J47)'), ({'Age': '5.5', 'Sex': 'F', 'Person': 'White Non-Hispanic'}, 'Mental and Behavioral Disorders due to Accidental Poisoning and Other Psychoactive Substance Use (F11-F16, F18-F19, X40-X42, X44)'), ({'Age': '.', 'Sex': 'M', 'Person': 'Other Race/ Ethnicity'}, 'Accidents Except Drug Posioning (V01-X39, X43, X45-X59, Y85-Y86)'), ({'Age': '142.6', 'Sex': 'M', 'Person': 'Hispanic'}, 'All Other Causes'), ({'Age': '16.7', 'Sex': 'M', 'Person': 'White Non-Hispanic'}, 'Cerebrovascular Disease (Stroke: I60-I69)'), ({'Age': '15.4', 'Sex': 'F', 'Person': 'Hispanic'}, 'Chronic Lower Respiratory Diseases (J40-J47)'), ({'Age': '7.2', 'Sex': 'M', 'Person': 'Asian and Pacific Islander'}, 'Essential Hypertension and Renal Diseases (I10, I12)'), ({'Age': '26.1', 'Sex': 'M', 'Person': 'Black Non-Hispanic'}, 'Chronic Lower Respiratory Diseases (J40-J47)'), ({'Age': '19.1', 'Sex': 'F', 'Person': 'Asian and Pacific Islander'}, 'Cerebrovascular Disease (Stroke: I60-I69)'), ({'Age': '6.8', 'Sex': 'F', 'Person': 'White Non-Hispanic'}, 'Essential Hypertension and Renal Diseases (I10, I12)'), ({'Age': '5.8', 'Sex': 'F', 'Person': 'Asian and Pacific Islander'}, 'Intentional Self-Harm (Suicide: X60-X84, Y87.0)'), ({'Age': '118.5', 'Sex': 'M', 'Person': 'White Non-Hispanic'}, 'All Other Causes'), ({'Age': '319.8', 'Sex': 'M', 'Person': 'White Non-Hispanic'}, 'Diseases of Heart (I00-I09, I11, I13, I20-I51)'), ({'Age': '13.5', 'Sex': 'M', 'Person': 'Hispanic'}, 'Mental and Behavioral Disorders due to Accidental Poisoning and Other Psychoactive Substance Use (F11-F16, F18-F19, X40-X42, X44)'), ({'Age': '12.9', 'Sex': 'F', 'Person': 'Black Non-Hispanic'}, 'Human Immunodeficiency Virus Disease (HIV: B20-B24)'), ({'Age': '10', 'Sex': 'F', 'Person': 'White Non-Hispanic'}, 'Diabetes Mellitus (E10-E14)'), ({'Age': '2.5', 'Sex': 'F', 'Person': 'Asian and Pacific Islander'}, 'Viral Hepatitis (B15-B19)'), ({'Age': '8.4', 'Sex': 'F', 'Person': 'White Non-Hispanic'}, \"Alzheimer's Disease (G30)\"), ({'Age': '22.1', 'Sex': 'F', 'Person': 'Black Non-Hispanic'}, 'Human Immunodeficiency Virus Disease (HIV: B20-B24)'), ({'Age': '77.2', 'Sex': 'M', 'Person': 'Asian and Pacific Islander'}, 'All Other Causes'), ({'Age': '17.9', 'Sex': 'F', 'Person': 'Black Non-Hispanic'}, 'Chronic Lower Respiratory Diseases (J40-J47)'), ({'Age': '18.3', 'Sex': 'M', 'Person': 'Black Non-Hispanic'}, 'Accidents Except Drug Posioning (V01-X39, X43, X45-X59, Y85-Y86)'), ({'Age': '.', 'Sex': 'M', 'Person': 'Not Stated/Unknown'}, 'Human Immunodeficiency Virus Disease (HIV: B20-B24)'), ({'Age': '26.4', 'Sex': 'M', 'Person': 'White Non-Hispanic'}, 'Chronic Lower Respiratory Diseases (J40-J47)'), ({'Age': '18.4', 'Sex': 'F', 'Person': 'Hispanic'}, 'Diabetes Mellitus (E10-E14)'), ({'Age': '.', 'Sex': 'F', 'Person': 'Not Stated/Unknown'}, \"Alzheimer's Disease (G30)\"), ({'Age': '8.1', 'Sex': 'F', 'Person': 'Hispanic'}, 'Essential Hypertension and Renal Diseases (I10, I12)'), ({'Age': '21.3', 'Sex': 'M', 'Person': 'Asian and Pacific Islander'}, 'Cerebrovascular Disease (Stroke: I60-I69)'), ({'Age': '.', 'Sex': 'F', 'Person': 'Not Stated/Unknown'}, 'Cerebrovascular Disease (Stroke: I60-I69)'), ({'Age': '22.7', 'Sex': 'M', 'Person': 'Hispanic'}, 'Human Immunodeficiency Virus Disease (HIV: B20-B24)'), ({'Age': '24.5', 'Sex': 'F', 'Person': 'Black Non-Hispanic'}, 'Influenza (Flu) and Pneumonia (J09-J18)'), ({'Age': '.', 'Sex': 'M', 'Person': 'Not Stated/Unknown'}, 'All Other Causes'), ({'Age': '.', 'Sex': 'F', 'Person': 'Other Race/ Ethnicity'}, 'Congenital Malformations, Deformations, and Chromosomal Abnormalities (Q00-Q99)'), ({'Age': '7.6', 'Sex': 'F', 'Person': 'Asian and Pacific Islander'}, 'Accidents Except Drug Posioning (V01-X39, X43, X45-X59, Y85-Y86)'), ({'Age': '32.3', 'Sex': 'M', 'Person': 'White Non-Hispanic'}, 'Influenza (Flu) and Pneumonia (J09-J18)'), ({'Age': '138.1', 'Sex': 'M', 'Person': 'Hispanic'}, 'All Other Causes'), ({'Age': '80.6', 'Sex': 'F', 'Person': 'Asian and Pacific Islander'}, 'Malignant Neoplasms (Cancer: C00-C97)'), ({'Age': '5.2', 'Sex': 'F', 'Person': 'Hispanic'}, 'Accidents Except Drug Posioning (V01-X39, X43, X45-X59, Y85-Y86)'), ({'Age': '16.4', 'Sex': 'F', 'Person': 'White Non-Hispanic'}, 'Cerebrovascular Disease (Stroke: I60-I69)'), ({'Age': '13.6', 'Sex': 'M', 'Person': 'White Non-Hispanic'}, 'Intentional Self-Harm (Suicide: X60-X84, Y87.0)'), ({'Age': '342.3', 'Sex': 'M', 'Person': 'White Non-Hispanic'}, 'Diseases of Heart (I00-I09, I11, I13, I20-I51)'), ({'Age': '.', 'Sex': 'F', 'Person': 'Other Race/ Ethnicity'}, 'Influenza (Flu) and Pneumonia (J09-J18)'), ({'Age': '.', 'Sex': 'M', 'Person': 'Other Race/ Ethnicity'}, 'Cerebrovascular Disease (Stroke: I60-I69)'), ({'Age': '40.1', 'Sex': 'M', 'Person': 'Black Non-Hispanic'}, 'Influenza (Flu) and Pneumonia (J09-J18)'), ({'Age': '17.6', 'Sex': 'F', 'Person': 'White Non-Hispanic'}, 'Cerebrovascular Disease (Stroke: I60-I69)'), ({'Age': '63.3', 'Sex': 'M', 'Person': 'Asian and Pacific Islander'}, 'All Other Causes'), ({'Age': '.', 'Sex': 'F', 'Person': 'Other Race/ Ethnicity'}, 'Influenza (Flu) and Pneumonia (J09-J18)'), ({'Age': '.', 'Sex': 'M', 'Person': 'Not Stated/Unknown'}, 'Accidents Except Drug Posioning (V01-X39, X43, X45-X59, Y85-Y86)'), ({'Age': '16.7', 'Sex': 'F', 'Person': 'Hispanic'}, 'Cerebrovascular Disease (Stroke: I60-I69)'), ({'Age': '.', 'Sex': 'M', 'Person': 'Other Race/ Ethnicity'}, 'Malignant Neoplasms (Cancer: C00-C97)'), ({'Age': '34.7', 'Sex': 'F', 'Person': 'Black Non-Hispanic'}, 'Diabetes Mellitus (E10-E14)'), ({'Age': '.', 'Sex': 'F', 'Person': 'Not Stated/Unknown'}, 'Chronic Liver Disease and Cirrhosis (K70, K73)'), ({'Age': '17.9', 'Sex': 'M', 'Person': 'White Non-Hispanic'}, 'Accidents Except Drug Posioning (V01-X39, X43, X45-X59, Y85-Y86)'), ({'Age': '.', 'Sex': 'M', 'Person': 'Not Stated/Unknown'}, 'Accidents Except Drug Posioning (V01-X39, X43, X45-X59, Y85-Y86)'), ({'Age': '20.9', 'Sex': 'M', 'Person': 'Hispanic'}, 'Cerebrovascular Disease (Stroke: I60-I69)'), ({'Age': '21.6', 'Sex': 'M', 'Person': 'Black Non-Hispanic'}, 'Essential Hypertension and Renal Diseases (I10, I12)'), ({'Age': '189.2', 'Sex': 'F', 'Person': 'White Non-Hispanic'}, 'Diseases of Heart (I00-I09, I11, I13, I20-I51)'), ({'Age': '.', 'Sex': 'F', 'Person': 'Not Stated/Unknown'}, 'Diabetes Mellitus (E10-E14)'), ({'Age': '150', 'Sex': 'M', 'Person': 'Hispanic'}, 'Malignant Neoplasms (Cancer: C00-C97)'), ({'Age': '8.8', 'Sex': 'F', 'Person': 'White Non-Hispanic'}, 'Diabetes Mellitus (E10-E14)'), ({'Age': '7.3', 'Sex': 'M', 'Person': 'Asian and Pacific Islander'}, 'Intentional Self-Harm (Suicide: X60-X84, Y87.0)'), ({'Age': '15.6', 'Sex': 'M', 'Person': 'White Non-Hispanic'}, 'Diabetes Mellitus (E10-E14)'), ({'Age': '8.1', 'Sex': 'F', 'Person': 'Black Non-Hispanic'}, 'Accidents Except Drug Posioning (V01-X39, X43, X45-X59, Y85-Y86)'), ({'Age': '113.4', 'Sex': 'F', 'Person': 'Black Non-Hispanic'}, 'All Other Causes'), ({'Age': '.', 'Sex': 'M', 'Person': 'Other Race/ Ethnicity'}, 'Malignant Neoplasms (Cancer: C00-C97)'), ({'Age': '.', 'Sex': 'M', 'Person': 'Not Stated/Unknown'}, 'Diseases of Heart (I00-I09, I11, I13, I20-I51)'), ({'Age': '7.8', 'Sex': 'F', 'Person': 'White Non-Hispanic'}, 'Accidents Except Drug Posioning (V01-X39, X43, X45-X59, Y85-Y86)'), ({'Age': '.', 'Sex': 'F', 'Person': 'Other Race/ Ethnicity'}, 'Cerebrovascular Disease (Stroke: I60-I69)'), ({'Age': '8.3', 'Sex': 'F', 'Person': 'White Non-Hispanic'}, 'Accidents Except Drug Posioning (V01-X39, X43, X45-X59, Y85-Y86)'), ({'Age': '18.6', 'Sex': 'F', 'Person': 'Black Non-Hispanic'}, 'Chronic Lower Respiratory Diseases (J40-J47)'), ({'Age': '165.9', 'Sex': 'M', 'Person': 'Hispanic'}, 'Malignant Neoplasms (Cancer: C00-C97)'), ({'Age': '9.3', 'Sex': 'F', 'Person': 'Hispanic'}, 'Essential Hypertension and Renal Diseases (I10, I12)'), ({'Age': '26.6', 'Sex': 'M', 'Person': 'Hispanic'}, 'Influenza (Flu) and Pneumonia (J09-J18)'), ({'Age': '229.4', 'Sex': 'M', 'Person': 'Black Non-Hispanic'}, 'Malignant Neoplasms (Cancer: C00-C97)'), ({'Age': '19.2', 'Sex': 'M', 'Person': 'Hispanic'}, 'Chronic Lower Respiratory Diseases (J40-J47)'), ({'Age': '.', 'Sex': 'F', 'Person': 'Other Race/ Ethnicity'}, 'Essential Hypertension and Renal Diseases (I10, I12)'), ({'Age': '.', 'Sex': 'M', 'Person': 'Not Stated/Unknown'}, 'Accidents Except Drug Posioning (V01-X39, X43, X45-X59, Y85-Y86)'), ({'Age': '.', 'Sex': 'F', 'Person': 'Not Stated/Unknown'}, 'Essential Hypertension and Renal Diseases (I10, I12)'), ({'Age': '118.4', 'Sex': 'F', 'Person': 'Hispanic'}, 'Diseases of Heart (I00-I09, I11, I13, I20-I51)'), ({'Age': '16.8', 'Sex': 'F', 'Person': 'Hispanic'}, 'Chronic Lower Respiratory Diseases (J40-J47)'), ({'Age': '41', 'Sex': 'M', 'Person': 'Black Non-Hispanic'}, 'Diabetes Mellitus (E10-E14)'), ({'Age': '.', 'Sex': 'F', 'Person': 'Not Stated/Unknown'}, 'Diabetes Mellitus (E10-E14)'), ({'Age': '13', 'Sex': 'M', 'Person': 'Hispanic'}, 'Mental and Behavioral Disorders due to Accidental Poisoning and Other Psychoactive Substance Use (F11-F16, F18-F19, X40-X42, X44)'), ({'Age': '33.1', 'Sex': 'M', 'Person': 'Hispanic'}, 'Influenza (Flu) and Pneumonia (J09-J18)'), ({'Age': '9.8', 'Sex': 'F', 'Person': 'White Non-Hispanic'}, 'Diabetes Mellitus (E10-E14)'), ({'Age': '.', 'Sex': 'F', 'Person': 'Other Race/ Ethnicity'}, 'Insitu or Benign / Uncertain Neoplasms (D00-D48)'), ({'Age': '18.1', 'Sex': 'M', 'Person': 'White Non-Hispanic'}, 'Diabetes Mellitus (E10-E14)')]\n"
     ]
    }
   ],
   "source": [
    "print(Cause_Death)"
   ]
  },
  {
   "cell_type": "code",
   "execution_count": 92,
   "id": "431e7084",
   "metadata": {},
   "outputs": [
    {
     "name": "stdout",
     "output_type": "stream",
     "text": [
      "<zip object at 0x000001A5DA4036C0>\n"
     ]
    }
   ],
   "source": [
    "print (zipped_feature_and_labels)"
   ]
  },
  {
   "cell_type": "code",
   "execution_count": 28,
   "id": "25b52068",
   "metadata": {},
   "outputs": [],
   "source": [
    "# always shuffle your featureset before classifying!\n",
    "import random\n"
   ]
  },
  {
   "cell_type": "code",
   "execution_count": 36,
   "id": "eda2c249",
   "metadata": {},
   "outputs": [],
   "source": [
    "random.shuffle(Cause_Death)\n"
   ]
  },
  {
   "cell_type": "code",
   "execution_count": 37,
   "id": "71ff76ad",
   "metadata": {},
   "outputs": [
    {
     "data": {
      "text/plain": [
       "875"
      ]
     },
     "execution_count": 37,
     "metadata": {},
     "output_type": "execute_result"
    }
   ],
   "source": [
    "import math\n",
    "split_num = math.floor (len(Cause_Death)*.8)\n",
    "split_num\n"
   ]
  },
  {
   "cell_type": "code",
   "execution_count": 38,
   "id": "fa9c1314",
   "metadata": {},
   "outputs": [],
   "source": [
    "# 80% of my data\n",
    "training_set = Cause_Death[:split_num]\n",
    "# 20% of my data\n",
    "testing_set =  Cause_Death[split_num:]"
   ]
  },
  {
   "cell_type": "code",
   "execution_count": 39,
   "id": "e0ff64b1",
   "metadata": {},
   "outputs": [],
   "source": [
    "import nltk\n",
    "#build our first classififer\n",
    "# build a classifier based on the training set\n",
    "\n",
    "classifier = nltk.NaiveBayesClassifier.train(training_set)"
   ]
  },
  {
   "cell_type": "code",
   "execution_count": 45,
   "id": "b101cf06",
   "metadata": {},
   "outputs": [
    {
     "name": "stdout",
     "output_type": "stream",
     "text": [
      "      Year                                      Leading Cause Sex  \\\n",
      "0     2011       Chronic Lower Respiratory Diseases (J40-J47)   M   \n",
      "1     2008              Malignant Neoplasms (Cancer: C00-C97)   M   \n",
      "2     2010     Chronic Liver Disease and Cirrhosis (K70, K73)   M   \n",
      "3     2014              Malignant Neoplasms (Cancer: C00-C97)   M   \n",
      "4     2014  Certain Conditions originating in the Perinata...   M   \n",
      "...    ...                                                ...  ..   \n",
      "1089  2011  Mental and Behavioral Disorders due to Acciden...   M   \n",
      "1090  2013            Influenza (Flu) and Pneumonia (J09-J18)   M   \n",
      "1091  2007                        Diabetes Mellitus (E10-E14)   F   \n",
      "1092  2010   Insitu or Benign / Uncertain Neoplasms (D00-D48)   F   \n",
      "1093  2012                        Diabetes Mellitus (E10-E14)   M   \n",
      "\n",
      "             Race Ethnicity Deaths Death Rate Age Adjusted Death Rate  \n",
      "0        White Non-Hispanic    444       33.3                    27.8  \n",
      "1        White Non-Hispanic   3361      250.4                   214.3  \n",
      "2                  Hispanic    150       13.1                    17.6  \n",
      "3                  Hispanic   1146         96                   143.5  \n",
      "4        Not Stated/Unknown     25          .                       .  \n",
      "...                     ...    ...        ...                     ...  \n",
      "1089               Hispanic    145       12.6                      13  \n",
      "1090               Hispanic    233       19.7                    33.1  \n",
      "1091     White Non-Hispanic    231       16.1                     9.8  \n",
      "1092  Other Race/ Ethnicity      .          .                       .  \n",
      "1093     White Non-Hispanic    292       21.8                    18.1  \n",
      "\n",
      "[1094 rows x 7 columns]\n"
     ]
    }
   ],
   "source": [
    "print (NYC_Death)"
   ]
  },
  {
   "cell_type": "code",
   "execution_count": 47,
   "id": "e834a3e3",
   "metadata": {},
   "outputs": [
    {
     "data": {
      "text/plain": [
       "'Mental and Behavioral Disorders due to Accidental Poisoning and Other Psychoactive Substance Use (F11-F16, F18-F19, X40-X42, X44)'"
      ]
     },
     "execution_count": 47,
     "metadata": {},
     "output_type": "execute_result"
    }
   ],
   "source": [
    "classifier.classify(death_features('13', 'M', 'Hispanic'))"
   ]
  },
  {
   "cell_type": "code",
   "execution_count": 48,
   "id": "f78e1575",
   "metadata": {},
   "outputs": [
    {
     "name": "stdout",
     "output_type": "stream",
     "text": [
      "0.5108571428571429\n"
     ]
    }
   ],
   "source": [
    "# how accurate is our classifier?\n",
    "print(nltk.classify.accuracy(classifier, training_set))"
   ]
  },
  {
   "cell_type": "code",
   "execution_count": 49,
   "id": "6ed0574a",
   "metadata": {},
   "outputs": [
    {
     "name": "stdout",
     "output_type": "stream",
     "text": [
      "Most Informative Features\n",
      "                     Sex = 'M'            Mental : Alzhei =     15.0 : 1.0\n",
      "                     Age = '.'            Influe : Viral  =     13.4 : 1.0\n",
      "                  Person = 'Not Stated/Unknown' Certai : Nephri =      6.6 : 1.0\n",
      "                     Sex = 'F'            Alzhei : Assaul =      5.1 : 1.0\n",
      "                  Person = 'Other Race/ Ethnicity' Aortic : Essent =      4.8 : 1.0\n",
      "                  Person = 'Hispanic'     Human  : Assaul =      4.7 : 1.0\n",
      "                  Person = 'White Non-Hispanic' Mental : Nephri =      3.7 : 1.0\n",
      "                  Person = 'Asian and Pacific Islander' Intent : Septic =      3.7 : 1.0\n",
      "                  Person = 'Black Non-Hispanic' Nephri : Mental =      3.5 : 1.0\n",
      "                     Age = '14.1'         Cerebr : Influe =      2.5 : 1.0\n",
      "                     Age = '6.3'          Nephri : Chroni =      2.1 : 1.0\n",
      "                     Age = '15.5'         Mental : Diabet =      2.0 : 1.0\n"
     ]
    }
   ],
   "source": [
    "# show which features were most important for the algorithm\n",
    "classifier.show_most_informative_features(12)"
   ]
  },
  {
   "cell_type": "code",
   "execution_count": null,
   "id": "a68112cf",
   "metadata": {},
   "outputs": [],
   "source": []
  },
  {
   "cell_type": "code",
   "execution_count": null,
   "id": "91c46fd7",
   "metadata": {},
   "outputs": [],
   "source": []
  },
  {
   "cell_type": "code",
   "execution_count": null,
   "id": "1d4c2090",
   "metadata": {},
   "outputs": [],
   "source": []
  }
 ],
 "metadata": {
  "kernelspec": {
   "display_name": "Python 3 (ipykernel)",
   "language": "python",
   "name": "python3"
  },
  "language_info": {
   "codemirror_mode": {
    "name": "ipython",
    "version": 3
   },
   "file_extension": ".py",
   "mimetype": "text/x-python",
   "name": "python",
   "nbconvert_exporter": "python",
   "pygments_lexer": "ipython3",
   "version": "3.11.0"
  }
 },
 "nbformat": 4,
 "nbformat_minor": 5
}
